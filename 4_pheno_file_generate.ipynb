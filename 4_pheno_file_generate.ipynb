{
 "cells": [
  {
   "cell_type": "markdown",
   "metadata": {},
   "source": [
    "jupyter nbconvert 4_pheno_file_generate.ipynb --to script\n",
    "\n",
    "cd /data/ch6845/MHC*;screen -S assoc;\n",
    "\n",
    "for i in {0..10};do python 4_association.py $i;done\n",
    "for i in {00..100};do python 4_pheno_file_generate.py $i;done\n",
    "\n",
    "tar -cvf distribution.tar data/out_pheno/*svg "
   ]
  },
  {
   "cell_type": "code",
   "execution_count": 1,
   "metadata": {},
   "outputs": [],
   "source": [
    "import os\n",
    "import sys\n",
    "\n",
    "import logging\n",
    "import re\n",
    "import pathlib\n",
    "\n",
    "import datetime\n",
    "\n",
    "import numpy as np\n",
    "import pandas as pd\n",
    "from scipy.stats import pearsonr\n",
    "\n",
    "import matplotlib.pyplot as plt\n",
    "\n",
    "from pyplink import PyPlink\n",
    "\n",
    "from basic_tools import *"
   ]
  },
  {
   "cell_type": "markdown",
   "metadata": {},
   "source": [
    "# load plink, aa and check integrity"
   ]
  },
  {
   "cell_type": "code",
   "execution_count": 2,
   "metadata": {},
   "outputs": [],
   "source": [
    "plink_KCHIP_HLA_AA_SNP_1000G=PyPlink(plink_KCHIP_HLA_AA_SNP_1000G_path)\n",
    "plink_KCHIP_HLA_AA_SNP_1000G_fam=plink_KCHIP_HLA_AA_SNP_1000G.get_fam().astype({'fid':str,'iid':str}).rename(columns={'fid':'FID','iid':'IID'})\n",
    "plink_KCHIP_HLA_AA_SNP_1000G_bim=plink_KCHIP_HLA_AA_SNP_1000G.get_bim()"
   ]
  },
  {
   "cell_type": "code",
   "execution_count": 3,
   "metadata": {},
   "outputs": [],
   "source": [
    "phenotypes=pd.read_csv(pheno_all_file_path,sep='\\t')\n",
    "phenotypes=phenotypes.set_index('ID').loc[plink_KCHIP_HLA_AA_SNP_1000G_fam['IID']]\n",
    "#binary_continuous_traits=sorted(phenotypes.columns[~phenotypes.columns.str.contains('x_ray')])\n",
    "#binary_continuous_traits    "
   ]
  },
  {
   "cell_type": "code",
<<<<<<< HEAD
=======
   "execution_count": 19,
   "metadata": {},
   "outputs": [
    {
     "data": {
      "text/plain": [
       "(array([3, 1, 2]), array([2, 1]))"
      ]
     },
     "execution_count": 19,
     "metadata": {},
     "output_type": "execute_result"
    }
   ],
   "source": [
    "phenotypes['cohort'].unique(),phenotypes['sex'].unique()"
   ]
  },
  {
   "cell_type": "code",
   "execution_count": 21,
   "metadata": {},
   "outputs": [
    {
     "data": {
      "text/plain": [
       "0"
      ]
     },
     "execution_count": 21,
     "metadata": {},
     "output_type": "execute_result"
    }
   ],
   "source": [
    "phenotypes['sex'].isnull().sum()"
   ]
  },
  {
   "cell_type": "code",
   "execution_count": 23,
   "metadata": {},
   "outputs": [
    {
     "data": {
      "text/plain": [
       "(7607, 99159, 18907)"
      ]
     },
     "execution_count": 23,
     "metadata": {},
     "output_type": "execute_result"
    }
   ],
   "source": [
    "(phenotypes['cohort']==1).sum(),\\\n",
    "(phenotypes['cohort']==2).sum(),\\\n",
    "(phenotypes['cohort']==3).sum()"
   ]
  },
  {
   "cell_type": "code",
   "execution_count": 25,
   "metadata": {},
   "outputs": [
    {
     "data": {
      "text/plain": [
       "125673"
      ]
     },
     "execution_count": 25,
     "metadata": {},
     "output_type": "execute_result"
    }
   ],
   "source": [
    "(phenotypes['cohort']==1).sum()+\\\n",
    "(phenotypes['cohort']==2).sum()+\\\n",
    "(phenotypes['cohort']==3).sum()"
   ]
  },
  {
   "cell_type": "code",
   "execution_count": 24,
   "metadata": {},
   "outputs": [
    {
     "data": {
      "text/plain": [
       "124863"
      ]
     },
     "execution_count": 24,
     "metadata": {},
     "output_type": "execute_result"
    }
   ],
   "source": [
    "99159+18097+7607"
   ]
  },
  {
   "cell_type": "code",
   "execution_count": 17,
   "metadata": {},
   "outputs": [
    {
     "data": {
      "text/plain": [
       "7085"
      ]
     },
     "execution_count": 17,
     "metadata": {},
     "output_type": "execute_result"
    }
   ],
   "source": [
    "((phenotypes['cohort']==3)&(phenotypes['sex']==1)).sum()"
   ]
  },
  {
   "cell_type": "code",
   "execution_count": 7,
   "metadata": {},
   "outputs": [
    {
     "data": {
      "text/plain": [
       "7607"
      ]
     },
     "execution_count": 7,
     "metadata": {},
     "output_type": "execute_result"
    }
   ],
   "source": [
    "(phenotypes['cohort']==1).sum()"
   ]
  },
  {
   "cell_type": "code",
>>>>>>> 6d0d20e60b476f0cffed533959f4fe129755f61c
   "execution_count": 4,
   "metadata": {},
   "outputs": [
    {
     "data": {
      "text/plain": [
       "(Index(['sex', 'asthma', 'chronic_bronchitis', 'allergic_disease',\n",
       "        'stomach_cancer', 'liver_cancer', 'colorectal_cancer', 'breast_cancer',\n",
       "        'cervical_cancer', 'lung_cancer', 'thyroid_cancer', 'prostate_cancer',\n",
       "        'bladder_cancer', 'colon_polyps',\n",
       "        'angina_pectoris_myocardial_infarction', 'hypertension', 'stroke',\n",
       "        'transient_ischemic_attacks', 'acute_liver_disease', 'diabetes',\n",
       "        't2_diabetes', 'hyperlipidemia', 'thyroid_disease', 'arthritis',\n",
       "        'rheumatoid_arthritis', 'osteoporosis', 'parkinson',\n",
       "        'chronic_gastritis_stomach_ulcer', 'duodenal_ulcer',\n",
       "        'urinary_tract_infection', 'hysterectomy', 'ovarian_extraction',\n",
       "        'big_baby', 'small_baby', 'blood_in_urine', 'glucose_in_urine',\n",
       "        'protein_in_urine', 'heart_failure', 'peripheral_vascular_diseases',\n",
       "        'cataract', 'glaucoma', 'renal_failure', 'fatty_liver', 'copd',\n",
       "        'tuberculosis', 'benign_prostatic_hyperplasia', 'gout', 'fracture',\n",
       "        'cholelithiasis_cholecystitis', 'periodontal_disease', 'insomnia',\n",
       "        'neurosis'],\n",
       "       dtype='object'), 52)"
      ]
     },
     "execution_count": 4,
     "metadata": {},
     "output_type": "execute_result"
    }
   ],
   "source": [
    "binary_traits=phenotypes.columns[phenotypes.apply(lambda x: (len(x.value_counts())<3),axis=0)]\n",
    "binary_traits,len(binary_traits)"
   ]
  },
  {
   "cell_type": "code",
   "execution_count": 5,
   "metadata": {},
   "outputs": [
    {
     "data": {
      "text/plain": [
       "Index(['age', 'pwi_total', 'height', 'hip_circumference',\n",
       "       'waist_circumference', 'weight', 'systolic_blood_pressure',\n",
       "       'diastolic_blood_pressure', 'pulse', 'menarche_onset_age',\n",
       "       'menopause_age', 'menopause_cycle', 'child_delivery_number',\n",
       "       'child_present', 'child_dead', 'hematocrit', 'hemoglobin', 'platelet',\n",
       "       'rbc', 'wbc', 'mcv', 'mch', 'mchc', 'total_bilirubin', 'bun',\n",
       "       'creatinine', 'alt', 'ast', 'gtp', 'total_cholesterol',\n",
       "       'hdl_cholesterol', 'hba1c', 'freet4', 'tsh', 'triglyceride', 'albumin',\n",
       "       'hscrp', 'renin', 'sleep_duration', 'grip_strength', 'FVC_predicted',\n",
       "       'FEV_predicted', 'FEV_over_FVC_predicted', 'MVV_predicted',\n",
       "       'bone_density_distal_sos', 'bone_density_midshaft_sos',\n",
       "       'protein_in_blood', 'cohort', 'bmi'],\n",
       "      dtype='object')"
      ]
     },
     "execution_count": 5,
     "metadata": {},
     "output_type": "execute_result"
    }
   ],
   "source": [
    "#continuous_traits=phenotypes.columns[phenotypes.apply(lambda x: (x.name!='cohort')&(x.name!='age') & (len(x.value_counts())>=3),axis=0)]\n",
    "continuous_traits=phenotypes.columns[phenotypes.apply(lambda x: (len(x.value_counts())>=3),axis=0)]\n",
    "continuous_traits"
   ]
  },
  {
   "cell_type": "code",
   "execution_count": 6,
   "metadata": {},
   "outputs": [
    {
     "data": {
      "text/plain": [
       "['FEV_over_FVC_predicted',\n",
       " 'FEV_predicted',\n",
       " 'FVC_predicted',\n",
       " 'MVV_predicted',\n",
       " 'acute_liver_disease',\n",
       " 'age',\n",
       " 'albumin',\n",
       " 'allergic_disease',\n",
       " 'alt',\n",
       " 'angina_pectoris_myocardial_infarction',\n",
       " 'arthritis',\n",
       " 'ast',\n",
       " 'asthma',\n",
       " 'benign_prostatic_hyperplasia',\n",
       " 'big_baby',\n",
       " 'bladder_cancer',\n",
       " 'blood_in_urine',\n",
       " 'bmi',\n",
       " 'bone_density_distal_sos',\n",
       " 'bone_density_midshaft_sos',\n",
       " 'breast_cancer',\n",
       " 'bun',\n",
       " 'cataract',\n",
       " 'cervical_cancer',\n",
       " 'child_dead',\n",
       " 'child_delivery_number',\n",
       " 'child_present',\n",
       " 'cholelithiasis_cholecystitis',\n",
       " 'chronic_bronchitis',\n",
       " 'chronic_gastritis_stomach_ulcer',\n",
       " 'cohort',\n",
       " 'colon_polyps',\n",
       " 'colorectal_cancer',\n",
       " 'copd',\n",
       " 'creatinine',\n",
       " 'diabetes',\n",
       " 'diastolic_blood_pressure',\n",
       " 'duodenal_ulcer',\n",
       " 'fatty_liver',\n",
       " 'fracture',\n",
       " 'freet4',\n",
       " 'glaucoma',\n",
       " 'glucose_in_urine',\n",
       " 'gout',\n",
       " 'grip_strength',\n",
       " 'gtp',\n",
       " 'hba1c',\n",
       " 'hdl_cholesterol',\n",
       " 'heart_failure',\n",
       " 'height',\n",
       " 'hematocrit',\n",
       " 'hemoglobin',\n",
       " 'hip_circumference',\n",
       " 'hscrp',\n",
       " 'hyperlipidemia',\n",
       " 'hypertension',\n",
       " 'hysterectomy',\n",
       " 'insomnia',\n",
       " 'liver_cancer',\n",
       " 'lung_cancer',\n",
       " 'mch',\n",
       " 'mchc',\n",
       " 'mcv',\n",
       " 'menarche_onset_age',\n",
       " 'menopause_age',\n",
       " 'menopause_cycle',\n",
       " 'neurosis',\n",
       " 'osteoporosis',\n",
       " 'ovarian_extraction',\n",
       " 'parkinson',\n",
       " 'periodontal_disease',\n",
       " 'peripheral_vascular_diseases',\n",
       " 'platelet',\n",
       " 'prostate_cancer',\n",
       " 'protein_in_blood',\n",
       " 'protein_in_urine',\n",
       " 'pulse',\n",
       " 'pwi_total',\n",
       " 'rbc',\n",
       " 'renal_failure',\n",
       " 'renin',\n",
       " 'rheumatoid_arthritis',\n",
       " 'sex',\n",
       " 'sleep_duration',\n",
       " 'small_baby',\n",
       " 'stomach_cancer',\n",
       " 'stroke',\n",
       " 'systolic_blood_pressure',\n",
       " 't2_diabetes',\n",
       " 'thyroid_cancer',\n",
       " 'thyroid_disease',\n",
       " 'total_bilirubin',\n",
       " 'total_cholesterol',\n",
       " 'transient_ischemic_attacks',\n",
       " 'triglyceride',\n",
       " 'tsh',\n",
       " 'tuberculosis',\n",
       " 'urinary_tract_infection',\n",
       " 'waist_circumference',\n",
       " 'wbc',\n",
       " 'weight']"
      ]
     },
     "execution_count": 6,
     "metadata": {},
     "output_type": "execute_result"
    }
   ],
   "source": [
    "binary_continuous_traits=sorted(binary_traits.union(continuous_traits))\n",
    "binary_continuous_traits"
   ]
  },
  {
   "cell_type": "code",
   "execution_count": 7,
   "metadata": {},
   "outputs": [
    {
     "data": {
      "text/plain": [
       "102"
      ]
     },
     "execution_count": 7,
     "metadata": {},
     "output_type": "execute_result"
    }
   ],
   "source": [
    "len(binary_continuous_traits)"
   ]
  },
  {
   "cell_type": "markdown",
   "metadata": {},
   "source": [
    "# parse parameter"
   ]
  },
  {
   "cell_type": "code",
<<<<<<< HEAD
   "execution_count": 23,
=======
   "execution_count": 26,
>>>>>>> 6d0d20e60b476f0cffed533959f4fe129755f61c
   "metadata": {},
   "outputs": [],
   "source": [
    "if 'ipykernel' in sys.argv[0]:\n",
    "    ipykernel=True\n",
<<<<<<< HEAD
    "    phenotype_name='t2_diabetes'\n",
=======
    "    phenotype_name='arthritis'\n",
>>>>>>> 6d0d20e60b476f0cffed533959f4fe129755f61c
    "    #phenotype_name='height'\n",
    "    \n",
    "else:\n",
    "    ipykernel=False\n",
    "    phenotype_name=sys.argv[1]\n",
    "    if phenotype_name.isdigit():\n",
    "        phenotype_name=int(phenotype_name)\n",
    "        phenotype_name=binary_continuous_traits[phenotype_name]\n",
    "\n",
    "if phenotype_name in binary_traits:\n",
    "    phenotype_type='binary'\n",
    "elif phenotype_name in continuous_traits:\n",
    "    phenotype_type='continuous'        "
   ]
  },
  {
   "cell_type": "code",
<<<<<<< HEAD
   "execution_count": 24,
=======
   "execution_count": 27,
   "metadata": {},
   "outputs": [],
   "source": [
    "#binary_continuous_traits"
   ]
  },
  {
   "cell_type": "code",
   "execution_count": 28,
>>>>>>> 6d0d20e60b476f0cffed533959f4fe129755f61c
   "metadata": {},
   "outputs": [],
   "source": [
    "#data_out_assoc_phenotype_path=data_out_assoc_path+phenotype_name+'/'\n",
    "#pathlib.Path(data_out_assoc_phenotype_path).mkdir(parents=True, exist_ok=True)"
   ]
  },
  {
   "cell_type": "code",
<<<<<<< HEAD
   "execution_count": 10,
=======
   "execution_count": 29,
>>>>>>> 6d0d20e60b476f0cffed533959f4fe129755f61c
   "metadata": {},
   "outputs": [],
   "source": [
    "log = logging.getLogger('logger')\n",
    "log.setLevel(logging.DEBUG)\n",
    "\n",
    "log_file_name=datetime.datetime.now().strftime('%Y%m%d_%H%M%S')+'.log'\n",
    "log_file_path=data_out_pheno_path+'4_pheno_file_generate.log'\n",
    "fileHandler = logging.FileHandler(log_file_path)\n",
    "streamHandler = logging.StreamHandler()\n",
    "\n",
    "formatter = logging.Formatter(' %(asctime)s [%(levelname)s] %(lineno)d > %(message)s')\n",
    "fileHandler.setFormatter(formatter)\n",
    "streamHandler.setFormatter(formatter)\n",
    "\n",
    "log.addHandler(fileHandler)\n",
    "log.addHandler(streamHandler)"
   ]
  },
  {
   "cell_type": "code",
<<<<<<< HEAD
   "execution_count": 25,
=======
   "execution_count": 30,
>>>>>>> 6d0d20e60b476f0cffed533959f4fe129755f61c
   "metadata": {},
   "outputs": [
    {
     "name": "stderr",
     "output_type": "stream",
     "text": [
<<<<<<< HEAD
      " 2020-07-08 20:27:46,243 [INFO] 1 > phenotype_name: t2_diabetes, phenotype_type:binary\n"
=======
      " 2020-12-09 15:53:12,243 [INFO] 1 > phenotype_name: arthritis, phenotype_type:binary\n",
      " 2020-12-09 15:53:12,243 [INFO] 1 > phenotype_name: arthritis, phenotype_type:binary\n"
>>>>>>> 6d0d20e60b476f0cffed533959f4fe129755f61c
     ]
    }
   ],
   "source": [
    "log.info(\"phenotype_name: {}, phenotype_type:{}\".format(phenotype_name,phenotype_type))"
   ]
  },
  {
   "cell_type": "code",
<<<<<<< HEAD
   "execution_count": 26,
=======
   "execution_count": 31,
>>>>>>> 6d0d20e60b476f0cffed533959f4fe129755f61c
   "metadata": {},
   "outputs": [
    {
     "name": "stderr",
     "output_type": "stream",
     "text": [
<<<<<<< HEAD
      " 2020-07-08 20:27:47,784 [INFO] 5 > ------------------per cohort---------------------------\n",
      " 2020-07-08 20:27:47,797 [INFO] 9 > cohort: 1,   511/ 7607 (6.717%)\n",
      " 2020-07-08 20:27:47,800 [INFO] 22 > Total case:511\n",
      " 2020-07-08 20:27:47,801 [INFO] 5 > ------------------per cohort---------------------------\n",
      " 2020-07-08 20:27:47,812 [INFO] 9 > cohort: 2,  6410/99159 (6.464%)\n",
      " 2020-07-08 20:27:47,816 [INFO] 22 > Total case:6921\n",
      " 2020-07-08 20:27:47,817 [INFO] 5 > ------------------per cohort---------------------------\n",
      " 2020-07-08 20:27:47,828 [INFO] 9 > cohort: 3,  1741/18907 (9.208%)\n",
      " 2020-07-08 20:27:47,831 [INFO] 22 > Total case:8662\n",
      " 2020-07-08 20:27:47,836 [INFO] 23 > phenotype defined\n",
      "1.0    117011\n",
      "2.0      8662\n",
=======
      " 2020-12-09 15:53:12,474 [INFO] 5 > ------------------per cohort---------------------------\n",
      " 2020-12-09 15:53:12,474 [INFO] 5 > ------------------per cohort---------------------------\n",
      " 2020-12-09 15:53:12,496 [INFO] 9 > cohort: 1,  1100/ 7607 (14.460%)\n",
      " 2020-12-09 15:53:12,496 [INFO] 9 > cohort: 1,  1100/ 7607 (14.460%)\n",
      " 2020-12-09 15:53:12,502 [INFO] 22 > Total case:1100\n",
      " 2020-12-09 15:53:12,502 [INFO] 22 > Total case:1100\n",
      " 2020-12-09 15:53:12,504 [INFO] 5 > ------------------per cohort---------------------------\n",
      " 2020-12-09 15:53:12,504 [INFO] 5 > ------------------per cohort---------------------------\n",
      " 2020-12-09 15:53:12,524 [INFO] 9 > cohort: 2,  8854/99159 (8.929%)\n",
      " 2020-12-09 15:53:12,524 [INFO] 9 > cohort: 2,  8854/99159 (8.929%)\n",
      " 2020-12-09 15:53:12,531 [INFO] 22 > Total case:9954\n",
      " 2020-12-09 15:53:12,531 [INFO] 22 > Total case:9954\n",
      " 2020-12-09 15:53:12,533 [INFO] 5 > ------------------per cohort---------------------------\n",
      " 2020-12-09 15:53:12,533 [INFO] 5 > ------------------per cohort---------------------------\n",
      " 2020-12-09 15:53:12,553 [INFO] 9 > cohort: 3,  1394/18907 (7.373%)\n",
      " 2020-12-09 15:53:12,553 [INFO] 9 > cohort: 3,  1394/18907 (7.373%)\n",
      " 2020-12-09 15:53:12,559 [INFO] 22 > Total case:11348\n",
      " 2020-12-09 15:53:12,559 [INFO] 22 > Total case:11348\n",
      " 2020-12-09 15:53:12,567 [INFO] 23 > phenotype defined\n",
      "1.0    114325\n",
      "2.0     11348\n",
      "dtype: int64\n",
      " 2020-12-09 15:53:12,567 [INFO] 23 > phenotype defined\n",
      "1.0    114325\n",
      "2.0     11348\n",
>>>>>>> 6d0d20e60b476f0cffed533959f4fe129755f61c
      "dtype: int64\n"
     ]
    }
   ],
   "source": [
    "phenotype_define=np.full(len(phenotypes.index),np.nan)\n",
    "\n",
    "if phenotype_type=='binary':\n",
    "    for cohort in sorted(phenotypes['cohort'].unique()):\n",
    "        log.info('------------------per cohort---------------------------')\n",
    "        cohort_check=(phenotypes['cohort']==cohort)\n",
    "        cohort_case_check=(phenotypes['cohort']==cohort)&(phenotypes[phenotype_name]==2)\n",
    "        cohort_control_check=(phenotypes['cohort']==cohort)&(~(phenotypes[phenotype_name]==2))\n",
    "        log.info('cohort: {}, {:5d}/{:5d} ({:.3f}%)'.format(cohort,cohort_case_check.sum(),cohort_check.sum(),100*cohort_case_check.sum()/cohort_check.sum()))\n",
    "\n",
    "        if cohort_case_check.sum()>0:\n",
    "            phenotype_define[cohort_case_check]=2\n",
    "            phenotype_define[cohort_control_check]=1\n",
    "        elif np.isnan(cohort):\n",
    "            raise\n",
    "            cohort_check_temp=(phenotypes['cohort'].isnull())\n",
    "            phenotype_define[cohort_check_temp]=-9\n",
    "            log.info('missing individuals founded: {}'.format(cohort_check_temp.sum()))\n",
    "        else:\n",
    "            log.info('cohort {} ignored. it may due to nonexistence of questionnaire'.format(cohort))\n",
    "\n",
    "        log.info('Total case:'+str((phenotype_define==2).sum()))\n",
    "    log.info(\"phenotype defined\\n\"+str(pd.Series(phenotype_define).value_counts()))\n",
    "    \n",
    "elif phenotype_type=='continuous':\n",
    "    for cohort in sorted(phenotypes['cohort'].unique()):\n",
    "        log.info('------------------per cohort---------------------------')\n",
    "        cohort_check=(phenotypes['cohort']==cohort)\n",
    "        cohort_notnull_check=(phenotypes['cohort']==cohort)&(~(phenotypes[phenotype_name].isnull()))\n",
    "        #print(cohort_notnull_check,type(cohort_notnull_check))\n",
    "        log.info('cohort: {}, {:5d}/{:5d} ({:.3f}%)'.format(cohort,cohort_notnull_check.sum(),cohort_check.sum(),100*cohort_notnull_check.sum()/cohort_check.sum()))\n",
    "\n",
    "        if cohort_notnull_check.sum()>0:\n",
    "            phenotype_define[cohort_notnull_check]=phenotypes[phenotype_name][cohort_notnull_check]\n",
    "        elif np.isnan(cohort):\n",
    "            raise\n",
    "            cohort_check_temp=(phenotypes['cohort'].isnull())\n",
    "            phenotype_define[cohort_check_temp]=-9\n",
    "            log.info('missing individuals founded: {}'.format(cohort_check_temp.sum()))\n",
    "        else:\n",
    "            log.info('cohort {} ignored. it may due to nonexistence of questionnaire'.format(cohort))\n",
    "\n",
    "        log.info('Total values: {}'.format((~np.isnan(phenotype_define)).sum()))\n",
    "    \n",
    "    log.info(\"median:{:.3f}, mean: {:.3f}, std: {:.3f}, max: {:.3f}, min: {:.3f}\".format(pd.Series(phenotype_define).median(),\n",
    "                                                         pd.Series(phenotype_define).mean(),\n",
    "                                                         pd.Series(phenotype_define).std(),\n",
    "                                                         pd.Series(phenotype_define).max(),\n",
    "                                                         pd.Series(phenotype_define).min()\n",
    "                                                        )\n",
    "         )\n",
    "    if phenotype_name!='child_dead':\n",
    "        log.info(\">mean+3std:{}, <mean-3std:{}\".format((phenotype_define>(pd.Series(phenotype_define).mean()+3*pd.Series(phenotype_define).std())).sum(),\n",
    "                                                    (phenotype_define<(pd.Series(phenotype_define).mean()-3*pd.Series(phenotype_define).std())).sum()\n",
    "                                                   )\n",
    "             )\n",
    "        phenotype_define[phenotype_define>(pd.Series(phenotype_define).mean()+3*pd.Series(phenotype_define).std())]=np.nan\n",
    "        phenotype_define[phenotype_define<(pd.Series(phenotype_define).mean()-3*pd.Series(phenotype_define).std())]=np.nan\n",
    "    \n",
    "    log.info('Total values: {}'.format((~np.isnan(phenotype_define)).sum()))                                                  \n",
    "    pd.Series(phenotype_define).hist(bins=50)    "
   ]
  },
  {
   "cell_type": "code",
   "execution_count": null,
   "metadata": {},
   "outputs": [],
   "source": []
  },
  {
   "cell_type": "markdown",
   "metadata": {},
   "source": [
    "https://www.ncbi.nlm.nih.gov/pmc/articles/PMC6708789/\n",
    "    \n",
    "age, gender, race, diabetes, hyperlipidemia, hypertension, and all significant alleles.\n",
    "\n",
    "\n",
    "\n",
    "phenotypes[]\n",
    "union \n",
    "* diabetes\n",
    "* hyperlipidemia\n",
    "* hypertension\n",
    "* allergic_disease\n",
    "* colon polyps\n",
    "* rheumatoid_arthritis\n",
    "\n",
    "-> unhealthy individuals -> if overlap with case-> set as missing"
   ]
  },
  {
   "cell_type": "code",
<<<<<<< HEAD
   "execution_count": 27,
=======
   "execution_count": 32,
>>>>>>> 6d0d20e60b476f0cffed533959f4fe129755f61c
   "metadata": {},
   "outputs": [],
   "source": [
    "if phenotype_type=='binary':\n",
    "    if phenotype_name=='breast_cancer' or phenotype_name=='cervical_cancer':\n",
    "        log.info('exclude men: {}'.format(((~np.isnan(phenotype_define))&(phenotypes['sex']==1)).sum()))\n",
    "        phenotype_define[(~np.isnan(phenotype_define))&(phenotypes['sex']==1)]=np.nan\n",
    "        log.info(\"phenotype defined\\n\"+str(pd.Series(phenotype_define).value_counts()))\n",
    "    elif phenotype_name=='prostate_cancer':\n",
    "        log.info('exclude women: {}'.format(((~np.isnan(phenotype_define))&(phenotypes['sex']==2)).sum()))\n",
    "        phenotype_define[(~np.isnan(phenotype_define))&(phenotypes['sex']==2)]=np.nan\n",
    "        log.info(\"phenotype defined\\n\"+str(pd.Series(phenotype_define).value_counts()))"
   ]
  },
  {
   "cell_type": "code",
<<<<<<< HEAD
   "execution_count": 28,
=======
   "execution_count": 33,
>>>>>>> 6d0d20e60b476f0cffed533959f4fe129755f61c
   "metadata": {},
   "outputs": [
    {
     "data": {
      "text/plain": [
<<<<<<< HEAD
       "'data/out_pheno/t2_diabetes.phe'"
      ]
     },
     "execution_count": 28,
=======
       "'data/out_pheno/arthritis.phe'"
      ]
     },
     "execution_count": 33,
>>>>>>> 6d0d20e60b476f0cffed533959f4fe129755f61c
     "metadata": {},
     "output_type": "execute_result"
    }
   ],
   "source": [
    "pheno_file_path.format(phenotype_name)"
   ]
  },
  {
   "cell_type": "code",
<<<<<<< HEAD
   "execution_count": 29,
=======
   "execution_count": 34,
>>>>>>> 6d0d20e60b476f0cffed533959f4fe129755f61c
   "metadata": {},
   "outputs": [
    {
     "name": "stderr",
     "output_type": "stream",
     "text": [
<<<<<<< HEAD
      " 2020-07-08 20:27:57,195 [INFO] 13 > unhealthy individuals: 45222\n",
      " 2020-07-08 20:27:57,199 [INFO] 14 > unhealthy individuals among control removed: 36560\n",
      " 2020-07-08 20:27:57,206 [INFO] 17 > phenotype defined\n",
      "1.0    80451\n",
      "2.0     8662\n",
=======
      " 2020-12-09 15:53:13,457 [INFO] 13 > unhealthy individuals: 46723\n",
      " 2020-12-09 15:53:13,457 [INFO] 13 > unhealthy individuals: 46723\n",
      " 2020-12-09 15:53:13,464 [INFO] 14 > unhealthy individuals among control removed: 40641\n",
      " 2020-12-09 15:53:13,464 [INFO] 14 > unhealthy individuals among control removed: 40641\n",
      " 2020-12-09 15:53:13,474 [INFO] 17 > phenotype defined\n",
      "1.0    73684\n",
      "2.0    11348\n",
      "dtype: int64\n",
      " 2020-12-09 15:53:13,474 [INFO] 17 > phenotype defined\n",
      "1.0    73684\n",
      "2.0    11348\n",
>>>>>>> 6d0d20e60b476f0cffed533959f4fe129755f61c
      "dtype: int64\n"
     ]
    },
    {
     "name": "stdout",
     "output_type": "stream",
     "text": [
<<<<<<< HEAD
      "prev: 0.06892490829374646\n"
=======
      "prev: 0.09029783644856094\n"
>>>>>>> 6d0d20e60b476f0cffed533959f4fe129755f61c
     ]
    }
   ],
   "source": [
    "if phenotype_type=='binary' and phenotype_name!='sex':\n",
    "    prev=(phenotype_define==2).sum()/((phenotype_define==1).sum()+(phenotype_define==2).sum())\n",
    "    print('prev:',prev)\n",
    "    with open(pheno_file_path.format(phenotype_name)+'.prev','w') as f:\n",
    "        f.write(str(prev))\n",
    "        \n",
    "    unhealthy_individuals=(phenotypes['diabetes']==2)|\\\n",
    "                            (phenotypes['hyperlipidemia']==2)|\\\n",
    "                            (phenotypes['hypertension']==2)|\\\n",
    "                            (phenotypes['allergic_disease']==2)|\\\n",
    "                            (phenotypes['colon_polyps']==2)|\\\n",
    "                            (phenotypes['rheumatoid_arthritis']==2)\n",
    "    log.info(\"unhealthy individuals: {}\".format(unhealthy_individuals.sum()))\n",
    "    log.info(\"unhealthy individuals among control removed: {}\".format(((phenotype_define==1) & (unhealthy_individuals)).sum()))\n",
    "    phenotype_define[(phenotype_define==1) & (unhealthy_individuals)]=np.nan\n",
    "    ## change to np.nan and test!!\n",
    "    log.info(\"phenotype defined\\n\"+str(pd.Series(phenotype_define).value_counts()))"
   ]
  },
  {
   "cell_type": "code",
<<<<<<< HEAD
   "execution_count": 30,
=======
   "execution_count": 35,
>>>>>>> 6d0d20e60b476f0cffed533959f4fe129755f61c
   "metadata": {},
   "outputs": [],
   "source": [
    "#np.unique(phenotype_define)"
   ]
  },
  {
   "cell_type": "code",
<<<<<<< HEAD
   "execution_count": 31,
=======
   "execution_count": 36,
>>>>>>> 6d0d20e60b476f0cffed533959f4fe129755f61c
   "metadata": {},
   "outputs": [],
   "source": [
    "phenotype_define_df=pd.DataFrame(phenotype_define,index=phenotypes.index)\n",
    "\n",
    "phenotype_define_df=phenotype_define_df.loc[plink_KCHIP_HLA_AA_SNP_1000G_fam['IID']].fillna(-9)\n",
    "\n",
    "if phenotype_name in binary_traits:\n",
    "    phenotype_define_df=phenotype_define_df.astype(int)\n",
    "    \n",
    "phenotype_define_df_noindex=phenotype_define_df.reset_index().rename(columns={0:'pheno'})\n",
    "\n",
    "phenotype_define_df_noindex[[phenotype_define_df_noindex.columns[0],phenotype_define_df_noindex.columns[0],phenotype_define_df_noindex.columns[1]]].to_csv(pheno_file_path.format(phenotype_name),index=None,header=None,sep='\\t')\n",
    "\n",
    "\n",
    "#phenotype_define_df_noindex[[phenotype_define_df_noindex.columns[0],phenotype_define_df_noindex.columns[0],phenotype_define_df_noindex.columns[1]]].to_csv(data_out_assoc_phenotype_path+'phenotype.pheomnibus',index=None,sep='\\t')"
   ]
  },
  {
   "cell_type": "code",
<<<<<<< HEAD
   "execution_count": 32,
=======
   "execution_count": 37,
>>>>>>> 6d0d20e60b476f0cffed533959f4fe129755f61c
   "metadata": {},
   "outputs": [
    {
     "data": {
      "text/plain": [
       "(125673, 2)"
      ]
     },
<<<<<<< HEAD
     "execution_count": 32,
=======
     "execution_count": 37,
>>>>>>> 6d0d20e60b476f0cffed533959f4fe129755f61c
     "metadata": {},
     "output_type": "execute_result"
    }
   ],
   "source": [
    "phenotype_define_df_noindex.shape"
   ]
  },
  {
   "cell_type": "code",
<<<<<<< HEAD
   "execution_count": 33,
=======
   "execution_count": 38,
>>>>>>> 6d0d20e60b476f0cffed533959f4fe129755f61c
   "metadata": {},
   "outputs": [
    {
     "name": "stderr",
     "output_type": "stream",
     "text": [
<<<<<<< HEAD
      " 2020-07-08 20:28:00,328 [INFO] 3 >  1    80451\n",
      "-9    36560\n",
      " 2     8662\n",
=======
      " 2020-12-09 15:53:14,885 [INFO] 3 >  1    73684\n",
      "-9    40641\n",
      " 2    11348\n",
      "Name: pheno, dtype: int64\n",
      " 2020-12-09 15:53:14,885 [INFO] 3 >  1    73684\n",
      "-9    40641\n",
      " 2    11348\n",
>>>>>>> 6d0d20e60b476f0cffed533959f4fe129755f61c
      "Name: pheno, dtype: int64\n"
     ]
    }
   ],
   "source": [
    "assert (phenotype_define_df_noindex['pheno']==np.nan).sum()==0\n",
    "if phenotype_type=='binary':\n",
    "    log.info(phenotype_define_df_noindex['pheno'].value_counts())\n",
    "elif phenotype_type=='continuous':\n",
    "    log.info(phenotype_define_df_noindex['pheno'].value_counts().iloc[:5])\n",
    "    log.info('...')\n",
    "    log.info(phenotype_define_df_noindex['pheno'].value_counts().iloc[-5:])\n",
    "else:\n",
    "    raise"
   ]
  },
  {
   "cell_type": "code",
<<<<<<< HEAD
   "execution_count": 34,
=======
   "execution_count": 39,
>>>>>>> 6d0d20e60b476f0cffed533959f4fe129755f61c
   "metadata": {},
   "outputs": [],
   "source": [
    "cohort_to_name=lambda x: 'AS' if x==1 else 'CT' if x==2 else 'NC' if x==3 else 'error'"
   ]
  },
  {
   "cell_type": "code",
   "execution_count": null,
   "metadata": {},
   "outputs": [],
   "source": []
  },
  {
   "cell_type": "code",
<<<<<<< HEAD
   "execution_count": 35,
=======
   "execution_count": 40,
>>>>>>> 6d0d20e60b476f0cffed533959f4fe129755f61c
   "metadata": {},
   "outputs": [],
   "source": [
    "#print(phenotype_stat)"
   ]
  },
  {
   "cell_type": "code",
<<<<<<< HEAD
   "execution_count": 36,
=======
   "execution_count": 41,
>>>>>>> 6d0d20e60b476f0cffed533959f4fe129755f61c
   "metadata": {},
   "outputs": [
    {
     "data": {
<<<<<<< HEAD
      "image/png": "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\n",
=======
      "image/png": "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\n",
>>>>>>> 6d0d20e60b476f0cffed533959f4fe129755f61c
      "text/plain": [
       "<Figure size 432x288 with 1 Axes>"
      ]
     },
     "metadata": {
      "needs_background": "light"
     },
     "output_type": "display_data"
    }
   ],
   "source": [
    "if phenotype_type=='binary':\n",
    "    value=phenotype_define_df_noindex['pheno']\n",
    "    phenotype_stat=pd.DataFrame([value[(phenotypes['cohort']==cohort).values].value_counts().rename(cohort_to_name(cohort)) for cohort in phenotypes['cohort'].unique()])\n",
    "    phenotype_stat=phenotype_stat.rename(columns={2: 'case', 1: 'control',-9:'missing'})\n",
    "    phenotype_stat=phenotype_stat[phenotype_stat.columns.sort_values()].fillna(0)\n",
    "    phenotype_stat=phenotype_stat.loc[phenotype_stat.index.sort_values()]\n",
    "    \n",
    "    fig=plt.figure()\n",
    "    plt.table(cellText=phenotype_stat.values,\n",
    "              colWidths = [0.3]*3,\n",
    "              rowLabels=phenotype_stat.index,\n",
    "              colLabels=phenotype_stat.columns,\n",
    "              loc='center right')\n",
    "    plt.axis('off')\n",
    "    #plt.show()    \n",
    "    plt.savefig(pheno_file_path.format(phenotype_name)+'.svg')\n",
    "    \n",
    "    \n",
    "if phenotype_type=='continuous':\n",
    "    value=phenotype_define_df_noindex['pheno']\n",
    "    \n",
    "    fig=plt.figure()\n",
    "    #plt.title(new_name)\n",
    "    for cohort in sorted(phenotypes['cohort'].unique()):\n",
    "        cohort_check=(phenotypes['cohort']==cohort).values\n",
    "        #print(cohort_check)\n",
    "        #print(value[cohort_check])\n",
    "        if np.all(value[cohort_check]==-9):\n",
    "            continue\n",
    "        y, x, _ =plt.hist(value[cohort_check & (value!=-9)],bins=20,color=plt.cm.rainbow(cohort/3),label=cohort_to_name(cohort),alpha=0.3)\n",
    "    plt.legend(loc='upper left')\n",
    "    #plt.show()\n",
    "    plt.axvline(x=value[value!=-9].mean(),linewidth=0.5,color='grey')\n",
    "    plt.text(x=value[value!=-9].mean(),y=value[value!=-9].value_counts().max(),s='mean: {:.2f}\\n std:{:.2f}'.format(value[(value!=-9)].mean(),value[(value!=-9)].std()) ,horizontalalignment='center',verticalalignment='center',)\n",
    "    plt.savefig(pheno_file_path.format(phenotype_name)+'.svg')\n",
    "    \n",
    "    "
   ]
  },
  {
   "cell_type": "code",
   "execution_count": null,
   "metadata": {},
   "outputs": [],
   "source": []
  }
 ],
 "metadata": {
  "kernelspec": {
   "display_name": "Python 3",
   "language": "python",
   "name": "python3"
  },
  "language_info": {
   "codemirror_mode": {
    "name": "ipython",
    "version": 3
   },
   "file_extension": ".py",
   "mimetype": "text/x-python",
   "name": "python",
   "nbconvert_exporter": "python",
   "pygments_lexer": "ipython3",
   "version": "3.7.3"
  },
  "toc": {
   "base_numbering": 1,
   "nav_menu": {},
   "number_sections": true,
   "sideBar": true,
   "skip_h1_title": false,
   "title_cell": "Table of Contents",
   "title_sidebar": "Contents",
   "toc_cell": false,
   "toc_position": {},
   "toc_section_display": true,
   "toc_window_display": false
  }
 },
 "nbformat": 4,
 "nbformat_minor": 4
}
