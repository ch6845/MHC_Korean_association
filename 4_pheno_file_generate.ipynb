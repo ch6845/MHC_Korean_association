{
 "cells": [
  {
   "cell_type": "markdown",
   "metadata": {},
   "source": [
    "jupyter nbconvert 4_pheno_file_generate.ipynb --to script\n",
    "\n",
    "cd /data/ch6845/MHC*;screen -S assoc;\n",
    "\n",
    "for i in {0..10};do python 4_association.py $i;done\n",
    "for i in {00..100};do python 4_pheno_file_generate.py $i;done\n",
    "\n",
    "tar -cvf distribution.tar data/out_pheno/*svg "
   ]
  },
  {
   "cell_type": "code",
   "execution_count": 1,
   "metadata": {},
   "outputs": [],
   "source": [
    "import os\n",
    "import sys\n",
    "\n",
    "import logging\n",
    "import re\n",
    "import pathlib\n",
    "\n",
    "import datetime\n",
    "\n",
    "import numpy as np\n",
    "import pandas as pd\n",
    "from scipy.stats import pearsonr\n",
    "\n",
    "import matplotlib.pyplot as plt\n",
    "\n",
    "from pyplink import PyPlink\n",
    "\n",
    "from basic_tools import *"
   ]
  },
  {
   "cell_type": "markdown",
   "metadata": {},
   "source": [
    "# load plink, aa and check integrity"
   ]
  },
  {
   "cell_type": "code",
   "execution_count": 2,
   "metadata": {},
   "outputs": [],
   "source": [
    "plink_KCHIP_HLA_AA_SNP_1000G=PyPlink(plink_KCHIP_HLA_AA_SNP_1000G_path)\n",
    "plink_KCHIP_HLA_AA_SNP_1000G_fam=plink_KCHIP_HLA_AA_SNP_1000G.get_fam().astype({'fid':str,'iid':str}).rename(columns={'fid':'FID','iid':'IID'})\n",
    "plink_KCHIP_HLA_AA_SNP_1000G_bim=plink_KCHIP_HLA_AA_SNP_1000G.get_bim()"
   ]
  },
  {
   "cell_type": "code",
   "execution_count": 3,
   "metadata": {},
   "outputs": [],
   "source": [
    "phenotypes=pd.read_csv(pheno_all_file_path,sep='\\t')\n",
    "phenotypes=phenotypes.set_index('ID').loc[plink_KCHIP_HLA_AA_SNP_1000G_fam['IID']]\n",
    "#binary_continuous_traits=sorted(phenotypes.columns[~phenotypes.columns.str.contains('x_ray')])\n",
    "#binary_continuous_traits    "
   ]
  },
  {
   "cell_type": "code",
   "execution_count": 19,
   "metadata": {},
   "outputs": [
    {
     "data": {
      "text/plain": [
       "(array([3, 1, 2]), array([2, 1]))"
      ]
     },
     "execution_count": 19,
     "metadata": {},
     "output_type": "execute_result"
    }
   ],
   "source": [
    "phenotypes['cohort'].unique(),phenotypes['sex'].unique()"
   ]
  },
  {
   "cell_type": "code",
   "execution_count": 21,
   "metadata": {},
   "outputs": [
    {
     "data": {
      "text/plain": [
       "0"
      ]
     },
     "execution_count": 21,
     "metadata": {},
     "output_type": "execute_result"
    }
   ],
   "source": [
    "phenotypes['sex'].isnull().sum()"
   ]
  },
  {
   "cell_type": "code",
   "execution_count": 23,
   "metadata": {},
   "outputs": [
    {
     "data": {
      "text/plain": [
       "(7607, 99159, 18907)"
      ]
     },
     "execution_count": 23,
     "metadata": {},
     "output_type": "execute_result"
    }
   ],
   "source": [
    "(phenotypes['cohort']==1).sum(),\\\n",
    "(phenotypes['cohort']==2).sum(),\\\n",
    "(phenotypes['cohort']==3).sum()"
   ]
  },
  {
   "cell_type": "code",
   "execution_count": 25,
   "metadata": {},
   "outputs": [
    {
     "data": {
      "text/plain": [
       "125673"
      ]
     },
     "execution_count": 25,
     "metadata": {},
     "output_type": "execute_result"
    }
   ],
   "source": [
    "(phenotypes['cohort']==1).sum()+\\\n",
    "(phenotypes['cohort']==2).sum()+\\\n",
    "(phenotypes['cohort']==3).sum()"
   ]
  },
  {
   "cell_type": "code",
   "execution_count": 24,
   "metadata": {},
   "outputs": [
    {
     "data": {
      "text/plain": [
       "124863"
      ]
     },
     "execution_count": 24,
     "metadata": {},
     "output_type": "execute_result"
    }
   ],
   "source": [
    "99159+18097+7607"
   ]
  },
  {
   "cell_type": "code",
   "execution_count": 17,
   "metadata": {},
   "outputs": [
    {
     "data": {
      "text/plain": [
       "7085"
      ]
     },
     "execution_count": 17,
     "metadata": {},
     "output_type": "execute_result"
    }
   ],
   "source": [
    "((phenotypes['cohort']==3)&(phenotypes['sex']==1)).sum()"
   ]
  },
  {
   "cell_type": "code",
   "execution_count": 7,
   "metadata": {},
   "outputs": [
    {
     "data": {
      "text/plain": [
       "7607"
      ]
     },
     "execution_count": 7,
     "metadata": {},
     "output_type": "execute_result"
    }
   ],
   "source": [
    "(phenotypes['cohort']==1).sum()"
   ]
  },
  {
   "cell_type": "code",
   "execution_count": 4,
   "metadata": {},
   "outputs": [
    {
     "data": {
      "text/plain": [
       "(Index(['sex', 'asthma', 'chronic_bronchitis', 'allergic_disease',\n",
       "        'stomach_cancer', 'liver_cancer', 'colorectal_cancer', 'breast_cancer',\n",
       "        'cervical_cancer', 'lung_cancer', 'thyroid_cancer', 'prostate_cancer',\n",
       "        'bladder_cancer', 'colon_polyps',\n",
       "        'angina_pectoris_myocardial_infarction', 'hypertension', 'stroke',\n",
       "        'transient_ischemic_attacks', 'acute_liver_disease', 'diabetes',\n",
       "        't2_diabetes', 'hyperlipidemia', 'thyroid_disease', 'arthritis',\n",
       "        'rheumatoid_arthritis', 'osteoporosis', 'parkinson',\n",
       "        'chronic_gastritis_stomach_ulcer', 'duodenal_ulcer',\n",
       "        'urinary_tract_infection', 'hysterectomy', 'ovarian_extraction',\n",
       "        'big_baby', 'small_baby', 'blood_in_urine', 'glucose_in_urine',\n",
       "        'protein_in_urine', 'heart_failure', 'peripheral_vascular_diseases',\n",
       "        'cataract', 'glaucoma', 'renal_failure', 'fatty_liver', 'copd',\n",
       "        'tuberculosis', 'benign_prostatic_hyperplasia', 'gout', 'fracture',\n",
       "        'cholelithiasis_cholecystitis', 'periodontal_disease', 'insomnia',\n",
       "        'neurosis'],\n",
       "       dtype='object'), 52)"
      ]
     },
     "execution_count": 4,
     "metadata": {},
     "output_type": "execute_result"
    }
   ],
   "source": [
    "binary_traits=phenotypes.columns[phenotypes.apply(lambda x: (len(x.value_counts())<3),axis=0)]\n",
    "binary_traits,len(binary_traits)"
   ]
  },
  {
   "cell_type": "code",
   "execution_count": 5,
   "metadata": {},
   "outputs": [
    {
     "data": {
      "text/plain": [
       "Index(['age', 'pwi_total', 'height', 'hip_circumference',\n",
       "       'waist_circumference', 'weight', 'systolic_blood_pressure',\n",
       "       'diastolic_blood_pressure', 'pulse', 'menarche_onset_age',\n",
       "       'menopause_age', 'menopause_cycle', 'child_delivery_number',\n",
       "       'child_present', 'child_dead', 'hematocrit', 'hemoglobin', 'platelet',\n",
       "       'rbc', 'wbc', 'mcv', 'mch', 'mchc', 'total_bilirubin', 'bun',\n",
       "       'creatinine', 'alt', 'ast', 'gtp', 'total_cholesterol',\n",
       "       'hdl_cholesterol', 'hba1c', 'freet4', 'tsh', 'triglyceride', 'albumin',\n",
       "       'hscrp', 'renin', 'sleep_duration', 'grip_strength', 'FVC_predicted',\n",
       "       'FEV_predicted', 'FEV_over_FVC_predicted', 'MVV_predicted',\n",
       "       'bone_density_distal_sos', 'bone_density_midshaft_sos',\n",
       "       'protein_in_blood', 'cohort', 'bmi'],\n",
       "      dtype='object')"
      ]
     },
     "execution_count": 5,
     "metadata": {},
     "output_type": "execute_result"
    }
   ],
   "source": [
    "#continuous_traits=phenotypes.columns[phenotypes.apply(lambda x: (x.name!='cohort')&(x.name!='age') & (len(x.value_counts())>=3),axis=0)]\n",
    "continuous_traits=phenotypes.columns[phenotypes.apply(lambda x: (len(x.value_counts())>=3),axis=0)]\n",
    "continuous_traits"
   ]
  },
  {
   "cell_type": "code",
   "execution_count": 6,
   "metadata": {},
   "outputs": [
    {
     "data": {
      "text/plain": [
       "['FEV_over_FVC_predicted',\n",
       " 'FEV_predicted',\n",
       " 'FVC_predicted',\n",
       " 'MVV_predicted',\n",
       " 'acute_liver_disease',\n",
       " 'age',\n",
       " 'albumin',\n",
       " 'allergic_disease',\n",
       " 'alt',\n",
       " 'angina_pectoris_myocardial_infarction',\n",
       " 'arthritis',\n",
       " 'ast',\n",
       " 'asthma',\n",
       " 'benign_prostatic_hyperplasia',\n",
       " 'big_baby',\n",
       " 'bladder_cancer',\n",
       " 'blood_in_urine',\n",
       " 'bmi',\n",
       " 'bone_density_distal_sos',\n",
       " 'bone_density_midshaft_sos',\n",
       " 'breast_cancer',\n",
       " 'bun',\n",
       " 'cataract',\n",
       " 'cervical_cancer',\n",
       " 'child_dead',\n",
       " 'child_delivery_number',\n",
       " 'child_present',\n",
       " 'cholelithiasis_cholecystitis',\n",
       " 'chronic_bronchitis',\n",
       " 'chronic_gastritis_stomach_ulcer',\n",
       " 'cohort',\n",
       " 'colon_polyps',\n",
       " 'colorectal_cancer',\n",
       " 'copd',\n",
       " 'creatinine',\n",
       " 'diabetes',\n",
       " 'diastolic_blood_pressure',\n",
       " 'duodenal_ulcer',\n",
       " 'fatty_liver',\n",
       " 'fracture',\n",
       " 'freet4',\n",
       " 'glaucoma',\n",
       " 'glucose_in_urine',\n",
       " 'gout',\n",
       " 'grip_strength',\n",
       " 'gtp',\n",
       " 'hba1c',\n",
       " 'hdl_cholesterol',\n",
       " 'heart_failure',\n",
       " 'height',\n",
       " 'hematocrit',\n",
       " 'hemoglobin',\n",
       " 'hip_circumference',\n",
       " 'hscrp',\n",
       " 'hyperlipidemia',\n",
       " 'hypertension',\n",
       " 'hysterectomy',\n",
       " 'insomnia',\n",
       " 'liver_cancer',\n",
       " 'lung_cancer',\n",
       " 'mch',\n",
       " 'mchc',\n",
       " 'mcv',\n",
       " 'menarche_onset_age',\n",
       " 'menopause_age',\n",
       " 'menopause_cycle',\n",
       " 'neurosis',\n",
       " 'osteoporosis',\n",
       " 'ovarian_extraction',\n",
       " 'parkinson',\n",
       " 'periodontal_disease',\n",
       " 'peripheral_vascular_diseases',\n",
       " 'platelet',\n",
       " 'prostate_cancer',\n",
       " 'protein_in_blood',\n",
       " 'protein_in_urine',\n",
       " 'pulse',\n",
       " 'pwi_total',\n",
       " 'rbc',\n",
       " 'renal_failure',\n",
       " 'renin',\n",
       " 'rheumatoid_arthritis',\n",
       " 'sex',\n",
       " 'sleep_duration',\n",
       " 'small_baby',\n",
       " 'stomach_cancer',\n",
       " 'stroke',\n",
       " 'systolic_blood_pressure',\n",
       " 't2_diabetes',\n",
       " 'thyroid_cancer',\n",
       " 'thyroid_disease',\n",
       " 'total_bilirubin',\n",
       " 'total_cholesterol',\n",
       " 'transient_ischemic_attacks',\n",
       " 'triglyceride',\n",
       " 'tsh',\n",
       " 'tuberculosis',\n",
       " 'urinary_tract_infection',\n",
       " 'waist_circumference',\n",
       " 'wbc',\n",
       " 'weight']"
      ]
     },
     "execution_count": 6,
     "metadata": {},
     "output_type": "execute_result"
    }
   ],
   "source": [
    "binary_continuous_traits=sorted(binary_traits.union(continuous_traits))\n",
    "binary_continuous_traits"
   ]
  },
  {
   "cell_type": "code",
   "execution_count": 7,
   "metadata": {},
   "outputs": [
    {
     "data": {
      "text/plain": [
       "101"
      ]
     },
     "execution_count": 7,
     "metadata": {},
     "output_type": "execute_result"
    }
   ],
   "source": [
    "len(binary_continuous_traits)"
   ]
  },
  {
   "cell_type": "markdown",
   "metadata": {},
   "source": [
    "# parse parameter"
   ]
  },
  {
   "cell_type": "code",
   "execution_count": 26,
   "metadata": {},
   "outputs": [],
   "source": [
    "if 'ipykernel' in sys.argv[0]:\n",
    "    ipykernel=True\n",
    "    phenotype_name='arthritis'\n",
    "    #phenotype_name='height'\n",
    "    \n",
    "else:\n",
    "    ipykernel=False\n",
    "    phenotype_name=sys.argv[1]\n",
    "    if phenotype_name.isdigit():\n",
    "        phenotype_name=int(phenotype_name)\n",
    "        phenotype_name=binary_continuous_traits[phenotype_name]\n",
    "\n",
    "if phenotype_name in binary_traits:\n",
    "    phenotype_type='binary'\n",
    "elif phenotype_name in continuous_traits:\n",
    "    phenotype_type='continuous'        "
   ]
  },
  {
   "cell_type": "code",
   "execution_count": 27,
   "metadata": {},
   "outputs": [],
   "source": [
    "#binary_continuous_traits"
   ]
  },
  {
   "cell_type": "code",
   "execution_count": 28,
   "metadata": {},
   "outputs": [],
   "source": [
    "#data_out_assoc_phenotype_path=data_out_assoc_path+phenotype_name+'/'\n",
    "#pathlib.Path(data_out_assoc_phenotype_path).mkdir(parents=True, exist_ok=True)"
   ]
  },
  {
   "cell_type": "code",
   "execution_count": 29,
   "metadata": {},
   "outputs": [],
   "source": [
    "log = logging.getLogger('logger')\n",
    "log.setLevel(logging.DEBUG)\n",
    "\n",
    "log_file_name=datetime.datetime.now().strftime('%Y%m%d_%H%M%S')+'.log'\n",
    "log_file_path=data_out_pheno_path+'4_pheno_file_generate.log'\n",
    "fileHandler = logging.FileHandler(log_file_path)\n",
    "streamHandler = logging.StreamHandler()\n",
    "\n",
    "formatter = logging.Formatter(' %(asctime)s [%(levelname)s] %(lineno)d > %(message)s')\n",
    "fileHandler.setFormatter(formatter)\n",
    "streamHandler.setFormatter(formatter)\n",
    "\n",
    "log.addHandler(fileHandler)\n",
    "log.addHandler(streamHandler)"
   ]
  },
  {
   "cell_type": "code",
   "execution_count": 30,
   "metadata": {},
   "outputs": [
    {
     "name": "stderr",
     "output_type": "stream",
     "text": [
      " 2020-12-09 15:53:12,243 [INFO] 1 > phenotype_name: arthritis, phenotype_type:binary\n",
      " 2020-12-09 15:53:12,243 [INFO] 1 > phenotype_name: arthritis, phenotype_type:binary\n"
     ]
    }
   ],
   "source": [
    "log.info(\"phenotype_name: {}, phenotype_type:{}\".format(phenotype_name,phenotype_type))"
   ]
  },
  {
   "cell_type": "code",
   "execution_count": 31,
   "metadata": {},
   "outputs": [
    {
     "name": "stderr",
     "output_type": "stream",
     "text": [
      " 2020-12-09 15:53:12,474 [INFO] 5 > ------------------per cohort---------------------------\n",
      " 2020-12-09 15:53:12,474 [INFO] 5 > ------------------per cohort---------------------------\n",
      " 2020-12-09 15:53:12,496 [INFO] 9 > cohort: 1,  1100/ 7607 (14.460%)\n",
      " 2020-12-09 15:53:12,496 [INFO] 9 > cohort: 1,  1100/ 7607 (14.460%)\n",
      " 2020-12-09 15:53:12,502 [INFO] 22 > Total case:1100\n",
      " 2020-12-09 15:53:12,502 [INFO] 22 > Total case:1100\n",
      " 2020-12-09 15:53:12,504 [INFO] 5 > ------------------per cohort---------------------------\n",
      " 2020-12-09 15:53:12,504 [INFO] 5 > ------------------per cohort---------------------------\n",
      " 2020-12-09 15:53:12,524 [INFO] 9 > cohort: 2,  8854/99159 (8.929%)\n",
      " 2020-12-09 15:53:12,524 [INFO] 9 > cohort: 2,  8854/99159 (8.929%)\n",
      " 2020-12-09 15:53:12,531 [INFO] 22 > Total case:9954\n",
      " 2020-12-09 15:53:12,531 [INFO] 22 > Total case:9954\n",
      " 2020-12-09 15:53:12,533 [INFO] 5 > ------------------per cohort---------------------------\n",
      " 2020-12-09 15:53:12,533 [INFO] 5 > ------------------per cohort---------------------------\n",
      " 2020-12-09 15:53:12,553 [INFO] 9 > cohort: 3,  1394/18907 (7.373%)\n",
      " 2020-12-09 15:53:12,553 [INFO] 9 > cohort: 3,  1394/18907 (7.373%)\n",
      " 2020-12-09 15:53:12,559 [INFO] 22 > Total case:11348\n",
      " 2020-12-09 15:53:12,559 [INFO] 22 > Total case:11348\n",
      " 2020-12-09 15:53:12,567 [INFO] 23 > phenotype defined\n",
      "1.0    114325\n",
      "2.0     11348\n",
      "dtype: int64\n",
      " 2020-12-09 15:53:12,567 [INFO] 23 > phenotype defined\n",
      "1.0    114325\n",
      "2.0     11348\n",
      "dtype: int64\n"
     ]
    }
   ],
   "source": [
    "phenotype_define=np.full(len(phenotypes.index),np.nan)\n",
    "\n",
    "if phenotype_type=='binary':\n",
    "    for cohort in sorted(phenotypes['cohort'].unique()):\n",
    "        log.info('------------------per cohort---------------------------')\n",
    "        cohort_check=(phenotypes['cohort']==cohort)\n",
    "        cohort_case_check=(phenotypes['cohort']==cohort)&(phenotypes[phenotype_name]==2)\n",
    "        cohort_control_check=(phenotypes['cohort']==cohort)&(~(phenotypes[phenotype_name]==2))\n",
    "        log.info('cohort: {}, {:5d}/{:5d} ({:.3f}%)'.format(cohort,cohort_case_check.sum(),cohort_check.sum(),100*cohort_case_check.sum()/cohort_check.sum()))\n",
    "\n",
    "        if cohort_case_check.sum()>0:\n",
    "            phenotype_define[cohort_case_check]=2\n",
    "            phenotype_define[cohort_control_check]=1\n",
    "        elif np.isnan(cohort):\n",
    "            raise\n",
    "            cohort_check_temp=(phenotypes['cohort'].isnull())\n",
    "            phenotype_define[cohort_check_temp]=-9\n",
    "            log.info('missing individuals founded: {}'.format(cohort_check_temp.sum()))\n",
    "        else:\n",
    "            log.info('cohort {} ignored. it may due to nonexistence of questionnaire'.format(cohort))\n",
    "\n",
    "        log.info('Total case:'+str((phenotype_define==2).sum()))\n",
    "    log.info(\"phenotype defined\\n\"+str(pd.Series(phenotype_define).value_counts()))\n",
    "    \n",
    "elif phenotype_type=='continuous':\n",
    "    for cohort in sorted(phenotypes['cohort'].unique()):\n",
    "        log.info('------------------per cohort---------------------------')\n",
    "        cohort_check=(phenotypes['cohort']==cohort)\n",
    "        cohort_notnull_check=(phenotypes['cohort']==cohort)&(~(phenotypes[phenotype_name].isnull()))\n",
    "        #print(cohort_notnull_check,type(cohort_notnull_check))\n",
    "        log.info('cohort: {}, {:5d}/{:5d} ({:.3f}%)'.format(cohort,cohort_notnull_check.sum(),cohort_check.sum(),100*cohort_notnull_check.sum()/cohort_check.sum()))\n",
    "\n",
    "        if cohort_notnull_check.sum()>0:\n",
    "            phenotype_define[cohort_notnull_check]=phenotypes[phenotype_name][cohort_notnull_check]\n",
    "        elif np.isnan(cohort):\n",
    "            raise\n",
    "            cohort_check_temp=(phenotypes['cohort'].isnull())\n",
    "            phenotype_define[cohort_check_temp]=-9\n",
    "            log.info('missing individuals founded: {}'.format(cohort_check_temp.sum()))\n",
    "        else:\n",
    "            log.info('cohort {} ignored. it may due to nonexistence of questionnaire'.format(cohort))\n",
    "\n",
    "        log.info('Total values: {}'.format((~np.isnan(phenotype_define)).sum()))\n",
    "    \n",
    "    log.info(\"median:{:.3f}, mean: {:.3f}, std: {:.3f}, max: {:.3f}, min: {:.3f}\".format(pd.Series(phenotype_define).median(),\n",
    "                                                         pd.Series(phenotype_define).mean(),\n",
    "                                                         pd.Series(phenotype_define).std(),\n",
    "                                                         pd.Series(phenotype_define).max(),\n",
    "                                                         pd.Series(phenotype_define).min()\n",
    "                                                        )\n",
    "         )\n",
    "    if phenotype_name!='child_dead':\n",
    "        log.info(\">mean+3std:{}, <mean-3std:{}\".format((phenotype_define>(pd.Series(phenotype_define).mean()+3*pd.Series(phenotype_define).std())).sum(),\n",
    "                                                    (phenotype_define<(pd.Series(phenotype_define).mean()-3*pd.Series(phenotype_define).std())).sum()\n",
    "                                                   )\n",
    "             )\n",
    "        phenotype_define[phenotype_define>(pd.Series(phenotype_define).mean()+3*pd.Series(phenotype_define).std())]=np.nan\n",
    "        phenotype_define[phenotype_define<(pd.Series(phenotype_define).mean()-3*pd.Series(phenotype_define).std())]=np.nan\n",
    "    \n",
    "    log.info('Total values: {}'.format((~np.isnan(phenotype_define)).sum()))                                                  \n",
    "    pd.Series(phenotype_define).hist(bins=50)    "
   ]
  },
  {
   "cell_type": "code",
   "execution_count": null,
   "metadata": {},
   "outputs": [],
   "source": []
  },
  {
   "cell_type": "markdown",
   "metadata": {},
   "source": [
    "https://www.ncbi.nlm.nih.gov/pmc/articles/PMC6708789/\n",
    "    \n",
    "age, gender, race, diabetes, hyperlipidemia, hypertension, and all significant alleles.\n",
    "\n",
    "\n",
    "\n",
    "phenotypes[]\n",
    "union \n",
    "* diabetes\n",
    "* hyperlipidemia\n",
    "* hypertension\n",
    "* allergic_disease\n",
    "* colon polyps\n",
    "* rheumatoid_arthritis\n",
    "\n",
    "-> unhealthy individuals -> if overlap with case-> set as missing"
   ]
  },
  {
   "cell_type": "code",
   "execution_count": 32,
   "metadata": {},
   "outputs": [],
   "source": [
    "if phenotype_type=='binary':\n",
    "    if phenotype_name=='breast_cancer' or phenotype_name=='cervical_cancer':\n",
    "        log.info('exclude men: {}'.format(((~np.isnan(phenotype_define))&(phenotypes['sex']==1)).sum()))\n",
    "        phenotype_define[(~np.isnan(phenotype_define))&(phenotypes['sex']==1)]=np.nan\n",
    "        log.info(\"phenotype defined\\n\"+str(pd.Series(phenotype_define).value_counts()))\n",
    "    elif phenotype_name=='prostate_cancer':\n",
    "        log.info('exclude women: {}'.format(((~np.isnan(phenotype_define))&(phenotypes['sex']==2)).sum()))\n",
    "        phenotype_define[(~np.isnan(phenotype_define))&(phenotypes['sex']==2)]=np.nan\n",
    "        log.info(\"phenotype defined\\n\"+str(pd.Series(phenotype_define).value_counts()))"
   ]
  },
  {
   "cell_type": "code",
   "execution_count": 33,
   "metadata": {},
   "outputs": [
    {
     "data": {
      "text/plain": [
       "'data/out_pheno/arthritis.phe'"
      ]
     },
     "execution_count": 33,
     "metadata": {},
     "output_type": "execute_result"
    }
   ],
   "source": [
    "pheno_file_path.format(phenotype_name)"
   ]
  },
  {
   "cell_type": "code",
   "execution_count": 34,
   "metadata": {},
   "outputs": [
    {
     "name": "stderr",
     "output_type": "stream",
     "text": [
      " 2020-12-09 15:53:13,457 [INFO] 13 > unhealthy individuals: 46723\n",
      " 2020-12-09 15:53:13,457 [INFO] 13 > unhealthy individuals: 46723\n",
      " 2020-12-09 15:53:13,464 [INFO] 14 > unhealthy individuals among control removed: 40641\n",
      " 2020-12-09 15:53:13,464 [INFO] 14 > unhealthy individuals among control removed: 40641\n",
      " 2020-12-09 15:53:13,474 [INFO] 17 > phenotype defined\n",
      "1.0    73684\n",
      "2.0    11348\n",
      "dtype: int64\n",
      " 2020-12-09 15:53:13,474 [INFO] 17 > phenotype defined\n",
      "1.0    73684\n",
      "2.0    11348\n",
      "dtype: int64\n"
     ]
    },
    {
     "name": "stdout",
     "output_type": "stream",
     "text": [
      "prev: 0.09029783644856094\n"
     ]
    }
   ],
   "source": [
    "if phenotype_type=='binary' and phenotype_name!='sex':\n",
    "    prev=(phenotype_define==2).sum()/((phenotype_define==1).sum()+(phenotype_define==2).sum())\n",
    "    print('prev:',prev)\n",
    "    with open(pheno_file_path.format(phenotype_name)+'.prev','w') as f:\n",
    "        f.write(str(prev))\n",
    "        \n",
    "    unhealthy_individuals=(phenotypes['diabetes']==2)|\\\n",
    "                            (phenotypes['hyperlipidemia']==2)|\\\n",
    "                            (phenotypes['hypertension']==2)|\\\n",
    "                            (phenotypes['allergic_disease']==2)|\\\n",
    "                            (phenotypes['colon_polyps']==2)|\\\n",
    "                            (phenotypes['rheumatoid_arthritis']==2)\n",
    "    log.info(\"unhealthy individuals: {}\".format(unhealthy_individuals.sum()))\n",
    "    log.info(\"unhealthy individuals among control removed: {}\".format(((phenotype_define==1) & (unhealthy_individuals)).sum()))\n",
    "    phenotype_define[(phenotype_define==1) & (unhealthy_individuals)]=np.nan\n",
    "    ## change to np.nan and test!!\n",
    "    log.info(\"phenotype defined\\n\"+str(pd.Series(phenotype_define).value_counts()))"
   ]
  },
  {
   "cell_type": "code",
   "execution_count": 35,
   "metadata": {},
   "outputs": [],
   "source": [
    "#np.unique(phenotype_define)"
   ]
  },
  {
   "cell_type": "code",
   "execution_count": 36,
   "metadata": {},
   "outputs": [],
   "source": [
    "phenotype_define_df=pd.DataFrame(phenotype_define,index=phenotypes.index)\n",
    "\n",
    "phenotype_define_df=phenotype_define_df.loc[plink_KCHIP_HLA_AA_SNP_1000G_fam['IID']].fillna(-9)\n",
    "\n",
    "if phenotype_name in binary_traits:\n",
    "    phenotype_define_df=phenotype_define_df.astype(int)\n",
    "    \n",
    "phenotype_define_df_noindex=phenotype_define_df.reset_index().rename(columns={0:'pheno'})\n",
    "\n",
    "phenotype_define_df_noindex[[phenotype_define_df_noindex.columns[0],phenotype_define_df_noindex.columns[0],phenotype_define_df_noindex.columns[1]]].to_csv(pheno_file_path.format(phenotype_name),index=None,header=None,sep='\\t')\n",
    "\n",
    "\n",
    "#phenotype_define_df_noindex[[phenotype_define_df_noindex.columns[0],phenotype_define_df_noindex.columns[0],phenotype_define_df_noindex.columns[1]]].to_csv(data_out_assoc_phenotype_path+'phenotype.pheomnibus',index=None,sep='\\t')"
   ]
  },
  {
   "cell_type": "code",
   "execution_count": 37,
   "metadata": {},
   "outputs": [
    {
     "data": {
      "text/plain": [
       "(125673, 2)"
      ]
     },
     "execution_count": 37,
     "metadata": {},
     "output_type": "execute_result"
    }
   ],
   "source": [
    "phenotype_define_df_noindex.shape"
   ]
  },
  {
   "cell_type": "code",
   "execution_count": 38,
   "metadata": {},
   "outputs": [
    {
     "name": "stderr",
     "output_type": "stream",
     "text": [
      " 2020-12-09 15:53:14,885 [INFO] 3 >  1    73684\n",
      "-9    40641\n",
      " 2    11348\n",
      "Name: pheno, dtype: int64\n",
      " 2020-12-09 15:53:14,885 [INFO] 3 >  1    73684\n",
      "-9    40641\n",
      " 2    11348\n",
      "Name: pheno, dtype: int64\n"
     ]
    }
   ],
   "source": [
    "assert (phenotype_define_df_noindex['pheno']==np.nan).sum()==0\n",
    "if phenotype_type=='binary':\n",
    "    log.info(phenotype_define_df_noindex['pheno'].value_counts())\n",
    "elif phenotype_type=='continuous':\n",
    "    log.info(phenotype_define_df_noindex['pheno'].value_counts().iloc[:5])\n",
    "    log.info('...')\n",
    "    log.info(phenotype_define_df_noindex['pheno'].value_counts().iloc[-5:])\n",
    "else:\n",
    "    raise"
   ]
  },
  {
   "cell_type": "code",
   "execution_count": 39,
   "metadata": {},
   "outputs": [],
   "source": [
    "cohort_to_name=lambda x: 'AS' if x==1 else 'CT' if x==2 else 'NC' if x==3 else 'error'"
   ]
  },
  {
   "cell_type": "code",
   "execution_count": null,
   "metadata": {},
   "outputs": [],
   "source": []
  },
  {
   "cell_type": "code",
   "execution_count": 40,
   "metadata": {},
   "outputs": [],
   "source": [
    "#print(phenotype_stat)"
   ]
  },
  {
   "cell_type": "code",
   "execution_count": 41,
   "metadata": {},
   "outputs": [
    {
     "data": {
      "image/png": "[encoded data removed]",
      "text/plain": [
       "<Figure size 432x288 with 1 Axes>"
      ]
     },
     "metadata": {
      "needs_background": "light"
     },
     "output_type": "display_data"
    }
   ],
   "source": [
    "if phenotype_type=='binary':\n",
    "    value=phenotype_define_df_noindex['pheno']\n",
    "    phenotype_stat=pd.DataFrame([value[(phenotypes['cohort']==cohort).values].value_counts().rename(cohort_to_name(cohort)) for cohort in phenotypes['cohort'].unique()])\n",
    "    phenotype_stat=phenotype_stat.rename(columns={2: 'case', 1: 'control',-9:'missing'})\n",
    "    phenotype_stat=phenotype_stat[phenotype_stat.columns.sort_values()].fillna(0)\n",
    "    phenotype_stat=phenotype_stat.loc[phenotype_stat.index.sort_values()]\n",
    "    \n",
    "    fig=plt.figure()\n",
    "    plt.table(cellText=phenotype_stat.values,\n",
    "              colWidths = [0.3]*3,\n",
    "              rowLabels=phenotype_stat.index,\n",
    "              colLabels=phenotype_stat.columns,\n",
    "              loc='center right')\n",
    "    plt.axis('off')\n",
    "    #plt.show()    \n",
    "    plt.savefig(pheno_file_path.format(phenotype_name)+'.svg')\n",
    "    \n",
    "    \n",
    "if phenotype_type=='continuous':\n",
    "    value=phenotype_define_df_noindex['pheno']\n",
    "    \n",
    "    fig=plt.figure()\n",
    "    #plt.title(new_name)\n",
    "    for cohort in sorted(phenotypes['cohort'].unique()):\n",
    "        cohort_check=(phenotypes['cohort']==cohort).values\n",
    "        #print(cohort_check)\n",
    "        #print(value[cohort_check])\n",
    "        if np.all(value[cohort_check]==-9):\n",
    "            continue\n",
    "        y, x, _ =plt.hist(value[cohort_check & (value!=-9)],bins=20,color=plt.cm.rainbow(cohort/3),label=cohort_to_name(cohort),alpha=0.3)\n",
    "    plt.legend(loc='upper left')\n",
    "    #plt.show()\n",
    "    plt.axvline(x=value[value!=-9].mean(),linewidth=0.5,color='grey')\n",
    "    plt.text(x=value[value!=-9].mean(),y=value[value!=-9].value_counts().max(),s='mean: {:.2f}\\n std:{:.2f}'.format(value[(value!=-9)].mean(),value[(value!=-9)].std()) ,horizontalalignment='center',verticalalignment='center',)\n",
    "    plt.savefig(pheno_file_path.format(phenotype_name)+'.svg')\n",
    "    \n",
    "    "
   ]
  },
  {
   "cell_type": "code",
   "execution_count": null,
   "metadata": {},
   "outputs": [],
   "source": []
  }
 ],
 "metadata": {
  "kernelspec": {
   "display_name": "Python 3",
   "language": "python",
   "name": "python3"
  },
  "language_info": {
   "codemirror_mode": {
    "name": "ipython",
    "version": 3
   },
   "file_extension": ".py",
   "mimetype": "text/x-python",
   "name": "python",
   "nbconvert_exporter": "python",
   "pygments_lexer": "ipython3",
   "version": "3.7.3"
  },
  "toc": {
   "base_numbering": 1,
   "nav_menu": {},
   "number_sections": true,
   "sideBar": true,
   "skip_h1_title": false,
   "title_cell": "Table of Contents",
   "title_sidebar": "Contents",
   "toc_cell": false,
   "toc_position": {},
   "toc_section_display": true,
   "toc_window_display": false
  }
 },
 "nbformat": 4,
 "nbformat_minor": 4
}
