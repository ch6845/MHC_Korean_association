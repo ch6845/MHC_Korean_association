{
 "cells": [
  {
   "cell_type": "code",
   "execution_count": 1,
   "metadata": {},
   "outputs": [
    {
     "data": {
      "text/plain": [
       "'\\n\\njupyter nbconvert 5_association.ipynb --to script\\npython 5_association.py albumin 2 0\\n\\nfor i in {00..101};do python 5_association.py $i 2 1;done\\n\\n\\nfor i in {00..10};do python 5_association.py $i 2 0;done\\nfor i in {11..20};do python 5_association.py $i 2 0;done\\nfor i in {21..30};do python 5_association.py $i 2 0;done\\nfor i in {31..40};do python 5_association.py $i 2 0;done\\nfor i in {41..50};do python 5_association.py $i 2 0;done\\nfor i in {51..60};do python 5_association.py $i 2 0;done\\nfor i in {61..70};do python 5_association.py $i 2 0;done\\nfor i in {71..80};do python 5_association.py $i 2 0;done\\nfor i in {91..90};do python 5_association.py $i 2 0;done\\nfor i in {91..101};do python 5_association.py $i 2 0;done\\nfor i in {51..60};do python 5_association.py $i 2 0;done\\nfor i in {51..60};do python 5_association.py $i 2 0;done\\nfor i in {51..60};do python 5_association.py $i 2 0;done\\n\\nfor i in {00..101};do python 5_association.py $i 1 0,2;done\\nfor i in {00..101};do python 5_association.py $i 1 1;done\\n\\nfor i in {00..20};do python 5_association.py $i 1 1;done\\nfor i in {21..40};do python 5_association.py $i 1 1;done\\nfor i in {41..60};do python 5_association.py $i 1 1;done\\nfor i in {61..80};do python 5_association.py $i 1 1;done\\nfor i in {81..101};do python 5_association.py $i 1 1;done\\n\\n'"
      ]
     },
     "execution_count": 1,
     "metadata": {},
     "output_type": "execute_result"
    }
   ],
   "source": [
    "import os\n",
    "import sys\n",
    "\n",
    "import logging\n",
    "import re\n",
    "import pathlib\n",
    "\n",
    "import datetime\n",
    "\n",
    "import numpy as np\n",
    "import pandas as pd\n",
    "from scipy.stats import pearsonr\n",
    "\n",
    "import matplotlib.pyplot as plt\n",
    "\n",
    "from pyplink import PyPlink\n",
    "import seaborn as sns\n",
    "\n",
    "import statsmodels.api as sm\n",
    "\n",
    "from basic_tools import *\n",
    "\n",
    "\"\"\"\n",
    "\n",
    "jupyter nbconvert 5_association.ipynb --to script\n",
    "python 5_association.py albumin 2 0\n",
    "\n",
    "for i in {00..101};do python 5_association.py $i 2 1;done\n",
    "\n",
    "\n",
    "for i in {00..10};do python 5_association.py $i 2 0;done\n",
    "for i in {11..20};do python 5_association.py $i 2 0;done\n",
    "for i in {21..30};do python 5_association.py $i 2 0;done\n",
    "for i in {31..40};do python 5_association.py $i 2 0;done\n",
    "for i in {41..50};do python 5_association.py $i 2 0;done\n",
    "for i in {51..60};do python 5_association.py $i 2 0;done\n",
    "for i in {61..70};do python 5_association.py $i 2 0;done\n",
    "for i in {71..80};do python 5_association.py $i 2 0;done\n",
    "for i in {91..90};do python 5_association.py $i 2 0;done\n",
    "for i in {91..101};do python 5_association.py $i 2 0;done\n",
    "for i in {51..60};do python 5_association.py $i 2 0;done\n",
    "for i in {51..60};do python 5_association.py $i 2 0;done\n",
    "for i in {51..60};do python 5_association.py $i 2 0;done\n",
    "\n",
    "for i in {00..101};do python 5_association.py $i 1 0,2;done\n",
    "for i in {00..101};do python 5_association.py $i 1 1;done\n",
    "\n",
    "for i in {00..20};do python 5_association.py $i 1 1;done\n",
    "for i in {21..40};do python 5_association.py $i 1 1;done\n",
    "for i in {41..60};do python 5_association.py $i 1 1;done\n",
    "for i in {61..80};do python 5_association.py $i 1 1;done\n",
    "for i in {81..101};do python 5_association.py $i 1 1;done\n",
    "\n",
    "\"\"\""
   ]
  },
  {
   "cell_type": "code",
   "execution_count": 2,
   "metadata": {},
   "outputs": [],
   "source": [
    "plink_KCHIP_HLA_AA_SNP_1000G=PyPlink(plink_KCHIP_HLA_AA_SNP_1000G_path)\n",
    "plink_KCHIP_HLA_AA_SNP_1000G_fam=plink_KCHIP_HLA_AA_SNP_1000G.get_fam().astype({'fid':str,'iid':str}).rename(columns={'fid':'FID','iid':'IID'})\n",
    "plink_KCHIP_HLA_AA_SNP_1000G_bim=plink_KCHIP_HLA_AA_SNP_1000G.get_bim()"
   ]
  },
  {
   "cell_type": "code",
   "execution_count": 3,
   "metadata": {},
   "outputs": [],
   "source": [
    "phenotypes=pd.read_csv(pheno_all_file_path,sep='\\t')\n",
    "phenotypes=phenotypes.set_index('ID').loc[plink_KCHIP_HLA_AA_SNP_1000G_fam['IID']]\n",
    "\n",
    "binary_continuous_traits=phenotypes.columns.difference(['age','sex','cohort','diabetes'])"
   ]
  },
  {
   "cell_type": "code",
   "execution_count": 4,
   "metadata": {},
   "outputs": [
    {
     "data": {
      "text/plain": [
       "97"
      ]
     },
     "execution_count": 4,
     "metadata": {},
     "output_type": "execute_result"
    }
   ],
   "source": [
    "len(binary_continuous_traits)"
   ]
  },
  {
   "cell_type": "code",
   "execution_count": null,
   "metadata": {},
   "outputs": [],
   "source": []
  },
  {
   "cell_type": "code",
   "execution_count": null,
   "metadata": {},
   "outputs": [],
   "source": []
  },
  {
   "cell_type": "code",
   "execution_count": 48,
   "metadata": {},
   "outputs": [],
   "source": [
    "def get_a1_freq_case_control(row):\n",
    "    dosage=plink_KCHIP_HLA_AA_SNP_1000G.get_geno_marker(row['marker_name']).astype(float)\n",
    "    dosage[dosage==-1]=np.nan\n",
    "    \n",
    "    if plink_KCHIP_HLA_AA_SNP_1000G_bim.loc[row['marker_name']]['a1']==row['A1'] and plink_KCHIP_HLA_AA_SNP_1000G_bim.loc[row['marker_name']]['a2']==row['A2']:\n",
    "        pass\n",
    "    elif plink_KCHIP_HLA_AA_SNP_1000G_bim.loc[row['marker_name']]['a1']==row['A2'] and plink_KCHIP_HLA_AA_SNP_1000G_bim.loc[row['marker_name']]['a2']==row['A1']:\n",
    "        dosage=2-dosage\n",
    "\n",
    "    dosage_control=dosage[pheno['pheno']==1]\n",
    "    dosage_case=dosage[pheno['pheno']==2]\n",
    "    \n",
    "    a1_freq_case=(2*(dosage_case==2).sum()+1*(dosage_case==1).sum())/(2*((~np.isnan(dosage_case)).sum()))\n",
    "    a1_freq_control=(2*(dosage_control==2).sum()+1*(dosage_control==1).sum())/(2*((~np.isnan(dosage_control)).sum()))\n",
    "\n",
    "    return a1_freq_case,a1_freq_control\n",
    "    \n",
    "def get_a1_freq_case_nan(row):\n",
    "    dosage=plink_KCHIP_HLA_AA_SNP_1000G.get_geno_marker(row['marker_name']).astype(float)\n",
    "    dosage[dosage==-1]=np.nan\n",
    "    \n",
    "    if plink_KCHIP_HLA_AA_SNP_1000G_bim.loc[row['marker_name']]['a1']==row['A1'] and plink_KCHIP_HLA_AA_SNP_1000G_bim.loc[row['marker_name']]['a2']==row['A2']:\n",
    "        pass\n",
    "    elif plink_KCHIP_HLA_AA_SNP_1000G_bim.loc[row['marker_name']]['a1']==row['A2'] and plink_KCHIP_HLA_AA_SNP_1000G_bim.loc[row['marker_name']]['a2']==row['A1']:\n",
    "        dosage=2-dosage\n",
    "\n",
    "    dosage_case=dosage[pheno['pheno']!=-9]\n",
    "\n",
    "    a1_freq_case=(2*(dosage_case==2).sum()+1*(dosage_case==1).sum())/(2*((~np.isnan(dosage_case)).sum()))\n",
    "\n",
    "    return a1_freq_case,np.nan"
   ]
  },
  {
   "cell_type": "code",
   "execution_count": null,
   "metadata": {},
   "outputs": [],
   "source": []
  },
  {
   "cell_type": "code",
   "execution_count": null,
   "metadata": {},
   "outputs": [],
   "source": []
  },
  {
   "cell_type": "code",
   "execution_count": 46,
   "metadata": {},
   "outputs": [],
   "source": [
    "def name_to_pos(name):\n",
    "    if name[:3]=='AA_':\n",
    "        return int(name.split('_')[3])\n",
    "    elif name[:4]=='HLA_':\n",
    "        return plink_KCHIP_HLA_AA_SNP_1000G_bim.loc[plink_KCHIP_HLA_AA_SNP_1000G_bim.index.str.contains('HLA_'+name.split('*')[0].split('_')[1]+'*')].iloc[0]['pos']\n",
    "    else:\n",
    "        raise"
   ]
  },
  {
   "cell_type": "code",
   "execution_count": null,
   "metadata": {},
   "outputs": [],
   "source": []
  },
  {
   "cell_type": "code",
   "execution_count": null,
   "metadata": {},
   "outputs": [],
   "source": []
  },
  {
   "cell_type": "code",
   "execution_count": 7,
   "metadata": {},
   "outputs": [],
   "source": [
    "SNP_DB=pd.read_csv('data/mart_export_SNP.txt',sep='\\t')"
   ]
  },
  {
   "cell_type": "code",
   "execution_count": 8,
   "metadata": {},
   "outputs": [],
   "source": [
    "SNP_DB['Variant alleles set']=SNP_DB['Variant alleles'].apply(lambda x: set(x.split('/')).difference(['-']))"
   ]
  },
  {
   "cell_type": "code",
   "execution_count": 9,
   "metadata": {},
   "outputs": [],
   "source": [
    "rsid_mapper=plink_KCHIP_HLA_AA_SNP_1000G_bim.copy()\n",
    "rsid_mapper=rsid_mapper[(~rsid_mapper.index.str.contains('HLA'))\n",
    "                        |~(rsid_mapper.index.str.contains('AA_'))]"
   ]
  },
  {
   "cell_type": "code",
   "execution_count": 10,
   "metadata": {},
   "outputs": [],
   "source": [
    "def pos_a1_a2_to_rsid(row):\n",
    "    \n",
    "    SNP_DB_match=SNP_DB[(SNP_DB['Chromosome/scaffold position start (bp)']<=row['pos'])&\n",
    "                        (SNP_DB['Chromosome/scaffold position end (bp)']>=row['pos'])]\n",
    "    if len(SNP_DB_match)==0:\n",
    "        return row.name\n",
    "    \n",
    "    SNP_DB_match_match=SNP_DB_match[SNP_DB_match['Variant alleles set'].apply(lambda x: set([row['a1'],row['a2']]).issubset(x))]\n",
    "    if len(SNP_DB_match_match)==0:\n",
    "        return row.name\n",
    "    elif len(SNP_DB_match_match)==1:\n",
    "        return SNP_DB_match_match.iloc[0]['Variant name']\n",
    "\n",
    "    SNP_DB_match_match_match=SNP_DB_match_match[(SNP_DB_match_match['Chromosome/scaffold position start (bp)']<=row['pos'])&\n",
    "                            (SNP_DB_match_match['Chromosome/scaffold position end (bp)']>=row['pos'])]        \n",
    "    if len(SNP_DB_match_match_match)==0:\n",
    "        return SNP_DB_match_match.iloc[0]['Variant name']\n",
    "    elif len(SNP_DB_match_match_match)==1:\n",
    "        return SNP_DB_match_match_match.iloc[0]['Variant name']\n",
    "    else:\n",
    "        SNP_DB_match_match_match.iloc[0]['Variant name']"
   ]
  },
  {
   "cell_type": "code",
   "execution_count": 11,
   "metadata": {},
   "outputs": [],
   "source": [
    "rsid_mapper['marker_name_pub']=rsid_mapper.apply(pos_a1_a2_to_rsid,axis=1)"
   ]
  },
  {
   "cell_type": "code",
   "execution_count": 12,
   "metadata": {},
   "outputs": [],
   "source": [
    "def marker_name_to_marker_name_pub(marker_name):\n",
    "    if marker_name[:4]=='HLA_':\n",
    "        return marker_name.replace('_','-')\n",
    "    elif marker_name[:3]=='AA_':\n",
    "        marker_name_split=marker_name.split('_')\n",
    "        return 'HLA-{} position {}'.format(marker_name_split[1],marker_name_split[2])\n",
    "    else:\n",
    "        return rsid_mapper.loc[marker_name]['marker_name_pub']"
   ]
  },
  {
   "cell_type": "code",
   "execution_count": null,
   "metadata": {},
   "outputs": [],
   "source": []
  },
  {
   "cell_type": "code",
   "execution_count": null,
   "metadata": {},
   "outputs": [],
   "source": []
  },
  {
   "cell_type": "code",
   "execution_count": 49,
   "metadata": {},
   "outputs": [
    {
     "name": "stdout",
     "output_type": "stream",
     "text": [
      "FEV_over_FVC_predicted continuous\n",
      "1 "
     ]
    },
    {
     "name": "stderr",
     "output_type": "stream",
     "text": [
      "/home/ch6845/tools/miniconda3/lib/python3.7/site-packages/ipykernel_launcher.py:29: RuntimeWarning: invalid value encountered in long_scalars\n"
     ]
    },
    {
     "name": "stdout",
     "output_type": "stream",
     "text": [
      "2 meets end 2\n",
      "FEV_predicted continuous\n",
      "1 "
     ]
    },
    {
     "name": "stderr",
     "output_type": "stream",
     "text": [
      "/home/ch6845/tools/miniconda3/lib/python3.7/site-packages/ipykernel_launcher.py:29: RuntimeWarning: invalid value encountered in long_scalars\n"
     ]
    },
    {
     "name": "stdout",
     "output_type": "stream",
     "text": [
      "2 "
     ]
    },
    {
     "name": "stderr",
     "output_type": "stream",
     "text": [
      "/home/ch6845/tools/miniconda3/lib/python3.7/site-packages/ipykernel_launcher.py:29: RuntimeWarning: invalid value encountered in long_scalars\n"
     ]
    },
    {
     "name": "stdout",
     "output_type": "stream",
     "text": [
      "3 meets end 3\n",
      "FVC_predicted continuous\n",
      "1 "
     ]
    },
    {
     "name": "stderr",
     "output_type": "stream",
     "text": [
      "/home/ch6845/tools/miniconda3/lib/python3.7/site-packages/ipykernel_launcher.py:29: RuntimeWarning: invalid value encountered in long_scalars\n"
     ]
    },
    {
     "name": "stdout",
     "output_type": "stream",
     "text": [
      "2 "
     ]
    },
    {
     "name": "stderr",
     "output_type": "stream",
     "text": [
      "/home/ch6845/tools/miniconda3/lib/python3.7/site-packages/ipykernel_launcher.py:29: RuntimeWarning: invalid value encountered in long_scalars\n"
     ]
    },
    {
     "name": "stdout",
     "output_type": "stream",
     "text": [
      "3 meets end 3\n",
      "MVV_predicted continuous\n",
      "1 "
     ]
    },
    {
     "name": "stderr",
     "output_type": "stream",
     "text": [
      "/home/ch6845/tools/miniconda3/lib/python3.7/site-packages/ipykernel_launcher.py:29: RuntimeWarning: invalid value encountered in long_scalars\n"
     ]
    },
    {
     "name": "stdout",
     "output_type": "stream",
     "text": [
      "2 meets end 2\n",
      "acute_liver_disease binary\n",
      "1 2 meets end 2\n",
      "albumin continuous\n",
      "1 "
     ]
    },
    {
     "name": "stderr",
     "output_type": "stream",
     "text": [
      "/home/ch6845/tools/miniconda3/lib/python3.7/site-packages/IPython/core/interactiveshell.py:3049: DtypeWarning: Columns (11) have mixed types. Specify dtype option on import or set low_memory=False.\n",
      "  interactivity=interactivity, compiler=compiler, result=result)\n"
     ]
    },
    {
     "name": "stdout",
     "output_type": "stream",
     "text": [
      "2 "
     ]
    },
    {
     "name": "stderr",
     "output_type": "stream",
     "text": [
      "/home/ch6845/tools/miniconda3/lib/python3.7/site-packages/IPython/core/interactiveshell.py:3049: DtypeWarning: Columns (11) have mixed types. Specify dtype option on import or set low_memory=False.\n",
      "  interactivity=interactivity, compiler=compiler, result=result)\n"
     ]
    },
    {
     "name": "stdout",
     "output_type": "stream",
     "text": [
      "3 "
     ]
    },
    {
     "name": "stderr",
     "output_type": "stream",
     "text": [
      "/home/ch6845/tools/miniconda3/lib/python3.7/site-packages/IPython/core/interactiveshell.py:3049: DtypeWarning: Columns (11) have mixed types. Specify dtype option on import or set low_memory=False.\n",
      "  interactivity=interactivity, compiler=compiler, result=result)\n"
     ]
    },
    {
     "name": "stdout",
     "output_type": "stream",
     "text": [
      "4 meets end 4\n",
      "allergic_disease binary\n",
      "1 2 3 meets end 3\n",
      "alt continuous\n",
      "1 2 3 4 meets end 4\n",
      "angina_pectoris_myocardial_infarction binary\n",
      "1 2 meets end 2\n",
      "arthritis binary\n",
      "1 2 meets end 2\n",
      "ast continuous\n",
      "1 2 3 4 meets end 4\n",
      "asthma binary\n",
      "1 2 meets end 2\n",
      "benign_prostatic_hyperplasia binary\n",
      "1 2 meets end 2\n",
      "big_baby binary\n",
      "1 2 meets end 2\n",
      "bladder_cancer binary\n",
      "1 2 meets end 2\n",
      "blood_in_urine binary\n",
      "1 2 error blood_in_urine 2\n",
      "bmi continuous\n",
      "1 2 3 4 meets end 4\n",
      "bone_density_distal_sos continuous\n",
      "1 "
     ]
    },
    {
     "name": "stderr",
     "output_type": "stream",
     "text": [
      "/home/ch6845/tools/miniconda3/lib/python3.7/site-packages/ipykernel_launcher.py:29: RuntimeWarning: invalid value encountered in long_scalars\n"
     ]
    },
    {
     "name": "stdout",
     "output_type": "stream",
     "text": [
      "2 meets end 2\n",
      "bone_density_midshaft_sos continuous\n",
      "1 "
     ]
    },
    {
     "name": "stderr",
     "output_type": "stream",
     "text": [
      "/home/ch6845/tools/miniconda3/lib/python3.7/site-packages/ipykernel_launcher.py:29: RuntimeWarning: invalid value encountered in long_scalars\n"
     ]
    },
    {
     "name": "stdout",
     "output_type": "stream",
     "text": [
      "2 meets end 2\n",
      "breast_cancer binary\n",
      "1 2 meets end 2\n",
      "bun continuous\n",
      "1 2 3 meets end 3\n",
      "cataract binary\n",
      "1 2 meets end 2\n",
      "cervical_cancer binary\n",
      "1 "
     ]
    },
    {
     "name": "stderr",
     "output_type": "stream",
     "text": [
      "/home/ch6845/tools/miniconda3/lib/python3.7/site-packages/IPython/core/interactiveshell.py:3049: DtypeWarning: Columns (8,11) have mixed types. Specify dtype option on import or set low_memory=False.\n",
      "  interactivity=interactivity, compiler=compiler, result=result)\n"
     ]
    },
    {
     "name": "stdout",
     "output_type": "stream",
     "text": [
      "2 meets end 2\n",
      "child_dead continuous\n",
      "1 "
     ]
    },
    {
     "name": "stderr",
     "output_type": "stream",
     "text": [
      "/home/ch6845/tools/miniconda3/lib/python3.7/site-packages/ipykernel_launcher.py:29: RuntimeWarning: invalid value encountered in long_scalars\n"
     ]
    },
    {
     "name": "stdout",
     "output_type": "stream",
     "text": [
      "2 meets end 2\n",
      "child_delivery_number continuous\n",
      "1 2 meets end 2\n",
      "child_present continuous\n",
      "1 "
     ]
    },
    {
     "name": "stderr",
     "output_type": "stream",
     "text": [
      "/home/ch6845/tools/miniconda3/lib/python3.7/site-packages/ipykernel_launcher.py:29: RuntimeWarning: invalid value encountered in long_scalars\n"
     ]
    },
    {
     "name": "stdout",
     "output_type": "stream",
     "text": [
      "2 meets end 2\n",
      "cholelithiasis_cholecystitis binary\n",
      "1 2 meets end 2\n",
      "chronic_bronchitis binary\n",
      "1 2 meets end 2\n",
      "chronic_gastritis_stomach_ulcer binary\n",
      "1 2 meets end 2\n",
      "colon_polyps binary\n",
      "1 2 meets end 2\n",
      "colorectal_cancer binary\n",
      "1 2 meets end 2\n",
      "copd binary\n",
      "1 2 meets end 2\n",
      "creatinine continuous\n",
      "1 2 3 4 5 meets end 5\n",
      "diastolic_blood_pressure continuous\n",
      "1 2 3 meets end 3\n",
      "duodenal_ulcer binary\n",
      "1 2 meets end 2\n",
      "fatty_liver binary\n",
      "1 2 meets end 2\n",
      "fracture binary\n",
      "1 2 meets end 2\n",
      "freet4 continuous\n",
      "1 "
     ]
    },
    {
     "name": "stderr",
     "output_type": "stream",
     "text": [
      "/home/ch6845/tools/miniconda3/lib/python3.7/site-packages/ipykernel_launcher.py:29: RuntimeWarning: invalid value encountered in long_scalars\n"
     ]
    },
    {
     "name": "stdout",
     "output_type": "stream",
     "text": [
      "2 meets end 2\n",
      "glaucoma binary\n",
      "1 2 meets end 2\n",
      "glucose_in_urine binary\n",
      "1 2 meets end 2\n",
      "gout binary\n",
      "1 2 meets end 2\n",
      "grip_strength continuous\n",
      "1 2 3 meets end 3\n",
      "gtp continuous\n",
      "1 2 meets end 2\n",
      "hba1c continuous\n",
      "1 2 3 meets end 3\n",
      "hdl_cholesterol continuous\n",
      "1 2 3 5 meets end 5\n",
      "heart_failure binary\n",
      "1 2 meets end 2\n",
      "height continuous\n",
      "1 2 3 4 5 6 7 meets end 7\n",
      "hematocrit continuous\n",
      "1 2 3 4 5 meets end 5\n",
      "hemoglobin continuous\n",
      "1 2 3 meets end 3\n",
      "hip_circumference continuous\n",
      "1 2 3 4 5 meets end 5\n",
      "hscrp continuous\n",
      "1 2 3 meets end 3\n",
      "hyperlipidemia binary\n",
      "1 2 3 meets end 3\n",
      "hypertension binary\n",
      "1 2 3 meets end 3\n",
      "hysterectomy binary\n",
      "1 2 meets end 2\n",
      "insomnia binary\n",
      "1 "
     ]
    },
    {
     "name": "stderr",
     "output_type": "stream",
     "text": [
      "/home/ch6845/tools/miniconda3/lib/python3.7/site-packages/ipykernel_launcher.py:13: RuntimeWarning: invalid value encountered in long_scalars\n",
      "  del sys.path[0]\n",
      "/home/ch6845/tools/miniconda3/lib/python3.7/site-packages/ipykernel_launcher.py:14: RuntimeWarning: invalid value encountered in long_scalars\n",
      "  \n"
     ]
    },
    {
     "name": "stdout",
     "output_type": "stream",
     "text": [
      "2 meets end 2\n",
      "liver_cancer binary\n",
      "1 2 meets end 2\n",
      "lung_cancer binary\n",
      "1 2 meets end 2\n",
      "mch continuous\n",
      "1 2 3 meets end 3\n",
      "mchc continuous\n",
      "1 2 meets end 2\n",
      "mcv continuous\n",
      "1 2 3 meets end 3\n",
      "menarche_onset_age continuous\n",
      "1 2 meets end 2\n",
      "menopause_age continuous\n",
      "1 2 3 meets end 3\n",
      "menopause_cycle continuous\n",
      "1 2 meets end 2\n",
      "neurosis binary\n",
      "1 2 meets end 2\n",
      "osteoporosis binary\n",
      "1 "
     ]
    },
    {
     "name": "stderr",
     "output_type": "stream",
     "text": [
      "/home/ch6845/tools/miniconda3/lib/python3.7/site-packages/IPython/core/interactiveshell.py:3049: DtypeWarning: Columns (11) have mixed types. Specify dtype option on import or set low_memory=False.\n",
      "  interactivity=interactivity, compiler=compiler, result=result)\n"
     ]
    },
    {
     "name": "stdout",
     "output_type": "stream",
     "text": [
      "2 meets end 2\n",
      "ovarian_extraction binary\n",
      "1 2 meets end 2\n",
      "parkinson binary\n",
      "1 2 meets end 2\n",
      "periodontal_disease binary\n",
      "1 2 meets end 2\n",
      "peripheral_vascular_diseases binary\n",
      "1 "
     ]
    },
    {
     "name": "stderr",
     "output_type": "stream",
     "text": [
      "/home/ch6845/tools/miniconda3/lib/python3.7/site-packages/ipykernel_launcher.py:13: RuntimeWarning: invalid value encountered in long_scalars\n",
      "  del sys.path[0]\n",
      "/home/ch6845/tools/miniconda3/lib/python3.7/site-packages/ipykernel_launcher.py:14: RuntimeWarning: invalid value encountered in long_scalars\n",
      "  \n"
     ]
    },
    {
     "name": "stdout",
     "output_type": "stream",
     "text": [
      "2 meets end 2\n",
      "platelet continuous\n",
      "1 2 3 4 5 6 7 meets end 7\n",
      "prostate_cancer binary\n",
      "1 2 meets end 2\n",
      "protein_in_blood continuous\n",
      "1 2 3 meets end 3\n",
      "protein_in_urine binary\n",
      "1 2 meets end 2\n",
      "pulse continuous\n",
      "1 2 3 meets end 3\n",
      "pwi_total continuous\n",
      "1 2 meets end 2\n",
      "rbc continuous\n",
      "1 2 4 5 6 meets end 6\n",
      "renal_failure binary\n",
      "1 2 meets end 2\n",
      "renin continuous\n",
      "1 "
     ]
    },
    {
     "name": "stderr",
     "output_type": "stream",
     "text": [
      "/home/ch6845/tools/miniconda3/lib/python3.7/site-packages/ipykernel_launcher.py:29: RuntimeWarning: invalid value encountered in long_scalars\n"
     ]
    },
    {
     "name": "stdout",
     "output_type": "stream",
     "text": [
      "2 meets end 2\n",
      "rheumatoid_arthritis binary\n",
      "1 "
     ]
    },
    {
     "name": "stderr",
     "output_type": "stream",
     "text": [
      "/home/ch6845/tools/miniconda3/lib/python3.7/site-packages/ipykernel_launcher.py:13: RuntimeWarning: invalid value encountered in long_scalars\n",
      "  del sys.path[0]\n",
      "/home/ch6845/tools/miniconda3/lib/python3.7/site-packages/ipykernel_launcher.py:14: RuntimeWarning: invalid value encountered in long_scalars\n",
      "  \n"
     ]
    },
    {
     "name": "stdout",
     "output_type": "stream",
     "text": [
      "2 meets end 2\n",
      "sleep_duration continuous\n",
      "1 "
     ]
    },
    {
     "name": "stderr",
     "output_type": "stream",
     "text": [
      "/home/ch6845/tools/miniconda3/lib/python3.7/site-packages/ipykernel_launcher.py:29: RuntimeWarning: invalid value encountered in long_scalars\n"
     ]
    },
    {
     "name": "stdout",
     "output_type": "stream",
     "text": [
      "2 meets end 2\n",
      "small_baby binary\n",
      "1 2 meets end 2\n",
      "stomach_cancer binary\n",
      "1 2 meets end 2\n",
      "stroke binary\n",
      "1 2 meets end 2\n",
      "systolic_blood_pressure continuous\n",
      "1 2 3 meets end 3\n",
      "t2_diabetes binary\n",
      "1 2 3 meets end 3\n",
      "thyroid_cancer binary\n",
      "1 2 meets end 2\n",
      "thyroid_disease binary\n",
      "1 2 3 4 meets end 4\n",
      "total_bilirubin continuous\n",
      "1 2 meets end 2\n",
      "total_cholesterol continuous\n",
      "1 2 3 meets end 3\n",
      "transient_ischemic_attacks binary\n",
      "1 2 meets end 2\n",
      "triglyceride continuous\n",
      "1 2 3 4 meets end 4\n",
      "tsh continuous\n",
      "1 "
     ]
    },
    {
     "name": "stderr",
     "output_type": "stream",
     "text": [
      "/home/ch6845/tools/miniconda3/lib/python3.7/site-packages/ipykernel_launcher.py:29: RuntimeWarning: invalid value encountered in long_scalars\n"
     ]
    },
    {
     "name": "stdout",
     "output_type": "stream",
     "text": [
      "2 meets end 2\n",
      "tuberculosis binary\n",
      "1 2 meets end 2\n",
      "urinary_tract_infection binary\n",
      "1 2 meets end 2\n",
      "waist_circumference continuous\n",
      "1 2 meets end 2\n",
      "wbc continuous\n",
      "1 2 3 4 5 6 meets end 6\n",
      "weight continuous\n",
      "1 2 3 4 5 6 meets end 6\n"
     ]
    }
   ],
   "source": [
    "for phenotype_name in binary_continuous_traits:\n",
    "    data_out_assoc_phenotype_path=data_out_assoc_path+phenotype_name+'/'\n",
    "    pheno=pd.read_csv(data_out_pheno_path+phenotype_name+'.phe',sep='\\t',names=['FID','IID','pheno'])\n",
    "    \n",
    "    phenotype_type='binary' if len(pheno['pheno'][pheno['pheno']!=-9].value_counts())<3 else 'continuous'    \n",
    "    print(phenotype_name,phenotype_type)\n",
    "    try:\n",
    "        for step_idx_sub in range(1,100):\n",
    "            print(step_idx_sub,end=' ')\n",
    "            if os.path.exists(data_out_assoc_phenotype_path+'step_{:02d}.cond.stop'.format(step_idx_sub)):\n",
    "                print('meets end',step_idx_sub)\n",
    "                break\n",
    "\n",
    "            GAT_result=pd.read_csv(data_out_assoc_phenotype_path+'step_{:02d}.GAT.result.tsv'.format(step_idx_sub),sep='\\t')\n",
    "            GAT_result['POS']=GAT_result['marker_name'].map(name_to_pos)\n",
    "\n",
    "            plink_result=pd.read_csv(data_out_assoc_phenotype_path+'step_{:02d}.plink.PHENO2.glm.{}'.format(step_idx_sub,'logistic' if phenotype_type=='binary' else 'linear'),sep='\\t')\n",
    "            plink_result_munge=plink_result[plink_result['TEST']=='ADD'].drop(columns='#CHROM').rename(columns={'TEST':'term','ID':'marker_name','BETA':'coef','SE':'std','T_STAT':'Z','Z_STAT':'Z','OBS_CT':'nobs'})\n",
    "            plink_result_munge['A2']=plink_result_munge.apply(lambda x: x['ALT'] if x['A1']==x['REF'] else x['REF'],axis=1)\n",
    "            \n",
    "            if phenotype_type=='binary':\n",
    "                assert set(pheno['pheno'].unique())=={-9,1,2}\n",
    "                a1_freq_case_control=plink_result_munge.apply(get_a1_freq_case_control,axis=1)\n",
    "                plink_result_munge['A1_freq_case']=[i[0] for i in a1_freq_case_control]\n",
    "                plink_result_munge['A1_freq_control']=[i[1] for i in a1_freq_case_control]\n",
    "            else:\n",
    "                a1_freq_case_nan=plink_result_munge.apply(get_a1_freq_case_nan,axis=1)\n",
    "                plink_result_munge['A1_freq_case']=[i[0] for i in a1_freq_case_nan]\n",
    "                plink_result_munge['A1_freq_control']=np.nan\n",
    "            \n",
    "            plink_result_munge=plink_result_munge.drop(columns=['REF','ALT'])\n",
    "            plink_result_munge['note']='unphased bialleic'\n",
    "\n",
    "            result_merge=pd.concat([GAT_result,plink_result_munge],sort=True)\n",
    "            result_merge['phenotype_name']=phenotype_name\n",
    "            \n",
    "            result_merge['marker_name_pub']=result_merge['marker_name'].apply(marker_name_to_marker_name_pub)\n",
    "            \n",
    "            if phenotype_type=='binary':\n",
    "                result_merge['samples(case/control)']='{}/{}'.format((pheno['pheno']==2).sum(),(pheno['pheno']==1).sum())\n",
    "            else:\n",
    "                result_merge['samples(case/control)']='{}'.format((pheno['pheno']!=-9).sum())\n",
    "\n",
    "            result_merge['step']=step_idx_sub\n",
    "            with open(data_out_assoc_phenotype_path+'step_{:02d}.cond'.format(step_idx_sub)) as f:\n",
    "                result_merge['condition']=','.join(f.read().split())        \n",
    "            result_merge=result_merge[['phenotype_name','samples(case/control)','step','condition','marker_name','note','term','POS','A1','A2','A1_freq_case','A1_freq_control','multi_allele','nobs','Z','coef','std','chisq','df','P']]\n",
    "            result_merge.sort_values('POS').to_csv(data_out_assoc_phenotype_path+'step_{:02d}.merge.result.tsv'.format(step_idx_sub),sep='\\t')\n",
    "    except:\n",
    "        print('error',phenotype_name,step_idx_sub)"
   ]
  },
  {
   "cell_type": "code",
   "execution_count": null,
   "metadata": {},
   "outputs": [],
   "source": []
  },
  {
   "cell_type": "code",
   "execution_count": null,
   "metadata": {},
   "outputs": [],
   "source": []
  },
  {
   "cell_type": "code",
   "execution_count": null,
   "metadata": {},
   "outputs": [],
   "source": []
  },
  {
   "cell_type": "code",
   "execution_count": null,
   "metadata": {},
   "outputs": [],
   "source": []
  },
  {
   "cell_type": "code",
   "execution_count": null,
   "metadata": {},
   "outputs": [],
   "source": []
  },
  {
   "cell_type": "code",
   "execution_count": 7,
   "metadata": {},
   "outputs": [],
   "source": [
    "def name_to_pos(name):\n",
    "    if name[:3]=='AA_':\n",
    "        return int(name.split('_')[3])\n",
    "    elif name[:4]=='HLA_':\n",
    "        return plink_KCHIP_HLA_AA_SNP_1000G_bim.loc[plink_KCHIP_HLA_AA_SNP_1000G_bim.index.str.contains('HLA_'+name.split('*')[0].split('_')[1]+'*')].iloc[0]['pos']\n",
    "    else:\n",
    "        raise"
   ]
  },
  {
   "cell_type": "code",
   "execution_count": 18,
   "metadata": {},
   "outputs": [
    {
     "data": {
      "text/plain": [
       "array(['AA_', 'AFF', 'HLA'], dtype=object)"
      ]
     },
     "execution_count": 18,
     "metadata": {},
     "output_type": "execute_result"
    }
   ],
   "source": [
    "GAT_result['marker_name'].str.slice(stop=3).unique()"
   ]
  },
  {
   "cell_type": "code",
   "execution_count": 20,
   "metadata": {},
   "outputs": [
    {
     "data": {
      "text/plain": [
       "array(['AA_', 'HLA'], dtype=object)"
      ]
     },
     "execution_count": 20,
     "metadata": {},
     "output_type": "execute_result"
    }
   ],
   "source": [
    "GAT_result['marker_name'].str.slice(stop=3).unique()"
   ]
  },
  {
   "cell_type": "code",
   "execution_count": null,
   "metadata": {},
   "outputs": [],
   "source": [
    "for phenotype_name in binary_continuous_traits:\n",
    "    phenotype_name='height'\n",
    "    \n",
    "    data_out_assoc_phenotype_path=data_out_assoc_path+phenotype_name+'/'\n",
    "    pheno=pd.read_csv(data_out_pheno_path+phenotype_name+'.phe',sep='\\t',names=['FID','IID','pheno'])\n",
    "    \n",
    "    phenotype_type='binary' if len(pheno['pheno'][pheno['pheno']!=-9].value_counts())<3 else 'continuous'    \n",
    "    print(phenotype_name,phenotype_type)\n",
    "    \n",
    "    for step_idx_sub in range(1,100):\n",
    "        print(step_idx_sub,end=' ')\n",
    "        if os.path.exists(data_out_assoc_phenotype_path+'step_{:02d}.cond.stop'.format(step_idx_sub)):\n",
    "            print('meets end',step_idx_sub)\n",
    "            break\n",
    "\n",
    "        GAT_result=pd.read_csv(data_out_assoc_phenotype_path+'step_{:02d}.GAT.result.tsv'.format(step_idx_sub),sep='\\t')\n",
    "        GAT_result['POS']=GAT_result['marker_name'].map(name_to_pos)\n",
    "\n",
    "        plink_result=pd.read_csv(data_out_assoc_phenotype_path+'step_{:02d}.plink.PHENO2.glm.{}'.format(step_idx_sub,'logistic' if phenotype_type=='binary' else 'linear'),sep='\\t')\n",
    "        plink_result_munge=plink_result[plink_result['TEST']=='ADD'].drop(columns='#CHROM').rename(columns={'TEST':'term','ID':'marker_name','BETA':'coef','SE':'std','T_STAT':'Z','Z_STAT':'Z','OBS_CT':'nobs'})\n",
    "        plink_result_munge['A2']=plink_result_munge.apply(lambda x: x['ALT'] if x['A1']==x['REF'] else x['REF'],axis=1)\n",
    "        if phenotype_type=='binary':\n",
    "            assert set(pheno['pheno'].unique())=={-9,1,2}\n",
    "            a1_freq_case_control=plink_result_munge.apply(get_a1_freq_case_control,axis=1)\n",
    "            plink_result_munge['A1_freq_case']=[i[0] for i in a1_freq_case_control]\n",
    "            plink_result_munge['A1_freq_control']=[i[1] for i in a1_freq_case_control]\n",
    "        else:\n",
    "            plink_result_munge['A1_freq_case'],plink_result_munge['A1_freq_control']=np.nan,np.nan\n",
    "        plink_result_munge=plink_result_munge.drop(columns=['REF','ALT'])\n",
    "        plink_result_munge['note']='unphased bialleic'\n",
    "\n",
    "        result_merge=pd.concat([GAT_result,plink_result_munge],sort=True)\n",
    "        result_merge['phenotype_name']=phenotype_name\n",
    "        if phenotype_type=='binary':\n",
    "            result_merge['samples(case/control)']='{}/{}'.format((pheno['pheno']==2).sum(),(pheno['pheno']==1).sum())\n",
    "        else:\n",
    "            result_merge['samples(case/control)']='{}'.format((pheno['pheno']!=-9).sum())\n",
    "\n",
    "        result_merge['step']=step_idx_sub\n",
    "        with open(data_out_assoc_phenotype_path+'step_{:02d}.cond'.format(step_idx_sub)) as f:\n",
    "            result_merge['condition']=','.join(f.read().split())        \n",
    "        result_merge=result_merge[['phenotype_name','samples(case/control)','step','condition','marker_name','note','term','POS','A1','A2','A1_freq_case','A1_freq_control','multi_allele','nobs','Z','coef','std','chisq','df','P']]\n",
    "        result_merge.sort_values('POS').to_csv(data_out_assoc_phenotype_path+'step_{:02d}.merge.result.tsv'.format(step_idx_sub),sep='\\t')\n"
   ]
  },
  {
   "cell_type": "code",
   "execution_count": null,
   "metadata": {},
   "outputs": [],
   "source": []
  },
  {
   "cell_type": "code",
   "execution_count": 17,
   "metadata": {},
   "outputs": [],
   "source": []
  },
  {
   "cell_type": "code",
   "execution_count": 23,
   "metadata": {},
   "outputs": [
    {
     "data": {
      "text/html": [
       "<div>\n",
       "<style scoped>\n",
       "    .dataframe tbody tr th:only-of-type {\n",
       "        vertical-align: middle;\n",
       "    }\n",
       "\n",
       "    .dataframe tbody tr th {\n",
       "        vertical-align: top;\n",
       "    }\n",
       "\n",
       "    .dataframe thead th {\n",
       "        text-align: right;\n",
       "    }\n",
       "</style>\n",
       "<table border=\"1\" class=\"dataframe\">\n",
       "  <thead>\n",
       "    <tr style=\"text-align: right;\">\n",
       "      <th></th>\n",
       "      <th>Variant name</th>\n",
       "      <th>Variant source</th>\n",
       "      <th>Chromosome/scaffold name</th>\n",
       "      <th>Chromosome/scaffold position start (bp)</th>\n",
       "      <th>Chromosome/scaffold position end (bp)</th>\n",
       "      <th>Variant alleles</th>\n",
       "    </tr>\n",
       "  </thead>\n",
       "  <tbody>\n",
       "    <tr>\n",
       "      <th>1402001</th>\n",
       "      <td>rs76863928</td>\n",
       "      <td>dbSNP</td>\n",
       "      <td>6</td>\n",
       "      <td>34207474</td>\n",
       "      <td>34207474</td>\n",
       "      <td>T/A</td>\n",
       "    </tr>\n",
       "    <tr>\n",
       "      <th>1402002</th>\n",
       "      <td>rs869142459</td>\n",
       "      <td>dbSNP</td>\n",
       "      <td>6</td>\n",
       "      <td>34207474</td>\n",
       "      <td>34207474</td>\n",
       "      <td>T/-</td>\n",
       "    </tr>\n",
       "    <tr>\n",
       "      <th>1402003</th>\n",
       "      <td>rs1554142463</td>\n",
       "      <td>dbSNP</td>\n",
       "      <td>6</td>\n",
       "      <td>34207474</td>\n",
       "      <td>34207474</td>\n",
       "      <td>T/AA</td>\n",
       "    </tr>\n",
       "  </tbody>\n",
       "</table>\n",
       "</div>"
      ],
      "text/plain": [
       "         Variant name Variant source  Chromosome/scaffold name  \\\n",
       "1402001    rs76863928          dbSNP                         6   \n",
       "1402002   rs869142459          dbSNP                         6   \n",
       "1402003  rs1554142463          dbSNP                         6   \n",
       "\n",
       "         Chromosome/scaffold position start (bp)  \\\n",
       "1402001                                 34207474   \n",
       "1402002                                 34207474   \n",
       "1402003                                 34207474   \n",
       "\n",
       "         Chromosome/scaffold position end (bp) Variant alleles  \n",
       "1402001                               34207474             T/A  \n",
       "1402002                               34207474             T/-  \n",
       "1402003                               34207474            T/AA  "
      ]
     },
     "execution_count": 23,
     "metadata": {},
     "output_type": "execute_result"
    }
   ],
   "source": []
  },
  {
   "cell_type": "code",
   "execution_count": null,
   "metadata": {},
   "outputs": [],
   "source": []
  }
 ],
 "metadata": {
  "kernelspec": {
   "display_name": "Python 3",
   "language": "python",
   "name": "python3"
  },
  "language_info": {
   "codemirror_mode": {
    "name": "ipython",
    "version": 3
   },
   "file_extension": ".py",
   "mimetype": "text/x-python",
   "name": "python",
   "nbconvert_exporter": "python",
   "pygments_lexer": "ipython3",
   "version": "3.7.3"
  },
  "toc": {
   "base_numbering": 1,
   "nav_menu": {},
   "number_sections": true,
   "sideBar": true,
   "skip_h1_title": false,
   "title_cell": "Table of Contents",
   "title_sidebar": "Contents",
   "toc_cell": false,
   "toc_position": {},
   "toc_section_display": true,
   "toc_window_display": false
  }
 },
 "nbformat": 4,
 "nbformat_minor": 4
}
