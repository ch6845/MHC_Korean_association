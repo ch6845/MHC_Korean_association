{
 "cells": [
  {
   "cell_type": "code",
   "execution_count": 223,
   "metadata": {},
   "outputs": [],
   "source": [
    "import os\n",
    "import sys\n",
    "\n",
    "import logging\n",
    "import re\n",
    "import pathlib\n",
    "\n",
    "import datetime\n",
    "\n",
    "import numpy as np\n",
    "import pandas as pd\n",
    "from scipy.stats import pearsonr\n",
    "\n",
    "import matplotlib.pyplot as plt\n",
    "\n",
    "from pyplink import PyPlink\n",
    "\n",
    "from basic_tools import *"
   ]
  },
  {
   "cell_type": "markdown",
   "metadata": {},
   "source": []
  },
  {
   "cell_type": "code",
   "execution_count": 224,
   "metadata": {},
   "outputs": [],
   "source": [
    "with open('data/HLA_A_freq.txt') as f:\n",
    "    data=f.read()"
   ]
  },
  {
   "cell_type": "code",
   "execution_count": 225,
   "metadata": {},
   "outputs": [
    {
     "data": {
      "text/html": [
       "<div>\n",
       "<style scoped>\n",
       "    .dataframe tbody tr th:only-of-type {\n",
       "        vertical-align: middle;\n",
       "    }\n",
       "\n",
       "    .dataframe tbody tr th {\n",
       "        vertical-align: top;\n",
       "    }\n",
       "\n",
       "    .dataframe thead th {\n",
       "        text-align: right;\n",
       "    }\n",
       "</style>\n",
       "<table border=\"1\" class=\"dataframe\">\n",
       "  <thead>\n",
       "    <tr style=\"text-align: right;\">\n",
       "      <th></th>\n",
       "      <th>0</th>\n",
       "      <th>1</th>\n",
       "      <th>2</th>\n",
       "    </tr>\n",
       "  </thead>\n",
       "  <tbody>\n",
       "    <tr>\n",
       "      <th>0</th>\n",
       "      <td>A*01:01:01G</td>\n",
       "      <td>C</td>\n",
       "      <td>913(1.742)</td>\n",
       "    </tr>\n",
       "    <tr>\n",
       "      <th>1</th>\n",
       "      <td>A*02:01:01G</td>\n",
       "      <td>C</td>\n",
       "      <td>8339(15.913)</td>\n",
       "    </tr>\n",
       "    <tr>\n",
       "      <th>2</th>\n",
       "      <td>A*02:01:02a</td>\n",
       "      <td>R</td>\n",
       "      <td>2(0.004)</td>\n",
       "    </tr>\n",
       "    <tr>\n",
       "      <th>3</th>\n",
       "      <td>A*02:01:09a</td>\n",
       "      <td>R</td>\n",
       "      <td>1(0.002)</td>\n",
       "    </tr>\n",
       "    <tr>\n",
       "      <th>4</th>\n",
       "      <td>A*02:01:18a</td>\n",
       "      <td>R</td>\n",
       "      <td>1(0.002)</td>\n",
       "    </tr>\n",
       "    <tr>\n",
       "      <th>...</th>\n",
       "      <td>...</td>\n",
       "      <td>...</td>\n",
       "      <td>...</td>\n",
       "    </tr>\n",
       "    <tr>\n",
       "      <th>69</th>\n",
       "      <td>A*68:02:01Ga</td>\n",
       "      <td>C</td>\n",
       "      <td>1(0.002)</td>\n",
       "    </tr>\n",
       "    <tr>\n",
       "      <th>70</th>\n",
       "      <td>A*69:01</td>\n",
       "      <td>C</td>\n",
       "      <td>-</td>\n",
       "    </tr>\n",
       "    <tr>\n",
       "      <th>71</th>\n",
       "      <td>A*02:149VN</td>\n",
       "      <td>1(0.002)</td>\n",
       "      <td>None</td>\n",
       "    </tr>\n",
       "    <tr>\n",
       "      <th>72</th>\n",
       "      <td>A*26VN</td>\n",
       "      <td>1(0.002)</td>\n",
       "      <td>None</td>\n",
       "    </tr>\n",
       "    <tr>\n",
       "      <th>73</th>\n",
       "      <td>A*31:01VN</td>\n",
       "      <td>1(0.002)</td>\n",
       "      <td>None</td>\n",
       "    </tr>\n",
       "  </tbody>\n",
       "</table>\n",
       "<p>74 rows × 3 columns</p>\n",
       "</div>"
      ],
      "text/plain": [
       "               0         1             2\n",
       "0    A*01:01:01G         C    913(1.742)\n",
       "1    A*02:01:01G         C  8339(15.913)\n",
       "2    A*02:01:02a         R      2(0.004)\n",
       "3    A*02:01:09a         R      1(0.002)\n",
       "4    A*02:01:18a         R      1(0.002)\n",
       "..           ...       ...           ...\n",
       "69  A*68:02:01Ga         C      1(0.002)\n",
       "70       A*69:01         C             -\n",
       "71    A*02:149VN  1(0.002)          None\n",
       "72        A*26VN  1(0.002)          None\n",
       "73     A*31:01VN  1(0.002)          None\n",
       "\n",
       "[74 rows x 3 columns]"
      ]
     },
     "execution_count": 225,
     "metadata": {},
     "output_type": "execute_result"
    }
   ],
   "source": [
    "pd.DataFrame([row.replace(' (','(').replace(' V','V').replace(' N','N').split(' ')[:-1] for row in data.split('\\n')])"
   ]
  },
  {
   "cell_type": "markdown",
   "metadata": {},
   "source": [
    "# load plink, aa and check integrity"
   ]
  },
  {
   "cell_type": "code",
   "execution_count": 226,
   "metadata": {},
   "outputs": [],
   "source": [
    "plink_KCHIP_HLA_AA_SNP_1000G=PyPlink(plink_KCHIP_HLA_AA_SNP_1000G_path)\n",
    "plink_KCHIP_HLA_AA_SNP_1000G_fam=plink_KCHIP_HLA_AA_SNP_1000G.get_fam().astype({'fid':str,'iid':str}).rename(columns={'fid':'FID','iid':'IID'})\n",
    "plink_KCHIP_HLA_AA_SNP_1000G_bim=plink_KCHIP_HLA_AA_SNP_1000G.get_bim()"
   ]
  },
  {
   "cell_type": "markdown",
   "metadata": {},
   "source": [
    "# load phenotype and check integrity"
   ]
  },
  {
   "cell_type": "code",
   "execution_count": 227,
   "metadata": {},
   "outputs": [],
   "source": [
    "phenotypes=pd.read_csv(pheno_all_file_path,sep='\\t')"
   ]
  },
  {
   "cell_type": "code",
   "execution_count": 228,
   "metadata": {},
   "outputs": [
    {
     "data": {
      "text/plain": [
       "(125673, 101)"
      ]
     },
     "execution_count": 228,
     "metadata": {},
     "output_type": "execute_result"
    }
   ],
   "source": [
    "phenotypes=phenotypes.set_index('ID').loc[plink_KCHIP_HLA_AA_SNP_1000G_fam['IID']]\n",
    "phenotypes.shape"
   ]
  },
  {
   "cell_type": "code",
   "execution_count": 229,
   "metadata": {},
   "outputs": [],
   "source": [
    "#plink_KCHIP_HLA_AA_SNP_1000G_bim[plink_KCHIP_HLA_AA_SNP_1000G_bim.index.str.contains('HLA')]['a2'].unique()"
   ]
  },
  {
   "cell_type": "code",
   "execution_count": 399,
   "metadata": {},
   "outputs": [],
   "source": [
    "dosage_dict={}\n",
    "for idx_bim,(SNP,row) in enumerate(plink_KCHIP_HLA_AA_SNP_1000G_bim.iterrows()):\n",
    "    if 'HLA' in SNP:\n",
    "        dosage=plink_KCHIP_HLA_AA_SNP_1000G.get_geno_marker(SNP)\n",
    "        dosage_dict[SNP]=dosage"
   ]
  },
  {
   "cell_type": "code",
   "execution_count": 400,
   "metadata": {},
   "outputs": [],
   "source": [
    "dosage_df=pd.DataFrame(dosage_dict).T"
   ]
  },
  {
   "cell_type": "code",
   "execution_count": 412,
   "metadata": {},
   "outputs": [
    {
     "data": {
      "text/plain": [
       "(119, 125673)"
      ]
     },
     "execution_count": 412,
     "metadata": {},
     "output_type": "execute_result"
    }
   ],
   "source": [
    "dosage_df.shape"
   ]
  },
  {
   "cell_type": "code",
   "execution_count": 418,
   "metadata": {},
   "outputs": [
    {
     "data": {
      "text/plain": [
       "array([125673])"
      ]
     },
     "execution_count": 418,
     "metadata": {},
     "output_type": "execute_result"
    }
   ],
   "source": [
    "(dosage_df!=-1).sum(axis=1).unique()"
   ]
  },
  {
   "cell_type": "code",
   "execution_count": 427,
   "metadata": {},
   "outputs": [],
   "source": [
    "count_df=pd.concat([(dosage_df==2).sum(axis=1)*2+(dosage_df==1).sum(axis=1),\n",
    "                (dosage_df==0).sum(axis=1)*2+(dosage_df==1).sum(axis=1),\n",
    "                (dosage_df!=-1).sum(axis=1)*2], axis=1)"
   ]
  },
  {
   "cell_type": "code",
   "execution_count": 428,
   "metadata": {},
   "outputs": [],
   "source": [
    "count_df.columns=['Present','Absent','Total']"
   ]
  },
  {
   "cell_type": "code",
   "execution_count": 485,
   "metadata": {},
   "outputs": [
    {
     "data": {
      "text/plain": [
       "0"
      ]
     },
     "execution_count": 485,
     "metadata": {},
     "output_type": "execute_result"
    }
   ],
   "source": [
    "(dosage_df==-1).sum().sum()"
   ]
  },
  {
   "cell_type": "code",
   "execution_count": 482,
   "metadata": {},
   "outputs": [
    {
     "data": {
      "text/html": [
       "<div>\n",
       "<style scoped>\n",
       "    .dataframe tbody tr th:only-of-type {\n",
       "        vertical-align: middle;\n",
       "    }\n",
       "\n",
       "    .dataframe tbody tr th {\n",
       "        vertical-align: top;\n",
       "    }\n",
       "\n",
       "    .dataframe thead th {\n",
       "        text-align: right;\n",
       "    }\n",
       "</style>\n",
       "<table border=\"1\" class=\"dataframe\">\n",
       "  <thead>\n",
       "    <tr style=\"text-align: right;\">\n",
       "      <th></th>\n",
       "      <th>Present</th>\n",
       "      <th>Absent</th>\n",
       "      <th>Total</th>\n",
       "    </tr>\n",
       "  </thead>\n",
       "  <tbody>\n",
       "    <tr>\n",
       "      <th>HLA_A*01:01</th>\n",
       "      <td>4389</td>\n",
       "      <td>246957</td>\n",
       "      <td>251346</td>\n",
       "    </tr>\n",
       "    <tr>\n",
       "      <th>HLA_A*02:01</th>\n",
       "      <td>41413</td>\n",
       "      <td>209933</td>\n",
       "      <td>251346</td>\n",
       "    </tr>\n",
       "    <tr>\n",
       "      <th>HLA_A*02:06</th>\n",
       "      <td>21644</td>\n",
       "      <td>229702</td>\n",
       "      <td>251346</td>\n",
       "    </tr>\n",
       "    <tr>\n",
       "      <th>HLA_A*02:07</th>\n",
       "      <td>8681</td>\n",
       "      <td>242665</td>\n",
       "      <td>251346</td>\n",
       "    </tr>\n",
       "    <tr>\n",
       "      <th>HLA_A*03:01</th>\n",
       "      <td>4018</td>\n",
       "      <td>247328</td>\n",
       "      <td>251346</td>\n",
       "    </tr>\n",
       "    <tr>\n",
       "      <th>...</th>\n",
       "      <td>...</td>\n",
       "      <td>...</td>\n",
       "      <td>...</td>\n",
       "    </tr>\n",
       "    <tr>\n",
       "      <th>HLA_DPB1*05:01</th>\n",
       "      <td>90550</td>\n",
       "      <td>160796</td>\n",
       "      <td>251346</td>\n",
       "    </tr>\n",
       "    <tr>\n",
       "      <th>HLA_DPB1*09:01</th>\n",
       "      <td>7635</td>\n",
       "      <td>243711</td>\n",
       "      <td>251346</td>\n",
       "    </tr>\n",
       "    <tr>\n",
       "      <th>HLA_DPB1*13:01</th>\n",
       "      <td>14350</td>\n",
       "      <td>236996</td>\n",
       "      <td>251346</td>\n",
       "    </tr>\n",
       "    <tr>\n",
       "      <th>HLA_DPB1*14:01</th>\n",
       "      <td>3413</td>\n",
       "      <td>247933</td>\n",
       "      <td>251346</td>\n",
       "    </tr>\n",
       "    <tr>\n",
       "      <th>HLA_DPB1*17:01</th>\n",
       "      <td>4468</td>\n",
       "      <td>246878</td>\n",
       "      <td>251346</td>\n",
       "    </tr>\n",
       "  </tbody>\n",
       "</table>\n",
       "<p>119 rows × 3 columns</p>\n",
       "</div>"
      ],
      "text/plain": [
       "                Present  Absent   Total\n",
       "HLA_A*01:01        4389  246957  251346\n",
       "HLA_A*02:01       41413  209933  251346\n",
       "HLA_A*02:06       21644  229702  251346\n",
       "HLA_A*02:07        8681  242665  251346\n",
       "HLA_A*03:01        4018  247328  251346\n",
       "...                 ...     ...     ...\n",
       "HLA_DPB1*05:01    90550  160796  251346\n",
       "HLA_DPB1*09:01     7635  243711  251346\n",
       "HLA_DPB1*13:01    14350  236996  251346\n",
       "HLA_DPB1*14:01     3413  247933  251346\n",
       "HLA_DPB1*17:01     4468  246878  251346\n",
       "\n",
       "[119 rows x 3 columns]"
      ]
     },
     "execution_count": 482,
     "metadata": {},
     "output_type": "execute_result"
    }
   ],
   "source": [
    "count_df"
   ]
  },
  {
   "cell_type": "code",
   "execution_count": 429,
   "metadata": {},
   "outputs": [],
   "source": [
    "count_df_prop=count_df['Present'].astype('str')+' ('+(100*count_df['Present']/count_df['Total']).round(3).astype('str')+')'\n",
    "count_df_prop=count_df_prop.to_frame()\n",
    "count_df_prop.index=count_df_prop.index.str.replace('HLA_','')"
   ]
  },
  {
   "cell_type": "code",
   "execution_count": 430,
   "metadata": {},
   "outputs": [],
   "source": [
    "count_df_prop['Count']=count_df_prop[0].map(lambda x: x.split(' (')[0]).astype(int)"
   ]
  },
  {
   "cell_type": "code",
   "execution_count": 451,
   "metadata": {},
   "outputs": [],
   "source": [
    "count_df_prop['Prop']=100*count_df_prop['Count']/(2*125673)"
   ]
  },
  {
   "cell_type": "code",
   "execution_count": 398,
   "metadata": {},
   "outputs": [
    {
     "data": {
      "text/plain": [
       "120846.5"
      ]
     },
     "execution_count": 398,
     "metadata": {},
     "output_type": "execute_result"
    }
   ],
   "source": [
    "241693/2"
   ]
  },
  {
   "cell_type": "code",
   "execution_count": 481,
   "metadata": {},
   "outputs": [
    {
     "data": {
      "text/html": [
       "<div>\n",
       "<style scoped>\n",
       "    .dataframe tbody tr th:only-of-type {\n",
       "        vertical-align: middle;\n",
       "    }\n",
       "\n",
       "    .dataframe tbody tr th {\n",
       "        vertical-align: top;\n",
       "    }\n",
       "\n",
       "    .dataframe thead th {\n",
       "        text-align: right;\n",
       "    }\n",
       "</style>\n",
       "<table border=\"1\" class=\"dataframe\">\n",
       "  <thead>\n",
       "    <tr style=\"text-align: right;\">\n",
       "      <th></th>\n",
       "      <th>0</th>\n",
       "      <th>Count</th>\n",
       "      <th>Prop</th>\n",
       "    </tr>\n",
       "  </thead>\n",
       "  <tbody>\n",
       "    <tr>\n",
       "      <th>A*01:01</th>\n",
       "      <td>4389 (1.746)</td>\n",
       "      <td>4389</td>\n",
       "      <td>1.746198</td>\n",
       "    </tr>\n",
       "    <tr>\n",
       "      <th>A*02:01</th>\n",
       "      <td>41413 (16.476)</td>\n",
       "      <td>41413</td>\n",
       "      <td>16.476491</td>\n",
       "    </tr>\n",
       "    <tr>\n",
       "      <th>A*02:06</th>\n",
       "      <td>21644 (8.611)</td>\n",
       "      <td>21644</td>\n",
       "      <td>8.611237</td>\n",
       "    </tr>\n",
       "    <tr>\n",
       "      <th>A*02:07</th>\n",
       "      <td>8681 (3.454)</td>\n",
       "      <td>8681</td>\n",
       "      <td>3.453805</td>\n",
       "    </tr>\n",
       "    <tr>\n",
       "      <th>A*03:01</th>\n",
       "      <td>4018 (1.599)</td>\n",
       "      <td>4018</td>\n",
       "      <td>1.598593</td>\n",
       "    </tr>\n",
       "    <tr>\n",
       "      <th>A*11:01</th>\n",
       "      <td>26078 (10.375)</td>\n",
       "      <td>26078</td>\n",
       "      <td>10.375339</td>\n",
       "    </tr>\n",
       "    <tr>\n",
       "      <th>A*24:02</th>\n",
       "      <td>56255 (22.381)</td>\n",
       "      <td>56255</td>\n",
       "      <td>22.381498</td>\n",
       "    </tr>\n",
       "    <tr>\n",
       "      <th>A*26:01</th>\n",
       "      <td>8602 (3.422)</td>\n",
       "      <td>8602</td>\n",
       "      <td>3.422374</td>\n",
       "    </tr>\n",
       "    <tr>\n",
       "      <th>A*26:02</th>\n",
       "      <td>6497 (2.585)</td>\n",
       "      <td>6497</td>\n",
       "      <td>2.584883</td>\n",
       "    </tr>\n",
       "    <tr>\n",
       "      <th>A*30:01</th>\n",
       "      <td>7428 (2.955)</td>\n",
       "      <td>7428</td>\n",
       "      <td>2.955289</td>\n",
       "    </tr>\n",
       "    <tr>\n",
       "      <th>A*30:04</th>\n",
       "      <td>3275 (1.303)</td>\n",
       "      <td>3275</td>\n",
       "      <td>1.302985</td>\n",
       "    </tr>\n",
       "    <tr>\n",
       "      <th>A*31:01</th>\n",
       "      <td>12804 (5.094)</td>\n",
       "      <td>12804</td>\n",
       "      <td>5.094173</td>\n",
       "    </tr>\n",
       "    <tr>\n",
       "      <th>A*33:03</th>\n",
       "      <td>40609 (16.157)</td>\n",
       "      <td>40609</td>\n",
       "      <td>16.156613</td>\n",
       "    </tr>\n",
       "  </tbody>\n",
       "</table>\n",
       "</div>"
      ],
      "text/plain": [
       "                      0  Count       Prop\n",
       "A*01:01    4389 (1.746)   4389   1.746198\n",
       "A*02:01  41413 (16.476)  41413  16.476491\n",
       "A*02:06   21644 (8.611)  21644   8.611237\n",
       "A*02:07    8681 (3.454)   8681   3.453805\n",
       "A*03:01    4018 (1.599)   4018   1.598593\n",
       "A*11:01  26078 (10.375)  26078  10.375339\n",
       "A*24:02  56255 (22.381)  56255  22.381498\n",
       "A*26:01    8602 (3.422)   8602   3.422374\n",
       "A*26:02    6497 (2.585)   6497   2.584883\n",
       "A*30:01    7428 (2.955)   7428   2.955289\n",
       "A*30:04    3275 (1.303)   3275   1.302985\n",
       "A*31:01   12804 (5.094)  12804   5.094173\n",
       "A*33:03  40609 (16.157)  40609  16.156613"
      ]
     },
     "execution_count": 481,
     "metadata": {},
     "output_type": "execute_result"
    }
   ],
   "source": [
    "count_df_prop[count_df_prop.index.str.contains('A\\*')]#['Count'].sum()"
   ]
  },
  {
   "cell_type": "code",
   "execution_count": 433,
   "metadata": {},
   "outputs": [],
   "source": [
    "allele_freq_ref=pd.read_csv('data/allele_freq_ref.csv',header=None)\n",
    "allele_freq_ref[0]=allele_freq_ref[0].map(lambda x: x.strip().split()[0].replace('a','').replace('b',''))\n",
    "allele_freq_ref[0]=allele_freq_ref[0].map(lambda x: x if x[-1] in [str(i) for i in range(10)] else x[:-1])\n",
    "allele_freq_ref[2]=allele_freq_ref[2].map(lambda x: x.strip().split(' (')[0].strip().replace('#VALUE!','0').replace('-','0').replace(',','')).astype(int)\n",
    "allele_freq_ref.columns=['Allele','type','Count_ref']\n",
    "allele_freq_ref=allele_freq_ref.set_index('Allele')"
   ]
  },
  {
   "cell_type": "code",
   "execution_count": 434,
   "metadata": {},
   "outputs": [],
   "source": [
    "allele_freq_ref['four_digit']=allele_freq_ref.index.map(lambda x: ':'.join(x.split(':')[:-1]) if x.count(':')==2 else x)"
   ]
  },
  {
   "cell_type": "code",
   "execution_count": 439,
   "metadata": {},
   "outputs": [],
   "source": [
    "#allele_freq_ref.to_csv('data/allele_freq_ref_cleaned.csv',header=None)#"
   ]
  },
  {
   "cell_type": "code",
   "execution_count": 436,
   "metadata": {},
   "outputs": [
    {
     "data": {
      "text/plain": [
       "2"
      ]
     },
     "execution_count": 436,
     "metadata": {},
     "output_type": "execute_result"
    }
   ],
   "source": [
    "#allele_freq_ref.index[0].count(':')"
   ]
  },
  {
   "cell_type": "code",
   "execution_count": 440,
   "metadata": {},
   "outputs": [],
   "source": [
    "allele_freq_complete=pd.read_csv('data/allele_freq_ref_cleaned_corrected.csv',header=None, names=['Allele','type','Count_ref','four_digit'],index_col=0)"
   ]
  },
  {
   "cell_type": "code",
   "execution_count": 441,
   "metadata": {},
   "outputs": [],
   "source": [
    "allele_freq_complete_four=allele_freq_complete.groupby('four_digit').sum()"
   ]
  },
  {
   "cell_type": "code",
   "execution_count": 442,
   "metadata": {},
   "outputs": [],
   "source": [
    "allele_freq_complete_four['Prop_ref']=(100*allele_freq_complete_four['Count_ref']/52403)"
   ]
  },
  {
   "cell_type": "code",
   "execution_count": 445,
   "metadata": {},
   "outputs": [
    {
     "data": {
      "text/html": [
       "<div>\n",
       "<style scoped>\n",
       "    .dataframe tbody tr th:only-of-type {\n",
       "        vertical-align: middle;\n",
       "    }\n",
       "\n",
       "    .dataframe tbody tr th {\n",
       "        vertical-align: top;\n",
       "    }\n",
       "\n",
       "    .dataframe thead th {\n",
       "        text-align: right;\n",
       "    }\n",
       "</style>\n",
       "<table border=\"1\" class=\"dataframe\">\n",
       "  <thead>\n",
       "    <tr style=\"text-align: right;\">\n",
       "      <th></th>\n",
       "      <th>0</th>\n",
       "      <th>Count</th>\n",
       "      <th>Prop</th>\n",
       "    </tr>\n",
       "  </thead>\n",
       "  <tbody>\n",
       "    <tr>\n",
       "      <th>A*01:01</th>\n",
       "      <td>4389 (1.746)</td>\n",
       "      <td>4389</td>\n",
       "      <td>0.017462</td>\n",
       "    </tr>\n",
       "    <tr>\n",
       "      <th>A*02:01</th>\n",
       "      <td>41413 (16.476)</td>\n",
       "      <td>41413</td>\n",
       "      <td>0.164765</td>\n",
       "    </tr>\n",
       "    <tr>\n",
       "      <th>A*02:06</th>\n",
       "      <td>21644 (8.611)</td>\n",
       "      <td>21644</td>\n",
       "      <td>0.086112</td>\n",
       "    </tr>\n",
       "    <tr>\n",
       "      <th>A*02:07</th>\n",
       "      <td>8681 (3.454)</td>\n",
       "      <td>8681</td>\n",
       "      <td>0.034538</td>\n",
       "    </tr>\n",
       "    <tr>\n",
       "      <th>A*03:01</th>\n",
       "      <td>4018 (1.599)</td>\n",
       "      <td>4018</td>\n",
       "      <td>0.015986</td>\n",
       "    </tr>\n",
       "    <tr>\n",
       "      <th>...</th>\n",
       "      <td>...</td>\n",
       "      <td>...</td>\n",
       "      <td>...</td>\n",
       "    </tr>\n",
       "    <tr>\n",
       "      <th>DPB1*05:01</th>\n",
       "      <td>90550 (36.026)</td>\n",
       "      <td>90550</td>\n",
       "      <td>0.360260</td>\n",
       "    </tr>\n",
       "    <tr>\n",
       "      <th>DPB1*09:01</th>\n",
       "      <td>7635 (3.038)</td>\n",
       "      <td>7635</td>\n",
       "      <td>0.030376</td>\n",
       "    </tr>\n",
       "    <tr>\n",
       "      <th>DPB1*13:01</th>\n",
       "      <td>14350 (5.709)</td>\n",
       "      <td>14350</td>\n",
       "      <td>0.057093</td>\n",
       "    </tr>\n",
       "    <tr>\n",
       "      <th>DPB1*14:01</th>\n",
       "      <td>3413 (1.358)</td>\n",
       "      <td>3413</td>\n",
       "      <td>0.013579</td>\n",
       "    </tr>\n",
       "    <tr>\n",
       "      <th>DPB1*17:01</th>\n",
       "      <td>4468 (1.778)</td>\n",
       "      <td>4468</td>\n",
       "      <td>0.017776</td>\n",
       "    </tr>\n",
       "  </tbody>\n",
       "</table>\n",
       "<p>119 rows × 3 columns</p>\n",
       "</div>"
      ],
      "text/plain": [
       "                         0  Count      Prop\n",
       "A*01:01       4389 (1.746)   4389  0.017462\n",
       "A*02:01     41413 (16.476)  41413  0.164765\n",
       "A*02:06      21644 (8.611)  21644  0.086112\n",
       "A*02:07       8681 (3.454)   8681  0.034538\n",
       "A*03:01       4018 (1.599)   4018  0.015986\n",
       "...                    ...    ...       ...\n",
       "DPB1*05:01  90550 (36.026)  90550  0.360260\n",
       "DPB1*09:01    7635 (3.038)   7635  0.030376\n",
       "DPB1*13:01   14350 (5.709)  14350  0.057093\n",
       "DPB1*14:01    3413 (1.358)   3413  0.013579\n",
       "DPB1*17:01    4468 (1.778)   4468  0.017776\n",
       "\n",
       "[119 rows x 3 columns]"
      ]
     },
     "execution_count": 445,
     "metadata": {},
     "output_type": "execute_result"
    }
   ],
   "source": [
    "count_df_prop"
   ]
  },
  {
   "cell_type": "code",
   "execution_count": 446,
   "metadata": {},
   "outputs": [
    {
     "data": {
      "text/html": [
       "<div>\n",
       "<style scoped>\n",
       "    .dataframe tbody tr th:only-of-type {\n",
       "        vertical-align: middle;\n",
       "    }\n",
       "\n",
       "    .dataframe tbody tr th {\n",
       "        vertical-align: top;\n",
       "    }\n",
       "\n",
       "    .dataframe thead th {\n",
       "        text-align: right;\n",
       "    }\n",
       "</style>\n",
       "<table border=\"1\" class=\"dataframe\">\n",
       "  <thead>\n",
       "    <tr style=\"text-align: right;\">\n",
       "      <th></th>\n",
       "      <th>0</th>\n",
       "      <th>Count</th>\n",
       "      <th>Prop</th>\n",
       "    </tr>\n",
       "  </thead>\n",
       "  <tbody>\n",
       "    <tr>\n",
       "      <th>A*01:01</th>\n",
       "      <td>4389 (1.746)</td>\n",
       "      <td>4389</td>\n",
       "      <td>0.017462</td>\n",
       "    </tr>\n",
       "    <tr>\n",
       "      <th>A*02:01</th>\n",
       "      <td>41413 (16.476)</td>\n",
       "      <td>41413</td>\n",
       "      <td>0.164765</td>\n",
       "    </tr>\n",
       "    <tr>\n",
       "      <th>A*02:06</th>\n",
       "      <td>21644 (8.611)</td>\n",
       "      <td>21644</td>\n",
       "      <td>0.086112</td>\n",
       "    </tr>\n",
       "    <tr>\n",
       "      <th>A*02:07</th>\n",
       "      <td>8681 (3.454)</td>\n",
       "      <td>8681</td>\n",
       "      <td>0.034538</td>\n",
       "    </tr>\n",
       "    <tr>\n",
       "      <th>A*03:01</th>\n",
       "      <td>4018 (1.599)</td>\n",
       "      <td>4018</td>\n",
       "      <td>0.015986</td>\n",
       "    </tr>\n",
       "    <tr>\n",
       "      <th>...</th>\n",
       "      <td>...</td>\n",
       "      <td>...</td>\n",
       "      <td>...</td>\n",
       "    </tr>\n",
       "    <tr>\n",
       "      <th>DPB1*05:01</th>\n",
       "      <td>90550 (36.026)</td>\n",
       "      <td>90550</td>\n",
       "      <td>0.360260</td>\n",
       "    </tr>\n",
       "    <tr>\n",
       "      <th>DPB1*09:01</th>\n",
       "      <td>7635 (3.038)</td>\n",
       "      <td>7635</td>\n",
       "      <td>0.030376</td>\n",
       "    </tr>\n",
       "    <tr>\n",
       "      <th>DPB1*13:01</th>\n",
       "      <td>14350 (5.709)</td>\n",
       "      <td>14350</td>\n",
       "      <td>0.057093</td>\n",
       "    </tr>\n",
       "    <tr>\n",
       "      <th>DPB1*14:01</th>\n",
       "      <td>3413 (1.358)</td>\n",
       "      <td>3413</td>\n",
       "      <td>0.013579</td>\n",
       "    </tr>\n",
       "    <tr>\n",
       "      <th>DPB1*17:01</th>\n",
       "      <td>4468 (1.778)</td>\n",
       "      <td>4468</td>\n",
       "      <td>0.017776</td>\n",
       "    </tr>\n",
       "  </tbody>\n",
       "</table>\n",
       "<p>119 rows × 3 columns</p>\n",
       "</div>"
      ],
      "text/plain": [
       "                         0  Count      Prop\n",
       "A*01:01       4389 (1.746)   4389  0.017462\n",
       "A*02:01     41413 (16.476)  41413  0.164765\n",
       "A*02:06      21644 (8.611)  21644  0.086112\n",
       "A*02:07       8681 (3.454)   8681  0.034538\n",
       "A*03:01       4018 (1.599)   4018  0.015986\n",
       "...                    ...    ...       ...\n",
       "DPB1*05:01  90550 (36.026)  90550  0.360260\n",
       "DPB1*09:01    7635 (3.038)   7635  0.030376\n",
       "DPB1*13:01   14350 (5.709)  14350  0.057093\n",
       "DPB1*14:01    3413 (1.358)   3413  0.013579\n",
       "DPB1*17:01    4468 (1.778)   4468  0.017776\n",
       "\n",
       "[119 rows x 3 columns]"
      ]
     },
     "execution_count": 446,
     "metadata": {},
     "output_type": "execute_result"
    }
   ],
   "source": [
    "count_df_prop"
   ]
  },
  {
   "cell_type": "code",
   "execution_count": 449,
   "metadata": {},
   "outputs": [],
   "source": [
    "#count_df_prop.merge??"
   ]
  },
  {
   "cell_type": "code",
   "execution_count": 457,
   "metadata": {},
   "outputs": [],
   "source": [
    "count_df_prop_merged=count_df_prop.merge(right=allele_freq_complete_four,how='outer', left_index=True, right_index=True)"
   ]
  },
  {
   "cell_type": "code",
   "execution_count": 474,
   "metadata": {},
   "outputs": [],
   "source": [
    "count_df_prop_merged.iloc[count_df_prop_merged.index.map(lambda x: x.split('*')[0] not in ['A','B','DRB1']),[3,4]].fillna('-',inplace=True)"
   ]
  },
  {
   "cell_type": "code",
   "execution_count": 477,
   "metadata": {},
   "outputs": [],
   "source": [
    "count_df_prop_merged.fillna(0).to_csv('data/out_pub/allele_freq_compare.tsv',sep='\\t')"
   ]
  },
  {
   "cell_type": "code",
   "execution_count": 480,
   "metadata": {},
   "outputs": [
    {
     "data": {
      "text/html": [
       "<div>\n",
       "<style scoped>\n",
       "    .dataframe tbody tr th:only-of-type {\n",
       "        vertical-align: middle;\n",
       "    }\n",
       "\n",
       "    .dataframe tbody tr th {\n",
       "        vertical-align: top;\n",
       "    }\n",
       "\n",
       "    .dataframe thead th {\n",
       "        text-align: right;\n",
       "    }\n",
       "</style>\n",
       "<table border=\"1\" class=\"dataframe\">\n",
       "  <thead>\n",
       "    <tr style=\"text-align: right;\">\n",
       "      <th></th>\n",
       "      <th>0</th>\n",
       "      <th>Count</th>\n",
       "      <th>Prop</th>\n",
       "      <th>Count_ref</th>\n",
       "      <th>Prop_ref</th>\n",
       "    </tr>\n",
       "  </thead>\n",
       "  <tbody>\n",
       "    <tr>\n",
       "      <th>DRB1*14:03</th>\n",
       "      <td>NaN</td>\n",
       "      <td>NaN</td>\n",
       "      <td>NaN</td>\n",
       "      <td>537.0</td>\n",
       "      <td>1.02475</td>\n",
       "    </tr>\n",
       "  </tbody>\n",
       "</table>\n",
       "</div>"
      ],
      "text/plain": [
       "              0  Count  Prop  Count_ref  Prop_ref\n",
       "DRB1*14:03  NaN    NaN   NaN      537.0   1.02475"
      ]
     },
     "execution_count": 480,
     "metadata": {},
     "output_type": "execute_result"
    }
   ],
   "source": [
    "count_df_prop_merged[count_df_prop_merged.index=='DRB1*14:03']"
   ]
  },
  {
   "cell_type": "code",
   "execution_count": null,
   "metadata": {},
   "outputs": [],
   "source": [
    "pd.read_csv(\"\")"
   ]
  },
  {
   "cell_type": "code",
   "execution_count": 275,
   "metadata": {},
   "outputs": [
    {
     "ename": "ValueError",
     "evalue": "invalid literal for int() with base 10: '0#0V0A0L0U0E0!0'",
     "output_type": "error",
     "traceback": [
      "\u001b[0;31m---------------------------------------------------------------------------\u001b[0m",
      "\u001b[0;31mValueError\u001b[0m                                Traceback (most recent call last)",
      "\u001b[0;32m<ipython-input-275-3522282a9fb7>\u001b[0m in \u001b[0;36m<module>\u001b[0;34m\u001b[0m\n\u001b[1;32m      1\u001b[0m \u001b[0mallele_freq_ref\u001b[0m\u001b[0;34m[\u001b[0m\u001b[0;36m2\u001b[0m\u001b[0;34m]\u001b[0m\u001b[0;34m=\u001b[0m\u001b[0mallele_freq_ref\u001b[0m\u001b[0;34m[\u001b[0m\u001b[0;36m2\u001b[0m\u001b[0;34m]\u001b[0m\u001b[0;34m.\u001b[0m\u001b[0mmap\u001b[0m\u001b[0;34m(\u001b[0m\u001b[0;32mlambda\u001b[0m \u001b[0mx\u001b[0m\u001b[0;34m:\u001b[0m \u001b[0mx\u001b[0m\u001b[0;34m.\u001b[0m\u001b[0mstrip\u001b[0m\u001b[0;34m(\u001b[0m\u001b[0;34m)\u001b[0m\u001b[0;34m.\u001b[0m\u001b[0msplit\u001b[0m\u001b[0;34m(\u001b[0m\u001b[0;34m' ('\u001b[0m\u001b[0;34m)\u001b[0m\u001b[0;34m[\u001b[0m\u001b[0;36m0\u001b[0m\u001b[0;34m]\u001b[0m\u001b[0;34m.\u001b[0m\u001b[0mstrip\u001b[0m\u001b[0;34m(\u001b[0m\u001b[0;34m)\u001b[0m\u001b[0;34m.\u001b[0m\u001b[0mreplace\u001b[0m\u001b[0;34m(\u001b[0m\u001b[0;34m'-'\u001b[0m\u001b[0;34m,\u001b[0m\u001b[0;34m'0'\u001b[0m\u001b[0;34m)\u001b[0m\u001b[0;34m.\u001b[0m\u001b[0mreplace\u001b[0m\u001b[0;34m(\u001b[0m\u001b[0;34m''\u001b[0m\u001b[0;34m,\u001b[0m\u001b[0;34m'0'\u001b[0m\u001b[0;34m)\u001b[0m\u001b[0;34m.\u001b[0m\u001b[0mreplace\u001b[0m\u001b[0;34m(\u001b[0m\u001b[0;34m','\u001b[0m\u001b[0;34m,\u001b[0m\u001b[0;34m''\u001b[0m\u001b[0;34m)\u001b[0m\u001b[0;34m.\u001b[0m\u001b[0mreplace\u001b[0m\u001b[0;34m(\u001b[0m\u001b[0;34m'#VALUE!'\u001b[0m\u001b[0;34m,\u001b[0m\u001b[0;34m''\u001b[0m\u001b[0;34m)\u001b[0m\u001b[0;34m)\u001b[0m\u001b[0;34m\u001b[0m\u001b[0;34m\u001b[0m\u001b[0m\n\u001b[0;32m----> 2\u001b[0;31m \u001b[0mallele_freq_ref\u001b[0m\u001b[0;34m[\u001b[0m\u001b[0;36m2\u001b[0m\u001b[0;34m]\u001b[0m\u001b[0;34m=\u001b[0m\u001b[0mallele_freq_ref\u001b[0m\u001b[0;34m[\u001b[0m\u001b[0;36m2\u001b[0m\u001b[0;34m]\u001b[0m\u001b[0;34m.\u001b[0m\u001b[0mastype\u001b[0m\u001b[0;34m(\u001b[0m\u001b[0mint\u001b[0m\u001b[0;34m)\u001b[0m\u001b[0;34m\u001b[0m\u001b[0;34m\u001b[0m\u001b[0m\n\u001b[0m",
      "\u001b[0;32m~/tools/miniconda3/lib/python3.7/site-packages/pandas/core/generic.py\u001b[0m in \u001b[0;36mastype\u001b[0;34m(self, dtype, copy, errors)\u001b[0m\n\u001b[1;32m   5870\u001b[0m         \u001b[0;32melse\u001b[0m\u001b[0;34m:\u001b[0m\u001b[0;34m\u001b[0m\u001b[0;34m\u001b[0m\u001b[0m\n\u001b[1;32m   5871\u001b[0m             \u001b[0;31m# else, only a single dtype is given\u001b[0m\u001b[0;34m\u001b[0m\u001b[0;34m\u001b[0m\u001b[0;34m\u001b[0m\u001b[0m\n\u001b[0;32m-> 5872\u001b[0;31m             \u001b[0mnew_data\u001b[0m \u001b[0;34m=\u001b[0m \u001b[0mself\u001b[0m\u001b[0;34m.\u001b[0m\u001b[0m_mgr\u001b[0m\u001b[0;34m.\u001b[0m\u001b[0mastype\u001b[0m\u001b[0;34m(\u001b[0m\u001b[0mdtype\u001b[0m\u001b[0;34m=\u001b[0m\u001b[0mdtype\u001b[0m\u001b[0;34m,\u001b[0m \u001b[0mcopy\u001b[0m\u001b[0;34m=\u001b[0m\u001b[0mcopy\u001b[0m\u001b[0;34m,\u001b[0m \u001b[0merrors\u001b[0m\u001b[0;34m=\u001b[0m\u001b[0merrors\u001b[0m\u001b[0;34m)\u001b[0m\u001b[0;34m\u001b[0m\u001b[0;34m\u001b[0m\u001b[0m\n\u001b[0m\u001b[1;32m   5873\u001b[0m             \u001b[0;32mreturn\u001b[0m \u001b[0mself\u001b[0m\u001b[0;34m.\u001b[0m\u001b[0m_constructor\u001b[0m\u001b[0;34m(\u001b[0m\u001b[0mnew_data\u001b[0m\u001b[0;34m)\u001b[0m\u001b[0;34m.\u001b[0m\u001b[0m__finalize__\u001b[0m\u001b[0;34m(\u001b[0m\u001b[0mself\u001b[0m\u001b[0;34m,\u001b[0m \u001b[0mmethod\u001b[0m\u001b[0;34m=\u001b[0m\u001b[0;34m\"astype\"\u001b[0m\u001b[0;34m)\u001b[0m\u001b[0;34m\u001b[0m\u001b[0;34m\u001b[0m\u001b[0m\n\u001b[1;32m   5874\u001b[0m \u001b[0;34m\u001b[0m\u001b[0m\n",
      "\u001b[0;32m~/tools/miniconda3/lib/python3.7/site-packages/pandas/core/internals/managers.py\u001b[0m in \u001b[0;36mastype\u001b[0;34m(self, dtype, copy, errors)\u001b[0m\n\u001b[1;32m    629\u001b[0m         \u001b[0mself\u001b[0m\u001b[0;34m,\u001b[0m \u001b[0mdtype\u001b[0m\u001b[0;34m,\u001b[0m \u001b[0mcopy\u001b[0m\u001b[0;34m:\u001b[0m \u001b[0mbool\u001b[0m \u001b[0;34m=\u001b[0m \u001b[0;32mFalse\u001b[0m\u001b[0;34m,\u001b[0m \u001b[0merrors\u001b[0m\u001b[0;34m:\u001b[0m \u001b[0mstr\u001b[0m \u001b[0;34m=\u001b[0m \u001b[0;34m\"raise\"\u001b[0m\u001b[0;34m\u001b[0m\u001b[0;34m\u001b[0m\u001b[0m\n\u001b[1;32m    630\u001b[0m     ) -> \"BlockManager\":\n\u001b[0;32m--> 631\u001b[0;31m         \u001b[0;32mreturn\u001b[0m \u001b[0mself\u001b[0m\u001b[0;34m.\u001b[0m\u001b[0mapply\u001b[0m\u001b[0;34m(\u001b[0m\u001b[0;34m\"astype\"\u001b[0m\u001b[0;34m,\u001b[0m \u001b[0mdtype\u001b[0m\u001b[0;34m=\u001b[0m\u001b[0mdtype\u001b[0m\u001b[0;34m,\u001b[0m \u001b[0mcopy\u001b[0m\u001b[0;34m=\u001b[0m\u001b[0mcopy\u001b[0m\u001b[0;34m,\u001b[0m \u001b[0merrors\u001b[0m\u001b[0;34m=\u001b[0m\u001b[0merrors\u001b[0m\u001b[0;34m)\u001b[0m\u001b[0;34m\u001b[0m\u001b[0;34m\u001b[0m\u001b[0m\n\u001b[0m\u001b[1;32m    632\u001b[0m \u001b[0;34m\u001b[0m\u001b[0m\n\u001b[1;32m    633\u001b[0m     def convert(\n",
      "\u001b[0;32m~/tools/miniconda3/lib/python3.7/site-packages/pandas/core/internals/managers.py\u001b[0m in \u001b[0;36mapply\u001b[0;34m(self, f, align_keys, ignore_failures, **kwargs)\u001b[0m\n\u001b[1;32m    425\u001b[0m                     \u001b[0mapplied\u001b[0m \u001b[0;34m=\u001b[0m \u001b[0mb\u001b[0m\u001b[0;34m.\u001b[0m\u001b[0mapply\u001b[0m\u001b[0;34m(\u001b[0m\u001b[0mf\u001b[0m\u001b[0;34m,\u001b[0m \u001b[0;34m**\u001b[0m\u001b[0mkwargs\u001b[0m\u001b[0;34m)\u001b[0m\u001b[0;34m\u001b[0m\u001b[0;34m\u001b[0m\u001b[0m\n\u001b[1;32m    426\u001b[0m                 \u001b[0;32melse\u001b[0m\u001b[0;34m:\u001b[0m\u001b[0;34m\u001b[0m\u001b[0;34m\u001b[0m\u001b[0m\n\u001b[0;32m--> 427\u001b[0;31m                     \u001b[0mapplied\u001b[0m \u001b[0;34m=\u001b[0m \u001b[0mgetattr\u001b[0m\u001b[0;34m(\u001b[0m\u001b[0mb\u001b[0m\u001b[0;34m,\u001b[0m \u001b[0mf\u001b[0m\u001b[0;34m)\u001b[0m\u001b[0;34m(\u001b[0m\u001b[0;34m**\u001b[0m\u001b[0mkwargs\u001b[0m\u001b[0;34m)\u001b[0m\u001b[0;34m\u001b[0m\u001b[0;34m\u001b[0m\u001b[0m\n\u001b[0m\u001b[1;32m    428\u001b[0m             \u001b[0;32mexcept\u001b[0m \u001b[0;34m(\u001b[0m\u001b[0mTypeError\u001b[0m\u001b[0;34m,\u001b[0m \u001b[0mNotImplementedError\u001b[0m\u001b[0;34m)\u001b[0m\u001b[0;34m:\u001b[0m\u001b[0;34m\u001b[0m\u001b[0;34m\u001b[0m\u001b[0m\n\u001b[1;32m    429\u001b[0m                 \u001b[0;32mif\u001b[0m \u001b[0;32mnot\u001b[0m \u001b[0mignore_failures\u001b[0m\u001b[0;34m:\u001b[0m\u001b[0;34m\u001b[0m\u001b[0;34m\u001b[0m\u001b[0m\n",
      "\u001b[0;32m~/tools/miniconda3/lib/python3.7/site-packages/pandas/core/internals/blocks.py\u001b[0m in \u001b[0;36mastype\u001b[0;34m(self, dtype, copy, errors)\u001b[0m\n\u001b[1;32m    671\u001b[0m             \u001b[0mvals1d\u001b[0m \u001b[0;34m=\u001b[0m \u001b[0mvalues\u001b[0m\u001b[0;34m.\u001b[0m\u001b[0mravel\u001b[0m\u001b[0;34m(\u001b[0m\u001b[0;34m)\u001b[0m\u001b[0;34m\u001b[0m\u001b[0;34m\u001b[0m\u001b[0m\n\u001b[1;32m    672\u001b[0m             \u001b[0;32mtry\u001b[0m\u001b[0;34m:\u001b[0m\u001b[0;34m\u001b[0m\u001b[0;34m\u001b[0m\u001b[0m\n\u001b[0;32m--> 673\u001b[0;31m                 \u001b[0mvalues\u001b[0m \u001b[0;34m=\u001b[0m \u001b[0mastype_nansafe\u001b[0m\u001b[0;34m(\u001b[0m\u001b[0mvals1d\u001b[0m\u001b[0;34m,\u001b[0m \u001b[0mdtype\u001b[0m\u001b[0;34m,\u001b[0m \u001b[0mcopy\u001b[0m\u001b[0;34m=\u001b[0m\u001b[0;32mTrue\u001b[0m\u001b[0;34m)\u001b[0m\u001b[0;34m\u001b[0m\u001b[0;34m\u001b[0m\u001b[0m\n\u001b[0m\u001b[1;32m    674\u001b[0m             \u001b[0;32mexcept\u001b[0m \u001b[0;34m(\u001b[0m\u001b[0mValueError\u001b[0m\u001b[0;34m,\u001b[0m \u001b[0mTypeError\u001b[0m\u001b[0;34m)\u001b[0m\u001b[0;34m:\u001b[0m\u001b[0;34m\u001b[0m\u001b[0;34m\u001b[0m\u001b[0m\n\u001b[1;32m    675\u001b[0m                 \u001b[0;31m# e.g. astype_nansafe can fail on object-dtype of strings\u001b[0m\u001b[0;34m\u001b[0m\u001b[0;34m\u001b[0m\u001b[0;34m\u001b[0m\u001b[0m\n",
      "\u001b[0;32m~/tools/miniconda3/lib/python3.7/site-packages/pandas/core/dtypes/cast.py\u001b[0m in \u001b[0;36mastype_nansafe\u001b[0;34m(arr, dtype, copy, skipna)\u001b[0m\n\u001b[1;32m   1072\u001b[0m         \u001b[0;31m# work around NumPy brokenness, #1987\u001b[0m\u001b[0;34m\u001b[0m\u001b[0;34m\u001b[0m\u001b[0;34m\u001b[0m\u001b[0m\n\u001b[1;32m   1073\u001b[0m         \u001b[0;32mif\u001b[0m \u001b[0mnp\u001b[0m\u001b[0;34m.\u001b[0m\u001b[0missubdtype\u001b[0m\u001b[0;34m(\u001b[0m\u001b[0mdtype\u001b[0m\u001b[0;34m.\u001b[0m\u001b[0mtype\u001b[0m\u001b[0;34m,\u001b[0m \u001b[0mnp\u001b[0m\u001b[0;34m.\u001b[0m\u001b[0minteger\u001b[0m\u001b[0;34m)\u001b[0m\u001b[0;34m:\u001b[0m\u001b[0;34m\u001b[0m\u001b[0;34m\u001b[0m\u001b[0m\n\u001b[0;32m-> 1074\u001b[0;31m             \u001b[0;32mreturn\u001b[0m \u001b[0mlib\u001b[0m\u001b[0;34m.\u001b[0m\u001b[0mastype_intsafe\u001b[0m\u001b[0;34m(\u001b[0m\u001b[0marr\u001b[0m\u001b[0;34m.\u001b[0m\u001b[0mravel\u001b[0m\u001b[0;34m(\u001b[0m\u001b[0;34m)\u001b[0m\u001b[0;34m,\u001b[0m \u001b[0mdtype\u001b[0m\u001b[0;34m)\u001b[0m\u001b[0;34m.\u001b[0m\u001b[0mreshape\u001b[0m\u001b[0;34m(\u001b[0m\u001b[0marr\u001b[0m\u001b[0;34m.\u001b[0m\u001b[0mshape\u001b[0m\u001b[0;34m)\u001b[0m\u001b[0;34m\u001b[0m\u001b[0;34m\u001b[0m\u001b[0m\n\u001b[0m\u001b[1;32m   1075\u001b[0m \u001b[0;34m\u001b[0m\u001b[0m\n\u001b[1;32m   1076\u001b[0m         \u001b[0;31m# if we have a datetime/timedelta array of objects\u001b[0m\u001b[0;34m\u001b[0m\u001b[0;34m\u001b[0m\u001b[0;34m\u001b[0m\u001b[0m\n",
      "\u001b[0;32mpandas/_libs/lib.pyx\u001b[0m in \u001b[0;36mpandas._libs.lib.astype_intsafe\u001b[0;34m()\u001b[0m\n",
      "\u001b[0;31mValueError\u001b[0m: invalid literal for int() with base 10: '0#0V0A0L0U0E0!0'"
     ]
    }
   ],
   "source": [
    "allele_freq_ref[2]=allele_freq_ref[2].map(lambda x: x.strip().split(' (')[0].strip().replace('-','0').replace('','0').replace(',','').replace('#VALUE!',''))\n",
    "allele_freq_ref[2]=allele_freq_ref[2].astype(int)"
   ]
  },
  {
   "cell_type": "code",
   "execution_count": 276,
   "metadata": {},
   "outputs": [
    {
     "data": {
      "text/plain": [
       "0        0901030\n",
       "1      080303090\n",
       "2            020\n",
       "3            010\n",
       "4            010\n",
       "         ...    \n",
       "247          010\n",
       "248          020\n",
       "249      0502060\n",
       "250          010\n",
       "251          010\n",
       "Name: 2, Length: 252, dtype: object"
      ]
     },
     "execution_count": 276,
     "metadata": {},
     "output_type": "execute_result"
    }
   ],
   "source": [
    "allele_freq_ref[2].map(lambda x: x.strip().split(' (')[0])"
   ]
  },
  {
   "cell_type": "code",
   "execution_count": 271,
   "metadata": {},
   "outputs": [
    {
     "data": {
      "text/html": [
       "<div>\n",
       "<style scoped>\n",
       "    .dataframe tbody tr th:only-of-type {\n",
       "        vertical-align: middle;\n",
       "    }\n",
       "\n",
       "    .dataframe tbody tr th {\n",
       "        vertical-align: top;\n",
       "    }\n",
       "\n",
       "    .dataframe thead th {\n",
       "        text-align: right;\n",
       "    }\n",
       "</style>\n",
       "<table border=\"1\" class=\"dataframe\">\n",
       "  <thead>\n",
       "    <tr style=\"text-align: right;\">\n",
       "      <th></th>\n",
       "      <th>0</th>\n",
       "      <th>1</th>\n",
       "      <th>2</th>\n",
       "    </tr>\n",
       "  </thead>\n",
       "  <tbody>\n",
       "    <tr>\n",
       "      <th>0</th>\n",
       "      <td>A*01:01:01</td>\n",
       "      <td>C</td>\n",
       "      <td>901030</td>\n",
       "    </tr>\n",
       "    <tr>\n",
       "      <th>1</th>\n",
       "      <td>A*02:01:01</td>\n",
       "      <td>C</td>\n",
       "      <td>80303090</td>\n",
       "    </tr>\n",
       "    <tr>\n",
       "      <th>2</th>\n",
       "      <td>A*02:01:02</td>\n",
       "      <td>R</td>\n",
       "      <td>20</td>\n",
       "    </tr>\n",
       "    <tr>\n",
       "      <th>3</th>\n",
       "      <td>A*02:01:09</td>\n",
       "      <td>R</td>\n",
       "      <td>10</td>\n",
       "    </tr>\n",
       "    <tr>\n",
       "      <th>4</th>\n",
       "      <td>A*02:01:18</td>\n",
       "      <td>R</td>\n",
       "      <td>10</td>\n",
       "    </tr>\n",
       "    <tr>\n",
       "      <th>...</th>\n",
       "      <td>...</td>\n",
       "      <td>...</td>\n",
       "      <td>...</td>\n",
       "    </tr>\n",
       "    <tr>\n",
       "      <th>247</th>\n",
       "      <td>DRB1*15:04</td>\n",
       "      <td>C</td>\n",
       "      <td>10</td>\n",
       "    </tr>\n",
       "    <tr>\n",
       "      <th>248</th>\n",
       "      <td>DRB1*15:06:01</td>\n",
       "      <td>C</td>\n",
       "      <td>20</td>\n",
       "    </tr>\n",
       "    <tr>\n",
       "      <th>249</th>\n",
       "      <td>DRB1*16:02:01</td>\n",
       "      <td>C</td>\n",
       "      <td>502060</td>\n",
       "    </tr>\n",
       "    <tr>\n",
       "      <th>250</th>\n",
       "      <td>DRB1*04:05</td>\n",
       "      <td>N</td>\n",
       "      <td>10</td>\n",
       "    </tr>\n",
       "    <tr>\n",
       "      <th>251</th>\n",
       "      <td>DRB1*04:06</td>\n",
       "      <td>N</td>\n",
       "      <td>10</td>\n",
       "    </tr>\n",
       "  </tbody>\n",
       "</table>\n",
       "<p>252 rows × 3 columns</p>\n",
       "</div>"
      ],
      "text/plain": [
       "                 0  1         2\n",
       "0       A*01:01:01  C    901030\n",
       "1       A*02:01:01  C  80303090\n",
       "2       A*02:01:02  R        20\n",
       "3       A*02:01:09  R        10\n",
       "4       A*02:01:18  R        10\n",
       "..             ... ..       ...\n",
       "247     DRB1*15:04  C        10\n",
       "248  DRB1*15:06:01  C        20\n",
       "249  DRB1*16:02:01  C    502060\n",
       "250     DRB1*04:05  N        10\n",
       "251     DRB1*04:06  N        10\n",
       "\n",
       "[252 rows x 3 columns]"
      ]
     },
     "execution_count": 271,
     "metadata": {},
     "output_type": "execute_result"
    }
   ],
   "source": [
    "allele_freq_ref"
   ]
  },
  {
   "cell_type": "code",
   "execution_count": 263,
   "metadata": {},
   "outputs": [
    {
     "name": "stdout",
     "output_type": "stream",
     "text": [
      "913\n",
      "8339\n",
      "2\n",
      "1\n",
      "1\n",
      "1\n",
      "298\n",
      "32\n",
      "4447\n",
      "1764\n",
      "166\n",
      "3\n",
      "2\n",
      "1\n",
      "9\n",
      "1\n",
      "1\n",
      "1\n",
      "1\n",
      "2\n",
      "797\n",
      "120\n",
      "1\n",
      "5319\n",
      "11\n",
      "1\n",
      "123\n",
      "1\n",
      "\n",
      "3\n",
      "\n",
      "6\n",
      "11,957\n",
      "18\n",
      "1\n",
      "1\n",
      "38\n",
      "1\n",
      "103\n",
      "\n",
      "1\n",
      "1\n",
      "1\n",
      "1922\n",
      "4\n",
      "1142\n",
      "457\n",
      "5\n",
      "16\n",
      "8\n",
      "3\n",
      "1\n",
      "5\n",
      "1\n",
      "5\n",
      "381\n",
      "3\n",
      "1611\n",
      "2\n",
      "706\n",
      "2693\n",
      "11\n",
      "344\n",
      "1\n",
      "8494\n",
      "1\n",
      "1\n",
      "8\n",
      "90\n",
      "1\n",
      "\n",
      "1\n",
      "1\n",
      "1\n",
      "1930\n",
      "4\n",
      "384\n",
      "4\n",
      "156\n",
      "1016\n",
      "1591\n",
      "680\n",
      "4720\n",
      "1\n",
      "146\n",
      "3\n",
      "610\n",
      "1\n",
      "913\n",
      "2\n",
      "1\n",
      "27\n",
      "655\n",
      "16\n",
      "124\n",
      "2\n",
      "\n",
      "1\n",
      "8\n",
      "92\n",
      "3\n",
      "\n",
      "1\n",
      "1\n",
      "5\n",
      "89\n",
      "1\n",
      "1370\n",
      "2\n",
      "12\n",
      "\n",
      "3077\n",
      "2\n",
      "197\n",
      "1\n",
      "5\n",
      "1\n",
      "2\n",
      "\n",
      "766\n",
      "2\n",
      "49\n",
      "493\n",
      "636\n",
      "#VALUE!\n",
      "16\n",
      "8\n",
      "2\n",
      "2110\n",
      "1\n",
      "2317\n",
      "381\n",
      "1949\n",
      "1\n",
      "3\n",
      "1\n",
      "1\n",
      "784\n",
      "3023\n",
      "1641\n",
      "1\n",
      "3\n",
      "2425\n",
      "1\n",
      "80\n",
      "1868\n",
      "1\n",
      "8\n",
      "65\n",
      "4938\n",
      "263\n",
      "9\n",
      "2\n",
      "1546\n",
      "1\n",
      "1\n",
      "3168\n",
      "31\n",
      "880\n",
      "47\n",
      "29\n",
      "200\n",
      "1\n",
      "5\n",
      "3\n",
      "4\n",
      "144\n",
      "3255\n",
      "2\n",
      "856\n",
      "373\n",
      "137\n",
      "7\n",
      "1\n",
      "1\n",
      "1\n",
      "1\n",
      "1\n",
      "1\n",
      "1\n",
      "1\n",
      "3221\n",
      "5\n",
      "2\n",
      "1103\n",
      "1\n",
      "300\n",
      "3\n",
      "1581\n",
      "705\n",
      "4257\n",
      "2605\n",
      "261\n",
      "54\n",
      "535\n",
      "1\n",
      "5\n",
      "1\n",
      "4220\n",
      "28\n",
      "1145\n",
      "1\n",
      "3935\n",
      "3\n",
      "2\n",
      "2\n",
      "5180\n",
      "3\n",
      "2\n",
      "835\n",
      "2206\n",
      "15\n",
      "13\n",
      "53\n",
      "2\n",
      "8\n",
      "1\n",
      "1\n",
      "2432\n",
      "1547\n",
      "1\n",
      "7\n",
      "1\n",
      "1\n",
      "864\n",
      "4762\n",
      "22\n",
      "15\n",
      "1\n",
      "25\n",
      "537\n",
      "35\n",
      "1484\n",
      "332\n",
      "142\n",
      "11\n",
      "53\n",
      "1\n",
      "\n",
      "1411\n",
      "1\n",
      "1\n",
      "\n",
      "1\n",
      "4062\n",
      "1821\n",
      "8\n",
      "1\n",
      "2\n",
      "526\n",
      "1\n",
      "1\n"
     ]
    }
   ],
   "source": [
    "for i in allele_freq_ref[2]:\n",
    "    print(i)"
   ]
  },
  {
   "cell_type": "code",
   "execution_count": 104,
   "metadata": {},
   "outputs": [],
   "source": [
    "to_save.columns=['2n = 251,346 (%)']"
   ]
  },
  {
   "cell_type": "code",
   "execution_count": 106,
   "metadata": {},
   "outputs": [],
   "source": [
    "to_save.to_csv('data/out_pub/allele_freq.tsv',sep='\\t')"
   ]
  },
  {
   "cell_type": "code",
   "execution_count": null,
   "metadata": {},
   "outputs": [],
   "source": []
  },
  {
   "cell_type": "code",
   "execution_count": null,
   "metadata": {},
   "outputs": [],
   "source": []
  },
  {
   "cell_type": "code",
   "execution_count": null,
   "metadata": {},
   "outputs": [],
   "source": []
  },
  {
   "cell_type": "code",
   "execution_count": null,
   "metadata": {},
   "outputs": [],
   "source": []
  },
  {
   "cell_type": "code",
   "execution_count": null,
   "metadata": {},
   "outputs": [],
   "source": []
  },
  {
   "cell_type": "code",
   "execution_count": null,
   "metadata": {},
   "outputs": [],
   "source": []
  },
  {
   "cell_type": "code",
   "execution_count": 126,
   "metadata": {},
   "outputs": [
    {
     "data": {
      "text/plain": [
       "ID\n",
       "BHAN000001    Control\n",
       "BHAN000002       Case\n",
       "BHAN000003    Control\n",
       "BHAN000004       Case\n",
       "BHAN000005    Control\n",
       "               ...   \n",
       "BHAN125868    Control\n",
       "BHAN125869    Control\n",
       "BHAN125870    Control\n",
       "BHAN125871    Control\n",
       "BHAN125872    Control\n",
       "Name: hypertension, Length: 125673, dtype: object"
      ]
     },
     "execution_count": 126,
     "metadata": {},
     "output_type": "execute_result"
    }
   ],
   "source": []
  },
  {
   "cell_type": "code",
   "execution_count": 206,
   "metadata": {},
   "outputs": [],
   "source": [
    "phenotype_name='hypertension'\n",
    "data_out_assoc_phenotype_path=data_out_assoc_path+phenotype_name+'/'\n",
    "pheno=pd.read_csv(data_out_pheno_path+phenotype_name+'.phe',sep='\\t',names=['FID','IID','pheno'])"
   ]
  },
  {
   "cell_type": "code",
   "execution_count": 207,
   "metadata": {},
   "outputs": [],
   "source": [
    "data_dict={}\n",
    "for idx_bim,(SNP,row) in enumerate(plink_KCHIP_HLA_AA_SNP_1000G_bim.iterrows()):\n",
    "    if SNP in ['AA_B_80_31324497_exon2_I' ,'AA_B_80_31324497_exon2_N', 'AA_B_80_31324497_exon2_T']:\n",
    "        dosage=plink_KCHIP_HLA_AA_SNP_1000G.get_geno_marker(SNP)\n",
    "        data_dict[SNP]=dosage"
   ]
  },
  {
   "cell_type": "code",
   "execution_count": 216,
   "metadata": {},
   "outputs": [],
   "source": [
    "data_df=pd.DataFrame(data_dict)\n",
    "data_df['case']=pheno['pheno'].astype('str').replace('2', 'Case').replace('1', 'Control').replace('-9', 'Missing')"
   ]
  },
  {
   "cell_type": "code",
   "execution_count": 218,
   "metadata": {},
   "outputs": [
    {
     "data": {
      "text/html": [
       "<div>\n",
       "<style scoped>\n",
       "    .dataframe tbody tr th:only-of-type {\n",
       "        vertical-align: middle;\n",
       "    }\n",
       "\n",
       "    .dataframe tbody tr th {\n",
       "        vertical-align: top;\n",
       "    }\n",
       "\n",
       "    .dataframe thead th {\n",
       "        text-align: right;\n",
       "    }\n",
       "</style>\n",
       "<table border=\"1\" class=\"dataframe\">\n",
       "  <thead>\n",
       "    <tr style=\"text-align: right;\">\n",
       "      <th>AA_B_80_31324497_exon2_T</th>\n",
       "      <th>0</th>\n",
       "      <th>1</th>\n",
       "      <th>2</th>\n",
       "    </tr>\n",
       "    <tr>\n",
       "      <th>case</th>\n",
       "      <th></th>\n",
       "      <th></th>\n",
       "      <th></th>\n",
       "    </tr>\n",
       "  </thead>\n",
       "  <tbody>\n",
       "    <tr>\n",
       "      <th>Case</th>\n",
       "      <td>746</td>\n",
       "      <td>412</td>\n",
       "      <td>72</td>\n",
       "    </tr>\n",
       "    <tr>\n",
       "      <th>Control</th>\n",
       "      <td>2836</td>\n",
       "      <td>1500</td>\n",
       "      <td>250</td>\n",
       "    </tr>\n",
       "    <tr>\n",
       "      <th>Missing</th>\n",
       "      <td>1121</td>\n",
       "      <td>605</td>\n",
       "      <td>65</td>\n",
       "    </tr>\n",
       "  </tbody>\n",
       "</table>\n",
       "</div>"
      ],
      "text/plain": [
       "AA_B_80_31324497_exon2_T     0     1    2\n",
       "case                                     \n",
       "Case                       746   412   72\n",
       "Control                   2836  1500  250\n",
       "Missing                   1121   605   65"
      ]
     },
     "execution_count": 218,
     "metadata": {},
     "output_type": "execute_result"
    }
   ],
   "source": [
    "pd.crosstab(index=data_df['case'][(phenotypes['cohort']==1).values],\\\n",
    "            columns=data_df['AA_B_80_31324497_exon2_T'][(phenotypes['cohort']==1).values])"
   ]
  },
  {
   "cell_type": "code",
   "execution_count": 221,
   "metadata": {},
   "outputs": [
    {
     "data": {
      "text/html": [
       "<div>\n",
       "<style scoped>\n",
       "    .dataframe tbody tr th:only-of-type {\n",
       "        vertical-align: middle;\n",
       "    }\n",
       "\n",
       "    .dataframe tbody tr th {\n",
       "        vertical-align: top;\n",
       "    }\n",
       "\n",
       "    .dataframe thead th {\n",
       "        text-align: right;\n",
       "    }\n",
       "</style>\n",
       "<table border=\"1\" class=\"dataframe\">\n",
       "  <thead>\n",
       "    <tr style=\"text-align: right;\">\n",
       "      <th>AA_B_80_31324497_exon2_T</th>\n",
       "      <th>0</th>\n",
       "      <th>1</th>\n",
       "      <th>2</th>\n",
       "    </tr>\n",
       "    <tr>\n",
       "      <th>case</th>\n",
       "      <th></th>\n",
       "      <th></th>\n",
       "      <th></th>\n",
       "    </tr>\n",
       "  </thead>\n",
       "  <tbody>\n",
       "    <tr>\n",
       "      <th>Case</th>\n",
       "      <td>11651</td>\n",
       "      <td>6610</td>\n",
       "      <td>1076</td>\n",
       "    </tr>\n",
       "    <tr>\n",
       "      <th>Control</th>\n",
       "      <td>40111</td>\n",
       "      <td>20766</td>\n",
       "      <td>3128</td>\n",
       "    </tr>\n",
       "    <tr>\n",
       "      <th>Missing</th>\n",
       "      <td>9799</td>\n",
       "      <td>5213</td>\n",
       "      <td>805</td>\n",
       "    </tr>\n",
       "  </tbody>\n",
       "</table>\n",
       "</div>"
      ],
      "text/plain": [
       "AA_B_80_31324497_exon2_T      0      1     2\n",
       "case                                        \n",
       "Case                      11651   6610  1076\n",
       "Control                   40111  20766  3128\n",
       "Missing                    9799   5213   805"
      ]
     },
     "execution_count": 221,
     "metadata": {},
     "output_type": "execute_result"
    }
   ],
   "source": [
    "pd.crosstab(index=data_df['case'][(phenotypes['cohort']==2).values],\\\n",
    "            columns=data_df['AA_B_80_31324497_exon2_T'][(phenotypes['cohort']==2).values])"
   ]
  },
  {
   "cell_type": "code",
   "execution_count": 222,
   "metadata": {},
   "outputs": [
    {
     "data": {
      "text/html": [
       "<div>\n",
       "<style scoped>\n",
       "    .dataframe tbody tr th:only-of-type {\n",
       "        vertical-align: middle;\n",
       "    }\n",
       "\n",
       "    .dataframe tbody tr th {\n",
       "        vertical-align: top;\n",
       "    }\n",
       "\n",
       "    .dataframe thead th {\n",
       "        text-align: right;\n",
       "    }\n",
       "</style>\n",
       "<table border=\"1\" class=\"dataframe\">\n",
       "  <thead>\n",
       "    <tr style=\"text-align: right;\">\n",
       "      <th>AA_B_80_31324497_exon2_T</th>\n",
       "      <th>0</th>\n",
       "      <th>1</th>\n",
       "      <th>2</th>\n",
       "    </tr>\n",
       "    <tr>\n",
       "      <th>case</th>\n",
       "      <th></th>\n",
       "      <th></th>\n",
       "      <th></th>\n",
       "    </tr>\n",
       "  </thead>\n",
       "  <tbody>\n",
       "    <tr>\n",
       "      <th>Case</th>\n",
       "      <td>3093</td>\n",
       "      <td>1688</td>\n",
       "      <td>266</td>\n",
       "    </tr>\n",
       "    <tr>\n",
       "      <th>Control</th>\n",
       "      <td>7545</td>\n",
       "      <td>3743</td>\n",
       "      <td>572</td>\n",
       "    </tr>\n",
       "    <tr>\n",
       "      <th>Missing</th>\n",
       "      <td>1298</td>\n",
       "      <td>608</td>\n",
       "      <td>94</td>\n",
       "    </tr>\n",
       "  </tbody>\n",
       "</table>\n",
       "</div>"
      ],
      "text/plain": [
       "AA_B_80_31324497_exon2_T     0     1    2\n",
       "case                                     \n",
       "Case                      3093  1688  266\n",
       "Control                   7545  3743  572\n",
       "Missing                   1298   608   94"
      ]
     },
     "execution_count": 222,
     "metadata": {},
     "output_type": "execute_result"
    }
   ],
   "source": [
    "pd.crosstab(index=data_df['case'][(phenotypes['cohort']==3).values],\\\n",
    "            columns=data_df['AA_B_80_31324497_exon2_T'][(phenotypes['cohort']==3).values])"
   ]
  },
  {
   "cell_type": "code",
   "execution_count": null,
   "metadata": {},
   "outputs": [],
   "source": []
  },
  {
   "cell_type": "code",
   "execution_count": null,
   "metadata": {},
   "outputs": [],
   "source": []
  },
  {
   "cell_type": "code",
   "execution_count": null,
   "metadata": {},
   "outputs": [],
   "source": []
  },
  {
   "cell_type": "code",
   "execution_count": 133,
   "metadata": {},
   "outputs": [],
   "source": [
    "=(phenotypes['hypertension']==2).astype('str').replace('False', 'Control').replace('True', 'Case').values"
   ]
  },
  {
   "cell_type": "code",
   "execution_count": 145,
   "metadata": {},
   "outputs": [
    {
     "data": {
      "text/html": [
       "<div>\n",
       "<style scoped>\n",
       "    .dataframe tbody tr th:only-of-type {\n",
       "        vertical-align: middle;\n",
       "    }\n",
       "\n",
       "    .dataframe tbody tr th {\n",
       "        vertical-align: top;\n",
       "    }\n",
       "\n",
       "    .dataframe thead th {\n",
       "        text-align: right;\n",
       "    }\n",
       "</style>\n",
       "<table border=\"1\" class=\"dataframe\">\n",
       "  <thead>\n",
       "    <tr style=\"text-align: right;\">\n",
       "      <th>AA_B_80_31324497_exon2_T</th>\n",
       "      <th>0</th>\n",
       "      <th>1</th>\n",
       "      <th>2</th>\n",
       "    </tr>\n",
       "    <tr>\n",
       "      <th>case</th>\n",
       "      <th></th>\n",
       "      <th></th>\n",
       "      <th></th>\n",
       "    </tr>\n",
       "  </thead>\n",
       "  <tbody>\n",
       "    <tr>\n",
       "      <th>Case</th>\n",
       "      <td>15490</td>\n",
       "      <td>8710</td>\n",
       "      <td>1414</td>\n",
       "    </tr>\n",
       "    <tr>\n",
       "      <th>Control</th>\n",
       "      <td>62710</td>\n",
       "      <td>32435</td>\n",
       "      <td>4914</td>\n",
       "    </tr>\n",
       "  </tbody>\n",
       "</table>\n",
       "</div>"
      ],
      "text/plain": [
       "AA_B_80_31324497_exon2_T      0      1     2\n",
       "case                                        \n",
       "Case                      15490   8710  1414\n",
       "Control                   62710  32435  4914"
      ]
     },
     "execution_count": 145,
     "metadata": {},
     "output_type": "execute_result"
    }
   ],
   "source": [
    "pd.crosstab(index=data_df['case'], columns=data_df['AA_B_80_31324497_exon2_T'])"
   ]
  },
  {
   "cell_type": "code",
   "execution_count": 157,
   "metadata": {},
   "outputs": [
    {
     "data": {
      "text/plain": [
       "(1230, 7607)"
      ]
     },
     "execution_count": 157,
     "metadata": {},
     "output_type": "execute_result"
    }
   ],
   "source": [
    "((phenotypes['hypertension']==2)&(phenotypes['cohort']==1)).sum(),(phenotypes['cohort']==1).sum()"
   ]
  },
  {
   "cell_type": "code",
   "execution_count": 160,
   "metadata": {},
   "outputs": [
    {
     "data": {
      "text/plain": [
       "0.1616931773366636"
      ]
     },
     "execution_count": 160,
     "metadata": {},
     "output_type": "execute_result"
    }
   ],
   "source": [
    "1230/7607"
   ]
  },
  {
   "cell_type": "code",
   "execution_count": 158,
   "metadata": {},
   "outputs": [
    {
     "data": {
      "text/plain": [
       "(19337, 99159)"
      ]
     },
     "execution_count": 158,
     "metadata": {},
     "output_type": "execute_result"
    }
   ],
   "source": [
    "((phenotypes['hypertension']==2)&(phenotypes['cohort']==2)).sum(),(phenotypes['cohort']==2).sum()"
   ]
  },
  {
   "cell_type": "code",
   "execution_count": 161,
   "metadata": {},
   "outputs": [
    {
     "data": {
      "text/plain": [
       "0.19501003438921327"
      ]
     },
     "execution_count": 161,
     "metadata": {},
     "output_type": "execute_result"
    }
   ],
   "source": [
    "19337/99159"
   ]
  },
  {
   "cell_type": "code",
   "execution_count": 159,
   "metadata": {},
   "outputs": [
    {
     "data": {
      "text/plain": [
       "(5047, 18907)"
      ]
     },
     "execution_count": 159,
     "metadata": {},
     "output_type": "execute_result"
    }
   ],
   "source": [
    "((phenotypes['hypertension']==2)&(phenotypes['cohort']==3)).sum(),(phenotypes['cohort']==3).sum()"
   ]
  },
  {
   "cell_type": "code",
   "execution_count": 162,
   "metadata": {},
   "outputs": [
    {
     "data": {
      "text/plain": [
       "0.2669381710477601"
      ]
     },
     "execution_count": 162,
     "metadata": {},
     "output_type": "execute_result"
    }
   ],
   "source": [
    "5047/18907"
   ]
  },
  {
   "cell_type": "code",
   "execution_count": 169,
   "metadata": {},
   "outputs": [
    {
     "data": {
      "text/html": [
       "<div>\n",
       "<style scoped>\n",
       "    .dataframe tbody tr th:only-of-type {\n",
       "        vertical-align: middle;\n",
       "    }\n",
       "\n",
       "    .dataframe tbody tr th {\n",
       "        vertical-align: top;\n",
       "    }\n",
       "\n",
       "    .dataframe thead th {\n",
       "        text-align: right;\n",
       "    }\n",
       "</style>\n",
       "<table border=\"1\" class=\"dataframe\">\n",
       "  <thead>\n",
       "    <tr style=\"text-align: right;\">\n",
       "      <th>AA_B_80_31324497_exon2_T</th>\n",
       "      <th>0</th>\n",
       "      <th>1</th>\n",
       "      <th>2</th>\n",
       "    </tr>\n",
       "    <tr>\n",
       "      <th>case</th>\n",
       "      <th></th>\n",
       "      <th></th>\n",
       "      <th></th>\n",
       "    </tr>\n",
       "  </thead>\n",
       "  <tbody>\n",
       "    <tr>\n",
       "      <th>Case</th>\n",
       "      <td>746</td>\n",
       "      <td>412</td>\n",
       "      <td>72</td>\n",
       "    </tr>\n",
       "    <tr>\n",
       "      <th>Control</th>\n",
       "      <td>3957</td>\n",
       "      <td>2105</td>\n",
       "      <td>315</td>\n",
       "    </tr>\n",
       "  </tbody>\n",
       "</table>\n",
       "</div>"
      ],
      "text/plain": [
       "AA_B_80_31324497_exon2_T     0     1    2\n",
       "case                                     \n",
       "Case                       746   412   72\n",
       "Control                   3957  2105  315"
      ]
     },
     "execution_count": 169,
     "metadata": {},
     "output_type": "execute_result"
    }
   ],
   "source": []
  },
  {
   "cell_type": "code",
   "execution_count": 175,
   "metadata": {},
   "outputs": [
    {
     "data": {
      "text/plain": [
       "array([0.60650407, 0.33495935, 0.05853659])"
      ]
     },
     "execution_count": 175,
     "metadata": {},
     "output_type": "execute_result"
    }
   ],
   "source": [
    "np.array([746,412,72])/np.array([746,412,72]).sum()"
   ]
  },
  {
   "cell_type": "code",
   "execution_count": 170,
   "metadata": {},
   "outputs": [
    {
     "data": {
      "text/html": [
       "<div>\n",
       "<style scoped>\n",
       "    .dataframe tbody tr th:only-of-type {\n",
       "        vertical-align: middle;\n",
       "    }\n",
       "\n",
       "    .dataframe tbody tr th {\n",
       "        vertical-align: top;\n",
       "    }\n",
       "\n",
       "    .dataframe thead th {\n",
       "        text-align: right;\n",
       "    }\n",
       "</style>\n",
       "<table border=\"1\" class=\"dataframe\">\n",
       "  <thead>\n",
       "    <tr style=\"text-align: right;\">\n",
       "      <th>AA_B_80_31324497_exon2_T</th>\n",
       "      <th>0</th>\n",
       "      <th>1</th>\n",
       "      <th>2</th>\n",
       "    </tr>\n",
       "    <tr>\n",
       "      <th>case</th>\n",
       "      <th></th>\n",
       "      <th></th>\n",
       "      <th></th>\n",
       "    </tr>\n",
       "  </thead>\n",
       "  <tbody>\n",
       "    <tr>\n",
       "      <th>Case</th>\n",
       "      <td>11651</td>\n",
       "      <td>6610</td>\n",
       "      <td>1076</td>\n",
       "    </tr>\n",
       "    <tr>\n",
       "      <th>Control</th>\n",
       "      <td>49910</td>\n",
       "      <td>25979</td>\n",
       "      <td>3933</td>\n",
       "    </tr>\n",
       "  </tbody>\n",
       "</table>\n",
       "</div>"
      ],
      "text/plain": [
       "AA_B_80_31324497_exon2_T      0      1     2\n",
       "case                                        \n",
       "Case                      11651   6610  1076\n",
       "Control                   49910  25979  3933"
      ]
     },
     "execution_count": 170,
     "metadata": {},
     "output_type": "execute_result"
    }
   ],
   "source": [
    "pd.crosstab(index=data_df['case'][(phenotypes['cohort']==2).values],\\\n",
    "            columns=data_df['AA_B_80_31324497_exon2_T'][(phenotypes['cohort']==2).values])"
   ]
  },
  {
   "cell_type": "code",
   "execution_count": 176,
   "metadata": {},
   "outputs": [
    {
     "data": {
      "text/plain": [
       "array([0.60252366, 0.34183172, 0.05564462])"
      ]
     },
     "execution_count": 176,
     "metadata": {},
     "output_type": "execute_result"
    }
   ],
   "source": [
    "np.array([11651,6610,1076])/np.array([11651,6610,1076]).sum()"
   ]
  },
  {
   "cell_type": "code",
   "execution_count": 171,
   "metadata": {},
   "outputs": [
    {
     "data": {
      "text/html": [
       "<div>\n",
       "<style scoped>\n",
       "    .dataframe tbody tr th:only-of-type {\n",
       "        vertical-align: middle;\n",
       "    }\n",
       "\n",
       "    .dataframe tbody tr th {\n",
       "        vertical-align: top;\n",
       "    }\n",
       "\n",
       "    .dataframe thead th {\n",
       "        text-align: right;\n",
       "    }\n",
       "</style>\n",
       "<table border=\"1\" class=\"dataframe\">\n",
       "  <thead>\n",
       "    <tr style=\"text-align: right;\">\n",
       "      <th>AA_B_80_31324497_exon2_T</th>\n",
       "      <th>0</th>\n",
       "      <th>1</th>\n",
       "      <th>2</th>\n",
       "    </tr>\n",
       "    <tr>\n",
       "      <th>case</th>\n",
       "      <th></th>\n",
       "      <th></th>\n",
       "      <th></th>\n",
       "    </tr>\n",
       "  </thead>\n",
       "  <tbody>\n",
       "    <tr>\n",
       "      <th>Case</th>\n",
       "      <td>3093</td>\n",
       "      <td>1688</td>\n",
       "      <td>266</td>\n",
       "    </tr>\n",
       "    <tr>\n",
       "      <th>Control</th>\n",
       "      <td>8843</td>\n",
       "      <td>4351</td>\n",
       "      <td>666</td>\n",
       "    </tr>\n",
       "  </tbody>\n",
       "</table>\n",
       "</div>"
      ],
      "text/plain": [
       "AA_B_80_31324497_exon2_T     0     1    2\n",
       "case                                     \n",
       "Case                      3093  1688  266\n",
       "Control                   8843  4351  666"
      ]
     },
     "execution_count": 171,
     "metadata": {},
     "output_type": "execute_result"
    }
   ],
   "source": [
    "pd.crosstab(index=data_df['case'][(phenotypes['cohort']==3).values],\\\n",
    "            columns=data_df['AA_B_80_31324497_exon2_T'][(phenotypes['cohort']==3).values])"
   ]
  },
  {
   "cell_type": "code",
   "execution_count": 174,
   "metadata": {},
   "outputs": [
    {
     "data": {
      "text/plain": [
       "array([0.61283931, 0.33445611, 0.05270458])"
      ]
     },
     "execution_count": 174,
     "metadata": {},
     "output_type": "execute_result"
    }
   ],
   "source": [
    "np.array([3093,1688,266])/np.array([3093,1688,266]).sum()"
   ]
  },
  {
   "cell_type": "code",
   "execution_count": 172,
   "metadata": {},
   "outputs": [
    {
     "data": {
      "text/plain": [
       "5047"
      ]
     },
     "execution_count": 172,
     "metadata": {},
     "output_type": "execute_result"
    }
   ],
   "source": [
    "3093+1688+266"
   ]
  },
  {
   "cell_type": "code",
   "execution_count": 152,
   "metadata": {},
   "outputs": [
    {
     "data": {
      "text/plain": [
       "99159"
      ]
     },
     "execution_count": 152,
     "metadata": {},
     "output_type": "execute_result"
    }
   ],
   "source": [
    "(phenotypes['cohort']==2).sum()"
   ]
  },
  {
   "cell_type": "code",
   "execution_count": 153,
   "metadata": {},
   "outputs": [
    {
     "data": {
      "text/plain": [
       "18907"
      ]
     },
     "execution_count": 153,
     "metadata": {},
     "output_type": "execute_result"
    }
   ],
   "source": [
    "(phenotypes['cohort']==3).sum()"
   ]
  },
  {
   "cell_type": "code",
   "execution_count": null,
   "metadata": {},
   "outputs": [],
   "source": [
    "'AS','CT','NC'"
   ]
  },
  {
   "cell_type": "code",
   "execution_count": 114,
   "metadata": {},
   "outputs": [
    {
     "data": {
      "text/html": [
       "<div>\n",
       "<style scoped>\n",
       "    .dataframe tbody tr th:only-of-type {\n",
       "        vertical-align: middle;\n",
       "    }\n",
       "\n",
       "    .dataframe tbody tr th {\n",
       "        vertical-align: top;\n",
       "    }\n",
       "\n",
       "    .dataframe thead th {\n",
       "        text-align: right;\n",
       "    }\n",
       "</style>\n",
       "<table border=\"1\" class=\"dataframe\">\n",
       "  <thead>\n",
       "    <tr style=\"text-align: right;\">\n",
       "      <th></th>\n",
       "      <th>chrom</th>\n",
       "      <th>pos</th>\n",
       "      <th>cm</th>\n",
       "      <th>a1</th>\n",
       "      <th>a2</th>\n",
       "    </tr>\n",
       "    <tr>\n",
       "      <th>snp</th>\n",
       "      <th></th>\n",
       "      <th></th>\n",
       "      <th></th>\n",
       "      <th></th>\n",
       "      <th></th>\n",
       "    </tr>\n",
       "  </thead>\n",
       "  <tbody>\n",
       "    <tr>\n",
       "      <th>AA_B_80_31324497_exon2_I</th>\n",
       "      <td>6</td>\n",
       "      <td>31324497</td>\n",
       "      <td>0</td>\n",
       "      <td>p</td>\n",
       "      <td>a</td>\n",
       "    </tr>\n",
       "    <tr>\n",
       "      <th>AA_B_80_31324497_exon2_N</th>\n",
       "      <td>6</td>\n",
       "      <td>31324497</td>\n",
       "      <td>0</td>\n",
       "      <td>p</td>\n",
       "      <td>a</td>\n",
       "    </tr>\n",
       "    <tr>\n",
       "      <th>AA_B_80_31324497_exon2_T</th>\n",
       "      <td>6</td>\n",
       "      <td>31324497</td>\n",
       "      <td>0</td>\n",
       "      <td>p</td>\n",
       "      <td>a</td>\n",
       "    </tr>\n",
       "  </tbody>\n",
       "</table>\n",
       "</div>"
      ],
      "text/plain": [
       "                          chrom       pos  cm a1 a2\n",
       "snp                                                \n",
       "AA_B_80_31324497_exon2_I      6  31324497   0  p  a\n",
       "AA_B_80_31324497_exon2_N      6  31324497   0  p  a\n",
       "AA_B_80_31324497_exon2_T      6  31324497   0  p  a"
      ]
     },
     "execution_count": 114,
     "metadata": {},
     "output_type": "execute_result"
    }
   ],
   "source": [
    "plink_KCHIP_HLA_AA_SNP_1000G_bim[plink_KCHIP_HLA_AA_SNP_1000G_bim.index.str.contains('AA_B_80')]"
   ]
  },
  {
   "cell_type": "code",
   "execution_count": null,
   "metadata": {},
   "outputs": [],
   "source": []
  },
  {
   "cell_type": "code",
   "execution_count": null,
   "metadata": {},
   "outputs": [],
   "source": []
  },
  {
   "cell_type": "code",
   "execution_count": null,
   "metadata": {},
   "outputs": [],
   "source": []
  },
  {
   "cell_type": "code",
   "execution_count": null,
   "metadata": {},
   "outputs": [],
   "source": []
  },
  {
   "cell_type": "code",
   "execution_count": null,
   "metadata": {},
   "outputs": [],
   "source": []
  },
  {
   "cell_type": "code",
   "execution_count": 71,
   "metadata": {},
   "outputs": [
    {
     "data": {
      "text/plain": [
       "125673.0"
      ]
     },
     "execution_count": 71,
     "metadata": {},
     "output_type": "execute_result"
    }
   ],
   "source": [
    "251346/2"
   ]
  },
  {
   "cell_type": "code",
   "execution_count": null,
   "metadata": {},
   "outputs": [],
   "source": []
  },
  {
   "cell_type": "code",
   "execution_count": null,
   "metadata": {},
   "outputs": [],
   "source": []
  },
  {
   "cell_type": "code",
   "execution_count": 5,
   "metadata": {},
   "outputs": [
    {
     "name": "stderr",
     "output_type": "stream",
     "text": [
      "/home/ch6845/tools/miniconda3/lib/python3.7/site-packages/ipykernel_launcher.py:3: RuntimeWarning: invalid value encountered in long_scalars\n",
      "  This is separate from the ipykernel package so we can avoid doing imports until\n"
     ]
    }
   ],
   "source": [
    "def cal_maf(dosage_array):\n",
    "    maf=((dosage_array==1).sum()+2*(dosage_array==2).sum())/\\\n",
    "         (2*(dosage_array!=-1).sum())\n",
    "    return maf\n",
    "\n",
    "maf_list_list=[]\n",
    "for idx_bim,(SNP,row) in enumerate(plink_KCHIP_HLA_AA_SNP_1000G_bim.iterrows()):\n",
    "    maf_list=[]\n",
    "    dosage=plink_KCHIP_HLA_AA_SNP_1000G.get_geno_marker(SNP)\n",
    "    maf_list.append(cal_maf(dosage))\n",
    "    for cohort in range(1,3+1):\n",
    "        cohort_dosage=dosage[phenotypes['cohort']==cohort]\n",
    "        #print('total: {:5d} -1:{:5d} 0:{:5d} 1:{:5d} 2:{:5d}'.format(len(cohort_dosage),(cohort_dosage==-1).sum(),(cohort_dosage==0).sum(),(cohort_dosage==1).sum(),(cohort_dosage==2).sum()))\n",
    "        maf_list.append(cal_maf(cohort_dosage))\n",
    "    maf_list_list.append(maf_list)"
   ]
  },
  {
   "cell_type": "code",
   "execution_count": 7,
   "metadata": {},
   "outputs": [],
   "source": [
    "assert (phenotypes.index!=plink_KCHIP_HLA_AA_SNP_1000G_fam['IID']).sum()==0"
   ]
  },
  {
   "cell_type": "code",
   "execution_count": 84,
   "metadata": {},
   "outputs": [],
   "source": [
    "maf_df=pd.DataFrame(maf_list_list,index=plink_KCHIP_HLA_AA_SNP_1000G_bim.index,columns=['all','AS','CT','NC'])\n",
    "maf_df['pos_MB']=plink_KCHIP_HLA_AA_SNP_1000G_bim['pos']/1000000\n",
    "maf_df['pos']=plink_KCHIP_HLA_AA_SNP_1000G_bim['pos']\n",
    "maf_df['A1']=plink_KCHIP_HLA_AA_SNP_1000G_bim['a1']\n",
    "maf_df['A2']=plink_KCHIP_HLA_AA_SNP_1000G_bim['a2']"
   ]
  },
  {
   "cell_type": "code",
   "execution_count": 87,
   "metadata": {},
   "outputs": [],
   "source": [
    "maf_df[['pos','A1','A2','all','AS','CT','NC']].to_csv(\"maf.tsv\",sep='\\t')"
   ]
  },
  {
   "cell_type": "code",
   "execution_count": 72,
   "metadata": {},
   "outputs": [],
   "source": [
    "#maf_df=maf_df[maf_df.isnull().sum(axis=1)==0]\n",
    "\n",
    "maf_df['all_minor']=np.where(maf_df['all']>0.5,1-maf_df['all'],maf_df['all'])\n",
    "maf_df['AS_minor']=np.where(maf_df['all']>0.5,1-maf_df['AS'],maf_df['AS'])\n",
    "maf_df['CT_minor']=np.where(maf_df['all']>0.5,1-maf_df['CT'],maf_df['CT'])\n",
    "maf_df['NC_minor']=np.where(maf_df['all']>0.5,1-maf_df['NC'],maf_df['NC'])"
   ]
  },
  {
   "cell_type": "code",
   "execution_count": 73,
   "metadata": {},
   "outputs": [],
   "source": [
    "maf_df['all_weighted_minor']=(maf_df['AS_minor']+maf_df['CT_minor']+maf_df['NC_minor'])/3#(maf_df['AS']*(phenotypes['cohort']==1).sum()+maf_df['CT']*(phenotypes['cohort']==2).sum()+maf_df['NC']*(phenotypes['cohort']==3).sum())/(phenotypes['cohort'].shape[0])"
   ]
  },
  {
   "cell_type": "code",
   "execution_count": 74,
   "metadata": {},
   "outputs": [],
   "source": [
    "#maf_df['AS_diff_minor']=(maf_df['AS_minor']-maf_df['all_minor'])#.abs()\n",
    "#maf_df['CT_diff_minor']=(maf_df['CT_minor']-maf_df['all_minor'])#.abs()\n",
    "#maf_df['NC_diff_minor']=(maf_df['NC_minor']-maf_df['all_minor'])#.abs()\n",
    "\n",
    "\n",
    "maf_df['AS_diff_weighted_minor']=(maf_df['AS_minor']-maf_df['all_weighted_minor']).abs()\n",
    "maf_df['CT_diff_weighted_minor']=(maf_df['CT_minor']-maf_df['all_weighted_minor']).abs()\n",
    "maf_df['NC_diff_weighted_minor']=(maf_df['NC_minor']-maf_df['all_weighted_minor']).abs()\n",
    "\n"
   ]
  },
  {
   "cell_type": "code",
   "execution_count": 75,
   "metadata": {},
   "outputs": [
    {
     "data": {
      "text/html": [
       "<div>\n",
       "<style scoped>\n",
       "    .dataframe tbody tr th:only-of-type {\n",
       "        vertical-align: middle;\n",
       "    }\n",
       "\n",
       "    .dataframe tbody tr th {\n",
       "        vertical-align: top;\n",
       "    }\n",
       "\n",
       "    .dataframe thead th {\n",
       "        text-align: right;\n",
       "    }\n",
       "</style>\n",
       "<table border=\"1\" class=\"dataframe\">\n",
       "  <thead>\n",
       "    <tr style=\"text-align: right;\">\n",
       "      <th></th>\n",
       "      <th>all</th>\n",
       "      <th>AS</th>\n",
       "      <th>CT</th>\n",
       "      <th>NC</th>\n",
       "      <th>pos_MB</th>\n",
       "      <th>all_minor</th>\n",
       "      <th>AS_minor</th>\n",
       "      <th>CT_minor</th>\n",
       "      <th>NC_minor</th>\n",
       "      <th>all_weighted_minor</th>\n",
       "      <th>AS_diff_weighted_minor</th>\n",
       "      <th>CT_diff_weighted_minor</th>\n",
       "      <th>NC_diff_weighted_minor</th>\n",
       "    </tr>\n",
       "    <tr>\n",
       "      <th>snp</th>\n",
       "      <th></th>\n",
       "      <th></th>\n",
       "      <th></th>\n",
       "      <th></th>\n",
       "      <th></th>\n",
       "      <th></th>\n",
       "      <th></th>\n",
       "      <th></th>\n",
       "      <th></th>\n",
       "      <th></th>\n",
       "      <th></th>\n",
       "      <th></th>\n",
       "      <th></th>\n",
       "    </tr>\n",
       "  </thead>\n",
       "  <tbody>\n",
       "    <tr>\n",
       "      <th>6:28000361_T/C</th>\n",
       "      <td>0.094969</td>\n",
       "      <td>0.093335</td>\n",
       "      <td>0.094550</td>\n",
       "      <td>0.097821</td>\n",
       "      <td>28.000361</td>\n",
       "      <td>0.094969</td>\n",
       "      <td>0.093335</td>\n",
       "      <td>0.094550</td>\n",
       "      <td>0.097821</td>\n",
       "      <td>0.095235</td>\n",
       "      <td>0.001900</td>\n",
       "      <td>0.000685</td>\n",
       "      <td>0.002586</td>\n",
       "    </tr>\n",
       "    <tr>\n",
       "      <th>6:28000610_C/A</th>\n",
       "      <td>0.094949</td>\n",
       "      <td>0.093269</td>\n",
       "      <td>0.094530</td>\n",
       "      <td>0.097821</td>\n",
       "      <td>28.000610</td>\n",
       "      <td>0.094949</td>\n",
       "      <td>0.093269</td>\n",
       "      <td>0.094530</td>\n",
       "      <td>0.097821</td>\n",
       "      <td>0.095207</td>\n",
       "      <td>0.001937</td>\n",
       "      <td>0.000677</td>\n",
       "      <td>0.002614</td>\n",
       "    </tr>\n",
       "    <tr>\n",
       "      <th>6:28001003_A/C</th>\n",
       "      <td>0.088858</td>\n",
       "      <td>0.086368</td>\n",
       "      <td>0.088550</td>\n",
       "      <td>0.091474</td>\n",
       "      <td>28.001003</td>\n",
       "      <td>0.088858</td>\n",
       "      <td>0.086368</td>\n",
       "      <td>0.088550</td>\n",
       "      <td>0.091474</td>\n",
       "      <td>0.088797</td>\n",
       "      <td>0.002429</td>\n",
       "      <td>0.000247</td>\n",
       "      <td>0.002677</td>\n",
       "    </tr>\n",
       "    <tr>\n",
       "      <th>6:28001033_T/C</th>\n",
       "      <td>0.309947</td>\n",
       "      <td>0.309780</td>\n",
       "      <td>0.309543</td>\n",
       "      <td>0.312133</td>\n",
       "      <td>28.001033</td>\n",
       "      <td>0.309947</td>\n",
       "      <td>0.309780</td>\n",
       "      <td>0.309543</td>\n",
       "      <td>0.312133</td>\n",
       "      <td>0.310486</td>\n",
       "      <td>0.000705</td>\n",
       "      <td>0.000942</td>\n",
       "      <td>0.001647</td>\n",
       "    </tr>\n",
       "    <tr>\n",
       "      <th>6:28001610_T/C</th>\n",
       "      <td>0.309939</td>\n",
       "      <td>0.309780</td>\n",
       "      <td>0.309533</td>\n",
       "      <td>0.312133</td>\n",
       "      <td>28.001610</td>\n",
       "      <td>0.309939</td>\n",
       "      <td>0.309780</td>\n",
       "      <td>0.309533</td>\n",
       "      <td>0.312133</td>\n",
       "      <td>0.310482</td>\n",
       "      <td>0.000702</td>\n",
       "      <td>0.000949</td>\n",
       "      <td>0.001651</td>\n",
       "    </tr>\n",
       "  </tbody>\n",
       "</table>\n",
       "</div>"
      ],
      "text/plain": [
       "                     all        AS        CT        NC     pos_MB  all_minor  \\\n",
       "snp                                                                            \n",
       "6:28000361_T/C  0.094969  0.093335  0.094550  0.097821  28.000361   0.094969   \n",
       "6:28000610_C/A  0.094949  0.093269  0.094530  0.097821  28.000610   0.094949   \n",
       "6:28001003_A/C  0.088858  0.086368  0.088550  0.091474  28.001003   0.088858   \n",
       "6:28001033_T/C  0.309947  0.309780  0.309543  0.312133  28.001033   0.309947   \n",
       "6:28001610_T/C  0.309939  0.309780  0.309533  0.312133  28.001610   0.309939   \n",
       "\n",
       "                AS_minor  CT_minor  NC_minor  all_weighted_minor  \\\n",
       "snp                                                                \n",
       "6:28000361_T/C  0.093335  0.094550  0.097821            0.095235   \n",
       "6:28000610_C/A  0.093269  0.094530  0.097821            0.095207   \n",
       "6:28001003_A/C  0.086368  0.088550  0.091474            0.088797   \n",
       "6:28001033_T/C  0.309780  0.309543  0.312133            0.310486   \n",
       "6:28001610_T/C  0.309780  0.309533  0.312133            0.310482   \n",
       "\n",
       "                AS_diff_weighted_minor  CT_diff_weighted_minor  \\\n",
       "snp                                                              \n",
       "6:28000361_T/C                0.001900                0.000685   \n",
       "6:28000610_C/A                0.001937                0.000677   \n",
       "6:28001003_A/C                0.002429                0.000247   \n",
       "6:28001033_T/C                0.000705                0.000942   \n",
       "6:28001610_T/C                0.000702                0.000949   \n",
       "\n",
       "                NC_diff_weighted_minor  \n",
       "snp                                     \n",
       "6:28000361_T/C                0.002586  \n",
       "6:28000610_C/A                0.002614  \n",
       "6:28001003_A/C                0.002677  \n",
       "6:28001033_T/C                0.001647  \n",
       "6:28001610_T/C                0.001651  "
      ]
     },
     "execution_count": 75,
     "metadata": {},
     "output_type": "execute_result"
    }
   ],
   "source": [
    "maf_df.head()"
   ]
  },
  {
   "cell_type": "code",
   "execution_count": 80,
   "metadata": {},
   "outputs": [
    {
     "data": {
      "image/png": "[encoded data removed]",
      "text/plain": [
       "<Figure size 3600x720 with 1 Axes>"
      ]
     },
     "metadata": {
      "needs_background": "light"
     },
     "output_type": "display_data"
    }
   ],
   "source": [
    "plt.rcParams[\"figure.figsize\"] = (50,10)\n",
    "plt.rcParams[\"font.size\"]=30\n",
    "\n",
    "ax=maf_df.set_index('pos_MB')[['AS_diff_weighted_minor','CT_diff_weighted_minor','NC_diff_weighted_minor']].plot(alpha=0.2)\n",
    "\n",
    "leg = ax.legend()\n",
    "\n",
    "for line in leg.get_lines():\n",
    "    line.set_linewidth(20)\n",
    "\n",
    "plt.title(\"MAF difference between cohorts ( abs(MAF_cohort-avg(MAF_cohort)) )\")\n",
    "plt.savefig('MAF.svg')"
   ]
  },
  {
   "cell_type": "code",
   "execution_count": 169,
   "metadata": {},
   "outputs": [
    {
     "data": {
      "text/plain": [
       "(0.19483053254227672, 0.004732483239121861, 0.5)"
      ]
     },
     "execution_count": 169,
     "metadata": {},
     "output_type": "execute_result"
    }
   ],
   "source": [
    "maf_df['AS'].mean(),maf_df['AS'].min(),maf_df['AS'].max()"
   ]
  },
  {
   "cell_type": "code",
   "execution_count": 170,
   "metadata": {},
   "outputs": [
    {
     "data": {
      "text/plain": [
       "(0.1946544550292758, 0.004921388880484878, 0.4999848727800805)"
      ]
     },
     "execution_count": 170,
     "metadata": {},
     "output_type": "execute_result"
    }
   ],
   "source": [
    "maf_df['CT'].mean(),maf_df['CT'].min(),maf_df['CT'].max()"
   ]
  },
  {
   "cell_type": "code",
   "execution_count": 171,
   "metadata": {},
   "outputs": [
    {
     "data": {
      "text/plain": [
       "(0.19395682067393166, 0.005103929761464008, 0.5)"
      ]
     },
     "execution_count": 171,
     "metadata": {},
     "output_type": "execute_result"
    }
   ],
   "source": [
    "maf_df['NC'].mean(),maf_df['NC'].min(),maf_df['NC'].max()"
   ]
  },
  {
   "cell_type": "code",
   "execution_count": 172,
   "metadata": {},
   "outputs": [
    {
     "data": {
      "text/plain": [
       "(0.0022412417310651704, 4.579547852046062e-10, 0.019479151573028652)"
      ]
     },
     "execution_count": 172,
     "metadata": {},
     "output_type": "execute_result"
    }
   ],
   "source": [
    "maf_df['AS_diff_weighted'].mean(),maf_df['AS_diff_weighted'].min(),maf_df['AS_diff_weighted'].max()"
   ]
  },
  {
   "cell_type": "code",
   "execution_count": 173,
   "metadata": {},
   "outputs": [
    {
     "data": {
      "text/plain": [
       "(0.001673300881159929, 1.2356453422956992e-07, 0.018359628370642617)"
      ]
     },
     "execution_count": 173,
     "metadata": {},
     "output_type": "execute_result"
    }
   ],
   "source": [
    "maf_df['CT_diff_weighted'].mean(),maf_df['CT_diff_weighted'].min(),maf_df['CT_diff_weighted'].max()"
   ]
  },
  {
   "cell_type": "code",
   "execution_count": 174,
   "metadata": {},
   "outputs": [
    {
     "data": {
      "text/plain": [
       "(0.002263989566338635, 6.980417109961334e-08, 0.01458894060723423)"
      ]
     },
     "execution_count": 174,
     "metadata": {},
     "output_type": "execute_result"
    }
   ],
   "source": [
    "maf_df['NC_diff_weighted'].mean(),maf_df['NC_diff_weighted'].min(),maf_df['NC_diff_weighted'].max()"
   ]
  },
  {
   "cell_type": "markdown",
   "metadata": {},
   "source": [
    "MAF AS>=CT>NC"
   ]
  },
  {
   "cell_type": "code",
   "execution_count": 175,
   "metadata": {},
   "outputs": [
    {
     "data": {
      "text/plain": [
       "(74904, 11)"
      ]
     },
     "execution_count": 175,
     "metadata": {},
     "output_type": "execute_result"
    }
   ],
   "source": [
    "maf_df.shape"
   ]
  },
  {
   "cell_type": "code",
   "execution_count": 183,
   "metadata": {},
   "outputs": [
    {
     "data": {
      "text/plain": [
       "(15116, 237, 3)"
      ]
     },
     "execution_count": 183,
     "metadata": {},
     "output_type": "execute_result"
    }
   ],
   "source": [
    "(maf_df['AS']<0.05).sum(),(maf_df['AS']<0.01).sum(),(maf_df['AS']<0.005).sum()"
   ]
  },
  {
   "cell_type": "code",
   "execution_count": 186,
   "metadata": {},
   "outputs": [
    {
     "data": {
      "text/plain": [
       "(15187, 210, 2)"
      ]
     },
     "execution_count": 186,
     "metadata": {},
     "output_type": "execute_result"
    }
   ],
   "source": [
    "(maf_df['CT']<0.05).sum(),(maf_df['CT']<0.01).sum(),(maf_df['CT']<0.005).sum()"
   ]
  },
  {
   "cell_type": "code",
   "execution_count": 187,
   "metadata": {},
   "outputs": [
    {
     "data": {
      "text/plain": [
       "(15357, 160, 0)"
      ]
     },
     "execution_count": 187,
     "metadata": {},
     "output_type": "execute_result"
    }
   ],
   "source": [
    "(maf_df['NC']<0.05).sum(),(maf_df['NC']<0.01).sum(),(maf_df['NC']<0.005).sum()"
   ]
  },
  {
   "cell_type": "code",
   "execution_count": 181,
   "metadata": {},
   "outputs": [
    {
     "data": {
      "text/plain": [
       "all                 0\n",
       "AS                  0\n",
       "CT                  0\n",
       "NC                  0\n",
       "all_weighted        0\n",
       "AS_diff             0\n",
       "CT_diff             0\n",
       "NC_diff             0\n",
       "AS_diff_weighted    0\n",
       "CT_diff_weighted    0\n",
       "NC_diff_weighted    0\n",
       "dtype: int64"
      ]
     },
     "execution_count": 181,
     "metadata": {},
     "output_type": "execute_result"
    }
   ],
   "source": [
    "(maf_df==0).sum()"
   ]
  }
 ],
 "metadata": {
  "kernelspec": {
   "display_name": "Python 3",
   "language": "python",
   "name": "python3"
  },
  "language_info": {
   "codemirror_mode": {
    "name": "ipython",
    "version": 3
   },
   "file_extension": ".py",
   "mimetype": "text/x-python",
   "name": "python",
   "nbconvert_exporter": "python",
   "pygments_lexer": "ipython3",
   "version": "3.7.3"
  },
  "toc": {
   "base_numbering": 1,
   "nav_menu": {},
   "number_sections": true,
   "sideBar": true,
   "skip_h1_title": false,
   "title_cell": "Table of Contents",
   "title_sidebar": "Contents",
   "toc_cell": false,
   "toc_position": {},
   "toc_section_display": true,
   "toc_window_display": false
  }
 },
 "nbformat": 4,
 "nbformat_minor": 4
}
