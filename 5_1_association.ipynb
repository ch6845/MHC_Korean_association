{
 "cells": [
  {
   "cell_type": "code",
   "execution_count": 1,
   "metadata": {},
   "outputs": [
    {
     "data": {
      "text/plain": [
       "'\\n\\njupyter nbconvert 5_1_association.ipynb --to script\\n\\npython 5_1_association.py height 1 0,1,2\\n\\n\\n\\n\\nfor i in {00..98};do python 5_1_association.py $i 0 0,1,2;done\\n\\n\\nfor i in {00..10};do python 5_1_association.py $i 1 0;done\\nfor i in {11..20};do python 5_1_association.py $i 1 0;done\\n\\nfor i in {21..30};do python 5_1_association.py $i 1 0;done\\nfor i in {31..40};do python 5_1_association.py $i 1 0;done\\n\\nfor i in {41..50};do python 5_1_association.py $i 1 0;done\\nfor i in {51..60};do python 5_1_association.py $i 1 0;done\\n\\nfor i in {61..70};do python 5_1_association.py $i 1 0;done\\nfor i in {71..80};do python 5_1_association.py $i 1 0;done\\n\\nfor i in {81..90};do python 5_1_association.py $i 1 0;done\\nfor i in {91..97};do python 5_1_association.py $i 1 0;done\\n'"
      ]
     },
     "execution_count": 1,
     "metadata": {},
     "output_type": "execute_result"
    }
   ],
   "source": [
    "import os\n",
    "import sys\n",
    "\n",
    "import logging\n",
    "import re\n",
    "import pathlib\n",
    "\n",
    "import datetime\n",
    "\n",
    "import numpy as np\n",
    "import pandas as pd\n",
    "from scipy.stats import pearsonr\n",
    "\n",
    "import matplotlib.pyplot as plt\n",
    "\n",
    "from pyplink import PyPlink\n",
    "\n",
    "import statsmodels.api as sm\n",
    "\n",
    "from basic_tools import *\n",
    "\n",
    "\"\"\"\n",
    "\n",
    "jupyter nbconvert 5_1_association.ipynb --to script\n",
    "\n",
    "python 5_1_association.py height 1 0,1,2\n",
    "\n",
    "\n",
    "\n",
    "for i in {00..10};do python 5_1_association.py $i 1 0,1,2;done\n",
    "for i in {11..20};do python 5_1_association.py $i 1 0,1,2;done\n",
    "\n",
    "for i in {21..30};do python 5_1_association.py $i 1 0,1,2;done\n",
    "for i in {31..40};do python 5_1_association.py $i 1 0,1,2;done\n",
    "\n",
    "for i in {41..50};do python 5_1_association.py $i 1 0,1,2;done\n",
    "for i in {51..60};do python 5_1_association.py $i 1 0,1,2;done\n",
    "\n",
    "for i in {61..70};do python 5_1_association.py $i 1 0,1,2;done\n",
    "for i in {71..80};do python 5_1_association.py $i 1 0,1,2;done\n",
    "\n",
    "for i in {81..90};do python 5_1_association.py $i 1 0,1,2;done\n",
    "for i in {91..97};do python 5_1_association.py $i 1 0,1,2;done\n",
    "\n",
    "\n",
    "for i in {00..10};do python 5_1_association.py $i 2 0;done\n",
    "for i in {11..20};do python 5_1_association.py $i 2 0;done\n",
    "\n",
    "for i in {21..30};do python 5_1_association.py $i 2 0;done\n",
    "for i in {31..40};do python 5_1_association.py $i 2 0;done\n",
    "\n",
    "for i in {41..50};do python 5_1_association.py $i 2 0;done\n",
    "for i in {51..60};do python 5_1_association.py $i 2 0;done\n",
    "\n",
    "for i in {61..70};do python 5_1_association.py $i 2 0;done\n",
    "for i in {71..80};do python 5_1_association.py $i 2 0;done\n",
    "\n",
    "for i in {81..90};do python 5_1_association.py $i 2 0;done\n",
    "for i in {91..97};do python 5_1_association.py $i 2 0;done\n",
    "\"\"\""
   ]
  },
  {
   "cell_type": "code",
   "execution_count": 2,
   "metadata": {},
   "outputs": [],
   "source": [
    "plink_KCHIP_HLA_AA_SNP_1000G=PyPlink(plink_KCHIP_HLA_AA_SNP_1000G_path)\n",
    "plink_KCHIP_HLA_AA_SNP_1000G_fam=plink_KCHIP_HLA_AA_SNP_1000G.get_fam().astype({'fid':str,'iid':str}).rename(columns={'fid':'FID','iid':'IID'})\n",
    "plink_KCHIP_HLA_AA_SNP_1000G_bim=plink_KCHIP_HLA_AA_SNP_1000G.get_bim()"
   ]
  },
  {
   "cell_type": "code",
   "execution_count": 141,
   "metadata": {},
   "outputs": [
    {
     "name": "stdout",
     "output_type": "stream",
     "text": [
      "97\n"
     ]
    }
   ],
   "source": [
    "phenotypes=pd.read_csv(pheno_all_file_path,sep='\\t')\n",
    "phenotypes=phenotypes.set_index('ID').loc[plink_KCHIP_HLA_AA_SNP_1000G_fam['IID']]\n",
    "\n",
    "binary_continuous_traits=phenotypes.columns.difference(['age','sex','cohort','diabetes'])\n",
    "print(len(binary_continuous_traits))\n",
    "\n",
    "if 'ipykernel' in sys.argv[0]:\n",
    "    ipykernel=True\n",
    "    phenotype_name='allergic_disease'\n",
    "    step_idx=1\n",
    "    mode_list=[0]\n",
    "    #phenotype_name='height'\n",
    "else:\n",
    "    ipykernel=False\n",
    "    phenotype_name=sys.argv[1]\n",
    "    step_idx=int(sys.argv[2])\n",
    "    mode_list=[int(i) for i in sys.argv[3].strip().split(',')]\n",
    "    \n",
    "if phenotype_name.isdigit():\n",
    "    phenotype_name=int(phenotype_name)\n",
    "    phenotype_name=binary_continuous_traits[phenotype_name]      "
   ]
  },
  {
   "cell_type": "code",
   "execution_count": 142,
   "metadata": {},
   "outputs": [
    {
     "data": {
      "text/plain": [
       "(15, 84)"
      ]
     },
     "execution_count": 142,
     "metadata": {},
     "output_type": "execute_result"
    }
   ],
   "source": [
    "binary_continuous_traits.tolist().index('blood_in_urine'),\\\n",
    "binary_continuous_traits.tolist().index('t2_diabetes')"
   ]
  },
  {
   "cell_type": "code",
   "execution_count": 143,
   "metadata": {},
   "outputs": [],
   "source": [
    "data_out_assoc_phenotype_path=data_out_assoc_path+phenotype_name+'/'\n",
    "pathlib.Path(data_out_assoc_phenotype_path).mkdir(parents=True, exist_ok=True)"
   ]
  },
  {
   "cell_type": "code",
   "execution_count": 144,
   "metadata": {},
   "outputs": [],
   "source": [
    "#for i in binary_continuous_traits:\n",
    "#    if not os.path.exists('data/out_assoc/{}/step_01.plink.PHENO2.glm.linear'.format(i)) and not os.path.exists('data/out_assoc/{}/step_01.plink.PHENO2.glm.logistic'.format(i)):\n",
    "#        print(i)"
   ]
  },
  {
   "cell_type": "code",
   "execution_count": 145,
   "metadata": {},
   "outputs": [
    {
     "data": {
      "text/plain": [
       "'binary'"
      ]
     },
     "execution_count": 145,
     "metadata": {},
     "output_type": "execute_result"
    }
   ],
   "source": [
    "pheno=pd.read_csv(data_out_pheno_path+phenotype_name+'.phe',sep='\\t',names=['FID','IID','pheno'])\n",
    "phenotype_type='binary' if len(pheno['pheno'][pheno['pheno']!=-9].value_counts())<3 else 'continuous'\n",
    "phenotype_type"
   ]
  },
  {
   "cell_type": "code",
   "execution_count": 146,
   "metadata": {},
   "outputs": [],
   "source": [
    "log = logging.getLogger('logger')\n",
    "log.setLevel(logging.DEBUG)\n",
    "\n",
    "log_file_name=datetime.datetime.now().strftime('%Y%m%d_%H%M%S')+'.log'\n",
    "log_file_path=data_out_assoc_phenotype_path+log_file_name\n",
    "fileHandler = logging.FileHandler(log_file_path)\n",
    "streamHandler = logging.StreamHandler()\n",
    "\n",
    "formatter = logging.Formatter('%(message)s')\n",
    "fileHandler.setFormatter(formatter)\n",
    "streamHandler.setFormatter(formatter)\n",
    "\n",
    "log.addHandler(fileHandler)\n",
    "log.addHandler(streamHandler)"
   ]
  },
  {
   "cell_type": "code",
   "execution_count": 147,
   "metadata": {},
   "outputs": [],
   "source": [
    "for step_idx_sub in range(1,step_idx):\n",
    "    if os.path.exists(data_out_assoc_phenotype_path+'step_{:02d}.cond.stop'.format(step_idx_sub)):\n",
    "        log.info(\"step_{}.cond.stop->stops \".format(step_idx_sub))\n",
    "        sys.exit()"
   ]
  },
  {
   "cell_type": "code",
   "execution_count": 148,
   "metadata": {},
   "outputs": [],
   "source": [
    "log.info_head=lambda x: log.info('-'*int((100-len(x))/2)+x+'-'*int((100-len(x))/2))"
   ]
  },
  {
   "cell_type": "code",
   "execution_count": 149,
   "metadata": {},
   "outputs": [
    {
     "name": "stderr",
     "output_type": "stream",
     "text": [
      "----------------phenotype_name: allergic_disease, phenotype_type:binary , Step : 1 ----------------\n",
      "----------------phenotype_name: allergic_disease, phenotype_type:binary , Step : 1 ----------------\n",
      "----------------phenotype_name: allergic_disease, phenotype_type:binary , Step : 1 ----------------\n",
      "----------------phenotype_name: allergic_disease, phenotype_type:binary , Step : 1 ----------------\n"
     ]
    }
   ],
   "source": [
    "log.info_head(\"phenotype_name: {}, phenotype_type:{} , Step : {} \".format(phenotype_name,phenotype_type,step_idx))"
   ]
  },
  {
   "cell_type": "code",
   "execution_count": 150,
   "metadata": {},
   "outputs": [],
   "source": [
    "#os.path.exists(data_out_assoc_phenotype_path+'step_{:02d}.cond.stop'.format(step_idx))"
   ]
  },
  {
   "cell_type": "code",
   "execution_count": 151,
   "metadata": {},
   "outputs": [],
   "source": [
    "for step_idx_sub in range(1,step_idx+1):\n",
    "\n",
    "    if os.path.exists(data_out_assoc_phenotype_path+'step_{:02d}.cond.stop'.format(step_idx_sub)):\n",
    "        log.info(\"stops cond.stop\")\n",
    "        sys.exit()"
   ]
  },
  {
   "cell_type": "code",
   "execution_count": 152,
   "metadata": {},
   "outputs": [],
   "source": [
    "#gene_bed['name2'][gene_bed['name2'].str.contains('HLA')]"
   ]
  },
  {
   "cell_type": "code",
   "execution_count": 153,
   "metadata": {},
   "outputs": [],
   "source": [
    "#gene_assign.shape"
   ]
  },
  {
   "cell_type": "code",
   "execution_count": 154,
   "metadata": {},
   "outputs": [
    {
     "name": "stdout",
     "output_type": "stream",
     "text": [
      "(209, 30)\n",
      "(207, 30)\n"
     ]
    },
    {
     "name": "stderr",
     "output_type": "stream",
     "text": [
      "/home/ch6845/tools/miniconda3/lib/python3.7/site-packages/ipykernel_launcher.py:14: SettingWithCopyWarning: \n",
      "A value is trying to be set on a copy of a slice from a DataFrame.\n",
      "Try using .loc[row_indexer,col_indexer] = value instead\n",
      "\n",
      "See the caveats in the documentation: http://pandas.pydata.org/pandas-docs/stable/indexing.html#indexing-view-versus-copy\n",
      "  \n"
     ]
    }
   ],
   "source": [
    "gene_bed_path='data/mart_export_grch37.txt'\n",
    "gene_bed=pd.read_csv(gene_bed_path,sep='\\t')\n",
    "gene_bed=gene_bed.drop(columns='Exon stable ID')\n",
    "gene_bed=gene_bed[(gene_bed['Gene start (bp)']>=plink_KCHIP_HLA_AA_SNP_1000G_bim.pos.min())&(gene_bed['Gene end (bp)']<=plink_KCHIP_HLA_AA_SNP_1000G_bim.pos.max())]\n",
    "gene_bed=gene_bed[(gene_bed['Transcript type']=='protein_coding')]\n",
    "gene_bed=gene_bed[~gene_bed.duplicated(['Gene name','Gene start (bp)','Gene end (bp)'])]\n",
    "print(gene_bed.shape)\n",
    "gene_bed=gene_bed[~gene_bed.duplicated(['Gene name'])]\n",
    "print(gene_bed.shape)\n",
    "\n",
    "gene_assign=plink_KCHIP_HLA_AA_SNP_1000G_bim[['pos']]\n",
    "\n",
    "for idx,row in gene_bed.iterrows():\n",
    "    gene_assign[row['Gene name']]=0\n",
    "    \n",
    "for idx,row in gene_bed.iterrows():    \n",
    "    gene_assign[row['Gene name']][(gene_assign['pos']>=row['Gene start (bp)'])&(gene_assign['pos']<=row['Gene end (bp)'])]=1\n",
    "\n",
    "gene_assign.columns=gene_assign.columns.str.replace('HLA-','HLA_')        \n",
    "    \n",
    "HLA_names=np.unique([i[0].split('_')[1] for i in plink_KCHIP_HLA_AA_SNP_1000G_bim[plink_KCHIP_HLA_AA_SNP_1000G_bim.index.str.contains('HLA_')].index.str.split('*')])\n",
    "\n",
    "for HLA_name in HLA_names:\n",
    "    gene_select=gene_assign[gene_assign.index.str.contains('HLA_'+HLA_name)|gene_assign.index.str.contains('SNPS_'+HLA_name)|gene_assign.index.str.contains('AA_'+HLA_name)]#print(gene_select.sort_values('pos').iloc[0],gene_select.sort_values('pos').iloc[-1])\n",
    "    HLA_name='HLA_{}'.format(HLA_name)\n",
    "    gene_assign[HLA_name][(gene_assign['pos']>=gene_select['pos'].min())&(gene_assign['pos']<=gene_select['pos'].max())]=1 "
   ]
  },
  {
   "cell_type": "code",
   "execution_count": 155,
   "metadata": {},
   "outputs": [],
   "source": [
    "covariate_df=pd.read_csv(PC_path,sep='\\t').set_index('ID').loc[plink_KCHIP_HLA_AA_SNP_1000G_fam['IID']]\n",
    "covariate_df['age']=phenotypes['age']\n",
    "covariate_df['sex']=phenotypes['sex']-1\n",
    "if np.all((pheno['pheno']==-9).values | (phenotypes['cohort']==1).values):\n",
    "    pass\n",
    "elif np.all((pheno['pheno']==-9).values | (phenotypes['cohort']==2).values):\n",
    "    pass\n",
    "elif np.all((pheno['pheno']==-9).values | (phenotypes['cohort']==3).values):\n",
    "    pass\n",
    "elif np.all((pheno['pheno']==-9).values | ((phenotypes['cohort']==1).values|(phenotypes['cohort']==2).values)):\n",
    "    covariate_df['AS']=phenotypes['cohort'].replace(1,1).replace(2,0).replace(3,0)\n",
    "elif np.all((pheno['pheno']==-9).values | ((phenotypes['cohort']==2)|(phenotypes['cohort']==3).values)):\n",
    "    covariate_df['CT']=phenotypes['cohort'].replace(1,0).replace(2,1).replace(3,0)    \n",
    "elif np.all((pheno['pheno']==-9).values | ((phenotypes['cohort']==1)|(phenotypes['cohort']==3).values)):\n",
    "    covariate_df['AS']=phenotypes['cohort'].replace(1,1).replace(2,0).replace(3,0)        \n",
    "else:\n",
    "    covariate_df['AS']=phenotypes['cohort'].replace(1,1).replace(2,0).replace(3,0)\n",
    "    covariate_df['CT']=phenotypes['cohort'].replace(1,0).replace(2,1).replace(3,0)\n",
    "    \n",
    "plink_KCHIP_HLA_AA_SNP_1000G_fam.iloc[:,:2].merge(right=covariate_df,left_on='IID',right_index=True).fillna(-9).to_csv(data_out_assoc_phenotype_path+'covar',index=None,sep='\\t')"
   ]
  },
  {
   "cell_type": "code",
   "execution_count": 40,
   "metadata": {},
   "outputs": [
    {
     "name": "stderr",
     "output_type": "stream",
     "text": [
      "conditional_list: []\n"
     ]
    }
   ],
   "source": [
    "if 0 in mode_list:\n",
    "    if os.path.exists(data_out_assoc_phenotype_path+'step_{:02d}.cond'.format(step_idx)):\n",
    "        log.warning(\"Tried to construct .cond but .cond already exists\")\n",
    "    else:\n",
    "        if step_idx==1:\n",
    "            conditional_list=[]\n",
    "            pd.Series(conditional_list).to_csv(data_out_assoc_phenotype_path+'step_{:02d}.cond'.format(step_idx),index=None,sep='\\t',header=False)                        \n",
    "        else:\n",
    "            conditional_list=[]\n",
    "            for step_idx_sub in range(1,step_idx):\n",
    "                log.info(\"step idx sub {} cond finding\".format(step_idx_sub))\n",
    "                \n",
    "                \n",
    "                GAT_result=pd.read_csv(data_out_assoc_phenotype_path+'step_{:02d}.GAT.result.tsv'.format(step_idx_sub),sep='\\t')\n",
    "                plink_result=pd.read_csv(data_out_assoc_phenotype_path+'step_{:02d}.plink.PHENO2.glm.{}'.format(step_idx_sub,'logistic' if phenotype_type=='binary' else 'linear'),sep='\\t')\n",
    "\n",
    "                GAT_result=GAT_result[(~GAT_result['marker_name'].str.contains('HLA',regex=False))|(GAT_result['marker_name'].str.contains('*',regex=False))]\n",
    "                if step_idx_sub>1:\n",
    "                    conditional_list_used=pd.read_csv(data_out_assoc_phenotype_path+'step_{:02d}.cond'.format(step_idx_sub),sep='\\t',header=None)[0].values.tolist()\n",
    "                    for condition in conditional_list_used:\n",
    "                        if condition[:4]=='HLA_':\n",
    "                            GAT_result.loc[GAT_result['marker_name'].str.contains('AA_'+condition.split('_')[1]+'_',regex=False), ['P', 'coef', 'std', 'Z', 'chisq', 'df']]=np.nan\n",
    "\n",
    "                plink_result_munge=plink_result[plink_result['TEST']=='ADD'].drop(columns='#CHROM').rename(columns={'TEST':'term','ID':'marker_name','BETA':'coef','SE':'std','LOG(OR)_SE':'std','T_STAT':'Z','Z_STAT':'Z','OBS_CT':'nobs'})\n",
    "                if 'OR' in plink_result_munge.columns:\n",
    "                    plink_result_munge['coef']=np.log(plink_result_munge['OR'])\n",
    "\n",
    "                plink_result_munge['A2']=plink_result_munge.apply(lambda x: x['ALT'] if x['A1']==x['REF'] else x['REF'],axis=1)\n",
    "                plink_result_munge=plink_result_munge.drop(columns=['REF','ALT'])\n",
    "                plink_result_munge['note']='unphased biallelic'  \n",
    "                result_merge=pd.concat([GAT_result,plink_result_munge],sort=True)[['marker_name','note','term','POS','Z','coef','std','chisq','df','A1','A2','multi_allele','nobs','P']]\n",
    "\n",
    "                result_merge_sorted=result_merge.astype({'P':float}).sort_values('P')                  \n",
    "\n",
    "                result_merge.to_csv(data_out_assoc_phenotype_path+'step_{:02d}.result.tsv'.format(step_idx_sub),index=None,sep='\\t',header=True)                                        \n",
    "                result_merge_sorted.to_csv(data_out_assoc_phenotype_path+'step_{:02d}.result_sorted.tsv'.format(step_idx_sub),index=None,sep='\\t',header=True)                                        \n",
    "                \n",
    "                log.info(result_merge_sorted.iloc[:5])\n",
    "                if np.isnan(result_merge_sorted.iloc[0]['P']) or result_merge_sorted.iloc[0]['P']>5e-8:\n",
    "                    pd.Series(conditional_list).to_csv(data_out_assoc_phenotype_path+'step_{:02d}.cond.stop'.format(step_idx),index=None,sep='\\t',header=False)                        \n",
    "                    log.info(\"p value insignificant\")\n",
    "                    break\n",
    "\n",
    "                marker_name=result_merge_sorted.iloc[0].marker_name\n",
    "\n",
    "\n",
    "                if marker_name[:3]=='AA_':\n",
    "                    conditional_list.append('HLA_'+marker_name.split('_')[1])\n",
    "                elif marker_name[:5]=='SNPS_':\n",
    "                    conditional_list.append('HLA_'+marker_name.split('_')[1])\n",
    "                elif marker_name[:4]=='HLA_':\n",
    "                    conditional_list.append('HLA_'+marker_name.split('_')[1].split('*')[0])\n",
    "                elif marker_name[:9]=='INS_SNPS_':\n",
    "                    conditional_list.append('HLA_'+marker_name.split('_')[2])\n",
    "                else:\n",
    "                    #conditional_list.append(marker_name)                    \n",
    "                    r2_list=[]\n",
    "                    for idx_bim,(SNP,row) in enumerate(plink_KCHIP_HLA_AA_SNP_1000G_bim.iterrows()):\n",
    "                        r2=pearsonr(plink_KCHIP_HLA_AA_SNP_1000G.get_geno_marker(marker_name),plink_KCHIP_HLA_AA_SNP_1000G.get_geno_marker(SNP))[0]**2\n",
    "                        r2_list.append(r2)\n",
    "                    r2_df=pd.DataFrame(r2_list,index=plink_KCHIP_HLA_AA_SNP_1000G_bim.index)                \n",
    "\n",
    "                    if gene_assign[r2_df[0]>0.95][['HLA_A', 'HLA_B', 'HLA_C', 'HLA_DPA1', 'HLA_DPB1', 'HLA_DQA1', 'HLA_DQB1', 'HLA_DRB1']].sum().sum()==0:\n",
    "                        conditional_list.append(marker_name)                     \n",
    "                        log.info(\"{} not in HLA polymorphism-> added\".format(marker_name))\n",
    "                        \n",
    "                    HLA_count=gene_assign[r2_df[0]>0.7][['HLA_A', 'HLA_B', 'HLA_C', 'HLA_DPA1', 'HLA_DPB1', 'HLA_DQA1', 'HLA_DQB1', 'HLA_DRB1']].sum(axis=0).sort_values(ascending=False)\n",
    "                    print(HLA_count[HLA_count>0].index)\n",
    "                    for i in HLA_count[HLA_count>0].index:\n",
    "                        print(i)\n",
    "                        conditional_list.append(i)\n",
    "                        log.info(\"{} is strong LD with {}\".format(marker_name,i))\n",
    "                        break\n",
    "                \n",
    "                log.info('step idx {} conditional_list: {}'.format(step_idx_sub,conditional_list))\n",
    "                conditional_list=np.unique(conditional_list).tolist()\n",
    "                if step_idx_sub==step_idx-1:\n",
    "                    pd.Series(conditional_list).to_csv(data_out_assoc_phenotype_path+'step_{:02d}.cond'.format(step_idx),index=None,sep='\\t',header=False)                        \n",
    "                \n",
    "        log.info('conditional_list: {}'.format(conditional_list))\n",
    "                        "
   ]
  },
  {
   "cell_type": "code",
   "execution_count": 54,
   "metadata": {},
   "outputs": [],
   "source": [
    "if 1 in mode_list:\n",
    "    if not os.path.exists(data_out_assoc_phenotype_path+'step_{:02d}.cond'.format(step_idx)):\n",
    "        log.warning(\"cond not existing... stop GAT...\") \n",
    "        \n",
    "        \n",
    "    elif os.path.exists(data_out_assoc_phenotype_path+'step_{:02d}.GAT.result.tsv'.format(step_idx)):\n",
    "        log.warning(\"GAT result already exits\") \n",
    "        \n",
    "    else:\n",
    "        log.info(\"######################################### step {:02d} Phased Association  #########################################\".format(step_idx))\n",
    "\n",
    "\n",
    "        command='python Generic_Association_Tool/GAT.py \\\n",
    "        --assoc {assoc_mode} \\\n",
    "        --out {out} \\\n",
    "        --bfile {bfile} \\\n",
    "        --bgl-phased {bgl_phased} \\\n",
    "        --pheno {pheno} \\\n",
    "        --covar {covar} \\\n",
    "        --condition-list {cond} \\\n",
    "        --skip \"(?P<name>6:[0-9]*_[A-Z]*/[\\<\\>A-Z\\:0-9]*),(?P<name>AX\\-[0-9]*),(?P<name>AFFX\\-SP\\-[0-9]*),(?P<name>SNPS_.*),(?P<name>INS_SNPS_.*)\" \\\n",
    "        --multiallelic \"(?P<name>HLA_[0-9A-Z]*)\\*(?P<allele>[0-9:]*),(?P<name>AA_[A-Z0-9]*_[\\-0-9]*_[0-9]*_exon[0-9]*)_*(?P<allele>[A-Z]*)\"'.format(\n",
    "        assoc_mode='logistic' if phenotype_type=='binary' else 'linear',\n",
    "        out=data_out_assoc_phenotype_path+'step_{:02d}.GAT'.format(step_idx),\n",
    "        bfile=plink_1000G_path,\n",
    "        bgl_phased=phased_KCHIP_HLA_AA_SNP_path,\n",
    "        pheno=data_out_pheno_path+phenotype_name+'.phe',\n",
    "        covar=data_out_assoc_phenotype_path+'covar',   \n",
    "        cond=data_out_assoc_phenotype_path+'step_{:02d}.cond'.format(step_idx)  \n",
    "        )    \n",
    "\n",
    "        log.info(command)\n",
    "        stdout,stderr=run_subprocess(command,dry=False)\n",
    "        log.info(stdout)\n",
    "        log.error(stderr) \n",
    "\n",
    "\n",
    "\n",
    "if 2 in mode_list:\n",
    "    if not os.path.exists(data_out_assoc_phenotype_path+'step_{:02d}.cond'.format(step_idx)):\n",
    "        log.warning(\"cond not existing... stop plink...\") \n",
    "\n",
    "    elif os.path.exists(data_out_assoc_phenotype_path+'step_{:02d}.plink.PHENO2.glm.{}'.format(step_idx,'logistic' if phenotype_type=='binary' else 'linear')):\n",
    "        log.warning(\"plink result already exits\")         \n",
    "        \n",
    "    else:    \n",
    "        log.info(\"######################################### step {:02d} Unphased Association  #########################################\".format(step_idx))\n",
    "\n",
    "        command='plink2 \\\n",
    "        --bfile {bfile} \\\n",
    "        {assoc_mode} \\\n",
    "        --pheno {pheno} \\\n",
    "        --covar {covar} \\\n",
    "        --out {out} \\\n",
    "        --covar-variance-standardize \\\n",
    "        --threads 40'.format(\n",
    "        bfile=plink_KCHIP_SNP_1000G_path,\n",
    "        assoc_mode='--logistic' if phenotype_type=='binary' else '--linear',\n",
    "        pheno=data_out_pheno_path+phenotype_name+'.phe',\n",
    "        covar=data_out_assoc_phenotype_path+'step_{:02d}.GAT.covar_unphased.tsv'.format(step_idx),\n",
    "        out=data_out_assoc_phenotype_path+'step_{:02d}.plink'.format(step_idx)                                                                         \n",
    "        )\n",
    "\n",
    "        log.info(command)\n",
    "        stdout,stderr=run_subprocess(command,dry=False)\n",
    "        log.info(stdout)\n",
    "        log.error(stderr)  "
   ]
  }
 ],
 "metadata": {
  "kernelspec": {
   "display_name": "Python 3",
   "language": "python",
   "name": "python3"
  },
  "language_info": {
   "codemirror_mode": {
    "name": "ipython",
    "version": 3
   },
   "file_extension": ".py",
   "mimetype": "text/x-python",
   "name": "python",
   "nbconvert_exporter": "python",
   "pygments_lexer": "ipython3",
   "version": "3.7.3"
  }
 },
 "nbformat": 4,
 "nbformat_minor": 4
}
